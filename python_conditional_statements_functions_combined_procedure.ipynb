{
  "nbformat": 4,
  "nbformat_minor": 0,
  "metadata": {
    "colab": {
      "name": "python-conditional-statements-functions-combined-procedure",
      "provenance": [],
      "toc_visible": true,
      "authorship_tag": "ABX9TyMAAp0VmdHEKKwtBD7Nl/yb",
      "include_colab_link": true
    },
    "kernelspec": {
      "name": "python3",
      "display_name": "Python 3"
    },
    "language_info": {
      "name": "python"
    }
  },
  "cells": [
    {
      "cell_type": "markdown",
      "metadata": {
        "id": "view-in-github",
        "colab_type": "text"
      },
      "source": [
        "<a href=\"https://colab.research.google.com/github/kwaldenphd/python-conditional-statements-functions/blob/main/python_conditional_statements_functions_combined_procedure.ipynb\" target=\"_parent\"><img src=\"https://colab.research.google.com/assets/colab-badge.svg\" alt=\"Open In Colab\"/></a>"
      ]
    },
    {
      "cell_type": "markdown",
      "source": [
        "# Conditional Statements and Functions in Python\n",
        "\n",
        "<a href=\"http://creativecommons.org/licenses/by-nc/4.0/\" rel=\"license\"><img style=\"border-width: 0;\" src=\"https://i.creativecommons.org/l/by-nc/4.0/88x31.png\" alt=\"Creative Commons License\" /></a>\n",
        "This tutorial is licensed under a <a href=\"http://creativecommons.org/licenses/by-nc/4.0/\" rel=\"license\">Creative Commons Attribution-NonCommercial 4.0 International License</a>."
      ],
      "metadata": {
        "id": "tGEkEaQ-emPa"
      }
    },
    {
      "cell_type": "markdown",
      "source": [
        "## Lab Objectives\n",
        "\n",
        "By the end of this lab, students will be able to\n",
        "- Define conditional statements and conditional execution\n",
        "- Use Boolean operators and logical expressions to build conditional statements\n",
        "- Describe the differences between a while and for loop\n",
        "- Write programs that use iteration and loops to accomplish specific task prompts\n",
        "- Convert programs written using a for loop to a while loop\n",
        "- Write functions that accomplish specific tasks prompts\n",
        "\n",
        "<table>\n",
        " <tr><td>\n",
        "<img src=\"https://elearn.southampton.ac.uk/wp-content/blogs.dir/sites/64/2021/04/PanPan.png\" alt=\"Panopto logo\" width=\"50\"/></td>\n",
        "  <td><a href=\"https://notredame.hosted.panopto.com/Panopto/Pages/Viewer.aspx?id=902ca852-018f-481c-8dc4-ad590132099a\">Lab overview</a></td>\n",
        "  </tr>\n",
        "  </table>\n",
        "  \n",
        "<table>\n",
        " <tr><td>\n",
        "<img src=\"https://elearn.southampton.ac.uk/wp-content/blogs.dir/sites/64/2021/04/PanPan.png\" alt=\"Panopto logo\" width=\"50\"/></td>\n",
        "<td><a href=\"https://notredame.hosted.panopto.com/Panopto/Pages/Viewer.aspx?pid=e1651ce9-fd17-4772-ab4a-ae58010e3407\">Lecture/live coding playlist</a></td>\n",
        "  </tr>\n",
        "  </table>"
      ],
      "metadata": {
        "id": "fQU3CcNKenu9"
      }
    },
    {
      "cell_type": "markdown",
      "source": [
        "## Acknowledgements\n",
        "\n",
        "Elements of this lab procedure were adapted from materials developed by [Dr. Peter Bui](http://www3.nd.edu/~pbui/) for the [CSE 10101 \"Elements of Computing I\" course](https://www3.nd.edu/~pbui/teaching/cdt.30010.fa16/).\n",
        "- [Conditional and Alternative Execution](http://nbviewer.jupyter.org/urls/gitlab.com/snippets/25773/raw)\n",
        "- [Loops](http://nbviewer.jupyter.org/urls/gitlab.com/snippets/26115/raw)\n",
        "- [Functions](http://nbviewer.jupyter.org/urls/gitlab.com/snippets/26619/raw)\n",
        "\n",
        "Elements of this lab procedure were adapted from materials developed by [Dr. Janet Davis](https://cs.whitman.edu/~davisj/) for the the [CSC 105 \"The Digital Age\" course](https://www.cs.grinnell.edu/~davisjan/csc/105/2012S/). \n",
        "- [Laboratory: Programming in Python (Decisions and Repetition)](http://www.cs.grinnell.edu/~davisjan/csc/105/labs/python3.html)\n",
        "\n",
        "Elements of this lab procedure were adapted from materials developed by [Dr. Corey Pennycuff](https://www3.nd.edu/~cpennycu/) for the [CSE 10101 Elements of Computing (Fall 2019)](https://www3.nd.edu/~cpennycu/2019/fa-CSE10101-CDT30010.html).\n",
        "- [Control flow structures](https://www3.nd.edu/~cpennycu/2019/assets/fall/EOC/19.09.03.ipynb)\n",
        "- [Looping structures](https://www3.nd.edu/~cpennycu/2019/fa-CSE10101-CDT30010.html)\n",
        "- [Functions](https://www3.nd.edu/~cpennycu/2019/assets/fall/EOC/19.09.19.ipynb)\n",
        "- [String functions and manipulation](https://www3.nd.edu/~cpennycu/2019/assets/fall/EOC/19.10.01.ipynb)\n",
        "\n",
        "Elements of this lab procedure were adapted from materials developed by [Lindsay K. Mattock](http://lindsaymattock.net/) for the the [SLIS 5020 Computing Foundations course](http://lindsaymattock.net/computingfoundations.html). \n"
      ],
      "metadata": {
        "id": "sSXFfrtEeo08"
      }
    },
    {
      "cell_type": "markdown",
      "source": [
        "# Lecture and Live Coding\n",
        "\n",
        "Throughout this lab, you will see a Panopto icon at the start of select sections.\n",
        "\n",
        "This icon indicates there is lecture/live coding asynchronous content that accompanies this section of the lab. \n",
        "\n",
        "You can click the link in the figure caption to access these materials (ND users only).\n",
        "\n",
        "Example:\n",
        "\n",
        "<table>\n",
        " <tr><td>\n",
        "<img src=\"https://elearn.southampton.ac.uk/wp-content/blogs.dir/sites/64/2021/04/PanPan.png\" alt=\"Panopto logo\" width=\"50\"/></td>\n",
        "  <td><a href=\"https://notredame.hosted.panopto.com/Panopto/Pages/Viewer.aspx?id=902ca852-018f-481c-8dc4-ad590132099a\">Lab overview</a></td>\n",
        "  </tr>\n",
        "  </table>\n",
        "  \n",
        "<table>\n",
        " <tr><td>\n",
        "<img src=\"https://elearn.southampton.ac.uk/wp-content/blogs.dir/sites/64/2021/04/PanPan.png\" alt=\"Panopto logo\" width=\"50\"/></td>\n",
        "<td><a href=\"https://notredame.hosted.panopto.com/Panopto/Pages/Viewer.aspx?pid=e1651ce9-fd17-4772-ab4a-ae58010e3407\">Lecture/live coding playlist</a></td>\n",
        "  </tr>\n",
        "  </table>"
      ],
      "metadata": {
        "id": "ZO00BFr5eqAg"
      }
    },
    {
      "cell_type": "markdown",
      "source": [
        "# Lab Notebook Template\n",
        "\n",
        "Lab notebook template:\n",
        "- [`.py` file](https://drive.google.com/file/d/15YaqtTSVnXq_TRtSpJNzcrxDdjHEYQ0L/view?usp=sharing)\n",
        "- [Jupyter Notebook](https://colab.research.google.com/drive/1ebx8_CVmN7cvDQu-JlaqsTyQ_t0IyJWK?usp=sharing)"
      ],
      "metadata": {
        "id": "DvXUYec8erGh"
      }
    },
    {
      "cell_type": "markdown",
      "source": [
        "# Conditional Statements\n",
        "\n",
        "<table>\n",
        " <tr><td>\n",
        "<img src=\"https://elearn.southampton.ac.uk/wp-content/blogs.dir/sites/64/2021/04/PanPan.png\" alt=\"Panopto logo\" width=\"50\"/></td>\n",
        "  <td><a href=\"https://notredame.hosted.panopto.com/Panopto/Pages/Viewer.aspx?id=90f75580-7e9a-4ac6-ba47-ad8201623134\">Conditional Statements</a></td>\n",
        "  </tr>\n",
        "  </table>\n",
        "  \n",
        "1. So far, all the programs we have written work by executing each statement in the program in order, from top to bottom. \n",
        "\n",
        "2. To write programs that solve more complex problems, we need mechanisms that will allow statements to be executed in more complex ways. \n",
        "\n",
        "3. For example, we might like to execute some statements under some conditions but not others, or we might like to execute some statements multiple times. \n",
        "\n",
        "4. Behold- conditional statements!\n",
        "\n",
        "5. We can use conditional statements to change the behavior of a program based on whether specific conditions are or are not met.\n",
        "\n",
        "6. To put this another way, conditional statements check boolean expressions (i.e. conditions), and change the behavior of the program accordingly.\n"
      ],
      "metadata": {
        "id": "CtG2cikresHh"
      }
    },
    {
      "cell_type": "markdown",
      "source": [
        "## Operator Review\n",
        "\n",
        "7. Operators used to compare two objects:\n",
        "- `==`    equal to\n",
        "- `==`    equal to\n",
        "- `!=`    not equal to\n",
        "- `>=`    greater than or equal to\n",
        "- `>`     greater than\n",
        "- `<`     less than\n",
        "- `<=`    less than or equal to\n",
        "\n",
        "8. Boolean logical operators:\n",
        "- `and`   both must be true\n",
        "- `or`    one or both must be true\n",
        "- `not`   reverses the truth value\n",
        "\n",
        "9. We can use and test for conditions in a few key ways, specifically through `if` statements and `loops`.\n",
        "\n",
        "10. More on loops later, but for now..."
      ],
      "metadata": {
        "id": "PlC4hzvIetGJ"
      }
    },
    {
      "cell_type": "markdown",
      "source": [
        "## `if` Statements\n",
        "\n",
        "11. Python's comparison operators serve as conditional tests that return a True or False."
      ],
      "metadata": {
        "id": "vAeyH1z5euCN"
      }
    },
    {
      "cell_type": "code",
      "source": [
        "#set the variable number to 10\n",
        "number = 10\n",
        "\n",
        "#the following statements will return true or false\n",
        "\n",
        "# EQUAL !==\n",
        "print(number == 15)\n",
        "print(number ==10)\n",
        "\n",
        "# GREATER THAN >\n",
        "print(number > 10)\n",
        "print(number > 4)\n",
        "\n",
        "# LESS THAN <\n",
        "print(number < 10)\n",
        "print(number < 15)\n",
        "\n",
        "# GREATER THAN OR EQUAL TO >=\n",
        "print(number >= 15)\n",
        "print(number >= 10)\n",
        "\n",
        "# LESS THAN OR EQUAL TO <=\n",
        "print(number <= 4)\n",
        "print(number <= 10)\n",
        "\n",
        "#TESTING MULTIPLE CONDITIONS\n",
        "\n",
        "#AND\n",
        "print(number > 1 and number <20)\n",
        "\n",
        "#OR\n",
        "print(number ==10 or number ==20)"
      ],
      "metadata": {
        "id": "WAtBBGhHevjw"
      },
      "execution_count": null,
      "outputs": []
    },
    {
      "cell_type": "markdown",
      "source": [
        "12. `if` statements use the `if` keyword to test if a condition is true.\n",
        "\n",
        "13. `if` statements are conditional, meaning that there is a test to determine if a statement is true or false, and then the computer takes some defined action.\n",
        "\n",
        "14. The basic syntax for an `if` statement:"
      ],
      "metadata": {
        "id": "-JUTAhF_ewak"
      }
    },
    {
      "cell_type": "code",
      "source": [
        "# sample syntax for if statement\n",
        "if condition:\n",
        " statement(s)"
      ],
      "metadata": {
        "id": "JVWxfEIDexDL"
      },
      "execution_count": null,
      "outputs": []
    },
    {
      "cell_type": "markdown",
      "source": [
        "15. The `if` statement tests if a particular condition is true. And if so, executes the command nested under the initial `if` statement.\n",
        "\n",
        "16. To illustrate that another way:"
      ],
      "metadata": {
        "id": "b9nUzz26ex-o"
      }
    },
    {
      "cell_type": "code",
      "source": [
        "# sample syntax for if statement\n",
        "if this condition is true:\n",
        " then do this thing"
      ],
      "metadata": {
        "id": "51n3Yt6QezVA"
      },
      "execution_count": null,
      "outputs": []
    },
    {
      "cell_type": "markdown",
      "source": [
        "17. A couple things to note about this syntax:\n",
        "- A colon always follows the first line of an `if` statement\n",
        "- The code that will run if the statement is true is nested or intented beneath the `if` keyword\n",
        "\n",
        "18. For example, let's say we have a Python program where the variable `n` equals `0`.\n",
        "\n",
        "19. We want to write a program that, if `n` equals `0`, prints the message `n is zero`.\n",
        "\n",
        "20. We can do that using an `if` statement.\n"
      ],
      "metadata": {
        "id": "M7BMAC2te0Va"
      }
    },
    {
      "cell_type": "code",
      "source": [
        "# assign integer variable\n",
        "n = 0\n",
        "\n",
        "# if statement\n",
        "if n == 0:\n",
        " print('n is zero')"
      ],
      "metadata": {
        "id": "hFFLkxdHe1BF"
      },
      "execution_count": null,
      "outputs": []
    },
    {
      "cell_type": "markdown",
      "source": [
        "21. Let's see another `if` statement in action.\n",
        "\n",
        "22. This time, we are going to ask the user for an input, and use that input in an `if` statement."
      ],
      "metadata": {
        "id": "d7i3tgYDe151"
      }
    },
    {
      "cell_type": "code",
      "source": [
        "# assign string variable from input\n",
        "number = int(input(\"Enter a number: \"))\n",
        "\n",
        "# if statement\n",
        "if number > 0:\n",
        "  print(\"That number is positive.\")"
      ],
      "metadata": {
        "id": "ev-b3s5Se3kK"
      },
      "execution_count": null,
      "outputs": []
    },
    {
      "cell_type": "markdown",
      "source": [
        "<blockquote>Be sure to double check indentation in your code.</blockquote>\n",
        "\n",
        "23. See what happens when you enter different number values.\n",
        "\n",
        "24. If you enter a positive number, the `That number is positive` message will print. \n",
        "\n",
        "25. If you enter a negative number or zero, no message is printed. \n",
        "\n",
        "26. Now let's add a second `print` statement (a message of your choosing) at the end of the program.\n",
        "\n",
        "27. The indentation for this second `print` statement needs to match `print(\"That number is positive.\")` in the previous example.\n"
      ],
      "metadata": {
        "id": "k-SpyOJ6e4g0"
      }
    },
    {
      "cell_type": "code",
      "source": [
        "# assign integer variable from input\n",
        "number = int(input(\"Enter a number: \"))\n",
        "\n",
        "# if statement\n",
        "if number > 0:\n",
        "  print(\"That number is positive.\")\n",
        "  print('Second print statement goes here')"
      ],
      "metadata": {
        "id": "xuOt55Lje5Um"
      },
      "execution_count": null,
      "outputs": []
    },
    {
      "cell_type": "markdown",
      "source": [
        "28. How does entering different values affect the program output?\n",
        "\n",
        "29. Now, let's change the indentation for the second`print` statement.\n",
        "\n",
        "30. This time, instead of matching the `print(\"That number is positive.\")` indentation, the second print statement will be aligned with the `if` statement."
      ],
      "metadata": {
        "id": "omY3o67ne6-T"
      }
    },
    {
      "cell_type": "code",
      "source": [
        "# assign integer variable from input\n",
        "number = int(input(\"Enter a number: \"))\n",
        "\n",
        "# if statement\n",
        "if number > 0:\n",
        "  print(\"That number is positive.\")\n",
        "\n",
        "# print statement\n",
        "print('Second print statement with modified indentation')"
      ],
      "metadata": {
        "id": "GgFC-Byee-81"
      },
      "execution_count": null,
      "outputs": []
    },
    {
      "cell_type": "markdown",
      "source": [
        "31. How does modifying the indentation affect the program output?\n",
        "\n",
        "32. When Python encounters an `if` statement it checks whether the associated condition (in this case, `number > 0`) is true. \n",
        "\n",
        "33. If the condition is true, Python executes all statements that immediately follow AND are indented beneath the `if` clause. \n",
        "\n",
        "34. If the condition is false, no commands indented beneath the `if` clause are skipped. \n",
        "\n",
        "35. In either case, execution will then continue with the next un-indented statement. \n",
        "\n",
        "## `if` Statements and Strings\n",
        "\n",
        "36. The `if` statement and comparison operators work for comparing strings just like they do for comparing numbers.\n",
        "\n",
        "37. Let's write a program that asks the user to enter a color name."
      ],
      "metadata": {
        "id": "uHf_tPA2fAgl"
      }
    },
    {
      "cell_type": "code",
      "source": [
        "# assign string variable from input\n",
        "color = input(\"Enter a color name\")\n",
        "\n",
        "# print color name message\n",
        "print(\"You entered the color \" + color)"
      ],
      "metadata": {
        "id": "BmaWZbi9fCBd"
      },
      "execution_count": null,
      "outputs": []
    },
    {
      "cell_type": "markdown",
      "source": [
        "38. Now, you want to use an `if` statement to print a message telling the user if the color they entered is your favorite color.\n",
        "\n",
        "39. If the color entered by the user is not your favorite color, no printed response is needed.\n",
        "\n",
        "40. Now, add a final line to your program that will print `Goodbye!` whenever the program ends, regardless of the color entered.\n",
        "\n",
        "41. Test your program to see if it works.\n",
        "\n",
        "42. Note- to checking whether your program works, you will have to run it at least twice, entering colors that test both possible outcomes.\n",
        "\n",
        "<blockquote>Q1: Provide your code + comments for steps 37-42.</blockquote>\n",
        "\n",
        "<blockquote>Q2: Describe how you approached writing the program for Q1.</blockquote>\n",
        "\n",
        "## `if-else` Statements\n",
        "\n",
        "43. Suppose we want to print one message when the condition (`number > 0`) is true, and a different message when the condition is false. \n",
        "\n",
        "44. We can do that by using an `else` clause along with an `if` keyword.\n",
        "\n",
        "45. The basic syntax for `if-else`:"
      ],
      "metadata": {
        "id": "ocbiTFzzfDOg"
      }
    },
    {
      "cell_type": "code",
      "source": [
        "# sample syntax for if-else statement\n",
        "if condition:\n",
        " statement(s)\n",
        "else:\n",
        " statement(s)"
      ],
      "metadata": {
        "id": "Ut28OERVfEBe"
      },
      "execution_count": null,
      "outputs": []
    },
    {
      "cell_type": "markdown",
      "source": [
        "46. The statement indented beneath the `if` keyword will only run when the `if` condition is true.\n",
        "\n",
        "47. In an `if-else` statement, the statement indented beneath `else` will only run if the `if` condition is not true (or false).\n",
        "\n",
        "48. An example that illustrates this logic:"
      ],
      "metadata": {
        "id": "y1Uy7j7QfE4S"
      }
    },
    {
      "cell_type": "code",
      "source": [
        "# ask user to enter a number\n",
        "number = input(\"Enter a number: \")\n",
        "\n",
        "# test if number is greater than zero\n",
        "if number > 0:\n",
        "  print (\"That number is positive.\")\n",
        "\n",
        "# if number is not greater than zero\n",
        "else:\n",
        "  print (\"Definitely NOT positive.\")\n",
        "\n",
        "# message that prints at end of program\n",
        "print (\"This message prints every time.\")"
      ],
      "metadata": {
        "id": "0rZ8TfYCfFwZ"
      },
      "execution_count": null,
      "outputs": []
    },
    {
      "cell_type": "markdown",
      "source": [
        "<blockquote>Q3: Return to the program you wrote for Q1 and Q2. Modify this program so it prints one message if the user enters your favorite color, and a different message if not. In addition, your program should print a final message for every user, regardless of what they entered. Include code + comments.</blockquote>\n",
        "\n",
        "## Additional Work With `if` Statements\n",
        "\n",
        "49. We can also test for values in a list."
      ],
      "metadata": {
        "id": "XIFc-YMufGph"
      }
    },
    {
      "cell_type": "code",
      "source": [
        "# create list of fruits\n",
        "fruits = ['apple', 'pear', 'orange']\n",
        "\n",
        "#a test to see if apple is on the list\n",
        "if 'apple' in fruits:\n",
        "  print('Would you like an apple?')\n",
        "else:\n",
        "  print('Sorry, we are all out of apples.')\n",
        "\n",
        "#a test to see if banana is NOT on the list\n",
        "if 'banana' not in fruits:\n",
        "  print('Yes, we have no bananas')\n",
        "else:\n",
        "  print('Would you like a banana?')"
      ],
      "metadata": {
        "id": "IjbmjIQefHrJ"
      },
      "execution_count": null,
      "outputs": []
    },
    {
      "cell_type": "markdown",
      "source": [
        "<blockquote>Q4: Explain what this program will output and why.</blockquote>\n",
        "\n",
        "50. We can check more than one condition using chained conditional statements (or chained conditionals).\n",
        "- Key term: *chained conditionals*"
      ],
      "metadata": {
        "id": "2FrhWEfHfIdK"
      }
    },
    {
      "cell_type": "code",
      "source": [
        "# set integer variables\n",
        "a = 200\n",
        "b = 33\n",
        "c = 500\n",
        "\n",
        "# if statement with chained conditional\n",
        "if a > b or a > c:\n",
        " print(\"At least one of the conditions is True\")"
      ],
      "metadata": {
        "id": "cO1kFadhfJK5"
      },
      "execution_count": null,
      "outputs": []
    },
    {
      "cell_type": "markdown",
      "source": [
        "51. We can also nest conditional statements inside another conditional statement.\n",
        "- Key term: *nested conditionals*"
      ],
      "metadata": {
        "id": "JhbEUel3fJ08"
      }
    },
    {
      "cell_type": "code",
      "source": [
        "# set integer variable\n",
        "x = 41\n",
        "\n",
        "# nested conditional statement\n",
        "if x > 10:\n",
        "  print(\"Above ten,\")\n",
        "  if x > 20:\n",
        "    print(\"and also above 20!\")\n",
        "  else:\n",
        "    print(\"but not above 20.\") "
      ],
      "metadata": {
        "id": "hxE89uEufKmH"
      },
      "execution_count": null,
      "outputs": []
    },
    {
      "cell_type": "markdown",
      "source": [
        "52. NOTE: Python works from left to right evaluating a logical expression or conditional statement. Python stops evaluating when it finds the expression is `True` or `False` based on the conditional statement.\n",
        "\n",
        "53. Syntax errors will interrupt program execution.\n",
        "\n",
        "<blockquote><a href=\"https://www.w3schools.com/python/python_conditions.asp\">Click here</a> to learn more about conditional statements in Python, via W3Schools.</blockquote>\n",
        "\n",
        "# Control Flow\n",
        "\n",
        "54. In programming languages, control flow governs the order in which a program executes.\n",
        "\n",
        "55. In Python, control flow is regulated through conditional statements, loops, and function calls- all things we will be covering in this lab!\n",
        "\n",
        "56. Examples include:\n",
        "- `if` statements\n",
        "- `for` and `while` loops\n",
        "- Functions\n",
        "\n",
        "57. A few examples of control flow and conditional execution in action.\n",
        "\n",
        "`if` statement example"
      ],
      "metadata": {
        "id": "yTZKzjcpfMRh"
      }
    },
    {
      "cell_type": "code",
      "source": [
        "# declares a variable\n",
        "a = 2019\n",
        "\n",
        "# declares b variable\n",
        "b = 2000\n",
        "\n",
        "# ‘if’ conditional statement that compares the two variables and prints the output if the condition is met    \n",
        "if b > a:\n",
        " print(\"b is greater than a\")"
      ],
      "metadata": {
        "id": "478-a_5afNzw"
      },
      "execution_count": null,
      "outputs": []
    },
    {
      "cell_type": "markdown",
      "source": [
        "`if-else` statement example\n"
      ],
      "metadata": {
        "id": "NdRLF3yHfOeC"
      }
    },
    {
      "cell_type": "code",
      "source": [
        "# declares x variable\n",
        "x = .01\n",
        "\n",
        "# reassigns x variable\n",
        "x = x + .01\n",
        "\n",
        "# reassigns x variable a second time\n",
        "x = x * 50\n",
        "\n",
        "# conditional statement using if--else\n",
        "if x == 1:\n",
        " print('Yes')\n",
        "else:\n",
        " print('No')"
      ],
      "metadata": {
        "id": "PAUr4nmKfPgl"
      },
      "execution_count": null,
      "outputs": []
    },
    {
      "cell_type": "markdown",
      "source": [
        "58. The previous section of the lab focused on the `if` and `if..else` keywords.\n",
        "\n",
        "59. We can also use the `elif` keyword along with the `if` keyword to introduce a new condition. \n",
        "\n",
        "60. Python will test the `elif` condition if previous conditions are not true.\n",
        "\n",
        "`elif` statement example"
      ],
      "metadata": {
        "id": "lpOxlDFXfQkK"
      }
    },
    {
      "cell_type": "code",
      "source": [
        "# declares x variable\n",
        "x = 1\n",
        "\n",
        "# block of code that runs if x is less than 0\n",
        "if x < 0:\n",
        " print(\"x is less than 0\")\n",
        "\n",
        "# block of code that runs if x equals zero\n",
        "elif x == 0:\n",
        " print(\"x is equal to 0\")\n",
        "\n",
        "# block of code that runs if x is greater than 0\n",
        "else:\n",
        " print(\"x is greater than 0\")"
      ],
      "metadata": {
        "id": "jzQPDwnFfRmA"
      },
      "execution_count": null,
      "outputs": []
    },
    {
      "cell_type": "markdown",
      "source": [
        "Another `elif` example:\n"
      ],
      "metadata": {
        "id": "UjPAY3dJfSaX"
      }
    },
    {
      "cell_type": "code",
      "source": [
        "# assign a variable \n",
        "a = 33\n",
        "\n",
        "# assign b variable \n",
        "b = 33\n",
        "\n",
        "# conditional statement using if\n",
        "if b > 1:\n",
        " print(\"b is greater than a\")\n",
        " \n",
        "# conditional statment using elif to test, only when if statement is false\n",
        "elif a == b:\n",
        " print(\"a and b are equal\")"
      ],
      "metadata": {
        "id": "YRI43-pifTS4"
      },
      "execution_count": null,
      "outputs": []
    },
    {
      "cell_type": "markdown",
      "source": [
        "`elif` example with chained conditional statements\n"
      ],
      "metadata": {
        "id": "baj9MpyPfT5C"
      }
    },
    {
      "cell_type": "code",
      "source": [
        "# assign a variable\n",
        "a = 2020\n",
        "\n",
        "# assign b variable\n",
        "b = 2019\n",
        "\n",
        "# assign c variable\n",
        "c = 2018\n",
        "\n",
        "# chained conditional statements using and\n",
        "if a > b and c > a:\n",
        " print(\"Both conditions are True\")\n",
        " \n",
        "# chained conditional statements using or\n",
        "if a > b or a > c:\n",
        " print(\"At least one of these conditions is true\")"
      ],
      "metadata": {
        "id": "aRPiAbrffVAG"
      },
      "execution_count": null,
      "outputs": []
    },
    {
      "cell_type": "markdown",
      "source": [
        "# Loops\n",
        "\n",
        "<table>\n",
        " <tr><td>\n",
        "<img src=\"https://elearn.southampton.ac.uk/wp-content/blogs.dir/sites/64/2021/04/PanPan.png\" alt=\"Panopto logo\" width=\"50\"/></td>\n",
        "  <td><a href=\"https://notredame.hosted.panopto.com/Panopto/Pages/Viewer.aspx?id=30a8ce41-a003-4115-b651-ad820162306f\">Loops</a></td>\n",
        "  </tr>\n",
        "  </table>\n",
        "  \n",
        "\n",
        "61. Loop statements are a type of conditional statement that rely on the underlying logic of conditional execution.\n",
        "\n",
        "62. In Python, loops repeatedly execute a series of tasks.\n",
        "- Key term: *loop(s), looping*\n",
        "\n",
        "63. Each time through the body of a loop is called an iteration.\n",
        "- Key term: *iteration*\n",
        "\n",
        "64. An iteration can involve things like iterating through items in a list or testing if specific conditions are met, and then doing “something” as the result or endpoint for the loop.\n",
        "\n",
        "65. Loops normally contains a variable that changes within the body of the loop so that we can eventually exit the loop. \n",
        "\n",
        "66. If a loop never exits, then this is called an infinite loop.\n",
        "- Key term: *infinite loop*\n",
        "\n",
        "67. In short, the computer will continue to follow the loop instructions, until it can’t perform that function any longer. "
      ],
      "metadata": {
        "id": "lJ_qRxdLfWYr"
      }
    },
    {
      "cell_type": "markdown",
      "source": [
        "## `for` Loops\n",
        "\n",
        "<table>\n",
        " <tr><td>\n",
        "<img src=\"https://elearn.southampton.ac.uk/wp-content/blogs.dir/sites/64/2021/04/PanPan.png\" alt=\"Panopto logo\" width=\"50\"/></td>\n",
        "  <td><a href=\"https://notredame.hosted.panopto.com/Panopto/Pages/Viewer.aspx?id=30a8ce41-a003-4115-b651-ad820162306f\">For Loops</a></td>\n",
        "  </tr>\n",
        "  </table>\n",
        "  \n",
        "68. `for` loops let us iterate through a definite set of objects.\n",
        "\n",
        "69. In each iteration through the `for` loop, Python will:\n",
        "- Extract one element from the dataset\n",
        "- Execute the body of the `for` loop using the item bound to the element\n",
        "- Go back to the first step\n",
        "- Keep iterating through the loop until reaching the end of the dataset\n",
        "\n",
        "70. The basic syntax in a `for` loop:"
      ],
      "metadata": {
        "id": "1k9CsMrJfXj3"
      }
    },
    {
      "cell_type": "code",
      "source": [
        "# sample for loop syntax\n",
        "for item in dataset:\n",
        " statement(s)"
      ],
      "metadata": {
        "id": "m27owtSTfZXK"
      },
      "execution_count": null,
      "outputs": []
    },
    {
      "cell_type": "markdown",
      "source": [
        "71. In this syntax, `item` is a placeholder for each element in `dataset`. \n",
        "\n",
        "72. You can replace `item` with another word or letter character."
      ],
      "metadata": {
        "id": "6KNmTfrhfbKB"
      }
    },
    {
      "cell_type": "code",
      "source": [
        "# sample for loop syntax\n",
        "for i in dataset:\n",
        "\tstatement(s)"
      ],
      "metadata": {
        "id": "NkE46vn1fb5J"
      },
      "execution_count": null,
      "outputs": []
    },
    {
      "cell_type": "markdown",
      "source": [
        "73. In this syntax, `dataset` stands for the list of items we want Python to iterate over.\n",
        "\n",
        "74. That list of items could be a list variable, a list of numbers, a string of characters, etc.\n",
        "\n",
        "### `for` Loops and Lists of Numbers\n",
        "\n",
        "75. Let's say we have a list of numbers, and we want Python to iterate through each number in the list and print the number."
      ],
      "metadata": {
        "id": "nGktaHvVfc9W"
      }
    },
    {
      "cell_type": "code",
      "source": [
        "# for loop that iterates over integers in list\n",
        "for i in [0, 1, 2, 3]:\n",
        " print(i)"
      ],
      "metadata": {
        "id": "A2Mh14ulfd2v"
      },
      "execution_count": null,
      "outputs": []
    },
    {
      "cell_type": "markdown",
      "source": [
        "76. Alternatively, we could create a variable for our list of numbers.\n"
      ],
      "metadata": {
        "id": "gwIEXeRIfeoB"
      }
    },
    {
      "cell_type": "code",
      "source": [
        "# create list of numbers\n",
        "number_list = [0, 1, 2, 3]\n",
        "\n",
        "# for loop\n",
        "for i in number_list:\n",
        " print(i)"
      ],
      "metadata": {
        "id": "5y9KTxlKffcu"
      },
      "execution_count": null,
      "outputs": []
    },
    {
      "cell_type": "markdown",
      "source": [
        "77. The loop command steps through the list one value at a time. \n",
        "\n",
        "78. The loop continues until it reaches the end of the list. \n",
        "\n",
        "### `for` Loops and Strings\n",
        "\n",
        "79. We can also use a `for` loop to iterate over a list of strings.\n",
        "\n",
        "80. Let's say we have a list of pepper types."
      ],
      "metadata": {
        "id": "7pDmmBpZfgeK"
      }
    },
    {
      "cell_type": "code",
      "source": [
        "# create list of strings\n",
        "peppers = [\"bell\", \"poblano\", \"jalapeno\", “banana”, “chile”, “cayenne”]"
      ],
      "metadata": {
        "id": "FNe3xv9pfhnc"
      },
      "execution_count": null,
      "outputs": []
    },
    {
      "cell_type": "markdown",
      "source": [
        "81. We can use a `for` loop to iterate over each string in the list.\n"
      ],
      "metadata": {
        "id": "DqtU7qEMfi9y"
      }
    },
    {
      "cell_type": "code",
      "source": [
        "# for loop that iterates over strings in list\n",
        "for x in peppers:\n",
        " print(x)"
      ],
      "metadata": {
        "id": "cTkMR16TfhtZ"
      },
      "execution_count": null,
      "outputs": []
    },
    {
      "cell_type": "markdown",
      "source": [
        "82. We can also use a `for` loop to iterate through characters in a single string.\n",
        "\n",
        "83. Let's say we want to iterate over the characters in the string `elements`."
      ],
      "metadata": {
        "id": "rmDVERYDfke3"
      }
    },
    {
      "cell_type": "code",
      "source": [
        "# for loop that iterates over characters in string\n",
        "for x in 'elements':\n",
        " print(x)"
      ],
      "metadata": {
        "id": "5kf3mNq-flJ2"
      },
      "execution_count": null,
      "outputs": []
    },
    {
      "cell_type": "markdown",
      "source": [
        "Alternate syntax for that program:\n"
      ],
      "metadata": {
        "id": "G9OGqkwnfl3S"
      }
    },
    {
      "cell_type": "code",
      "source": [
        "# assign string variable\n",
        "string = 'elements'\n",
        "\n",
        "# for loop that iterates over characters in s tring\n",
        "for x in string:\n",
        " print(x)"
      ],
      "metadata": {
        "id": "CFAtEze7fmgB"
      },
      "execution_count": null,
      "outputs": []
    },
    {
      "cell_type": "markdown",
      "source": [
        "### Other `for` Loop Functions\n"
      ],
      "metadata": {
        "id": "9NzYGZG-fnG1"
      }
    },
    {
      "cell_type": "markdown",
      "source": [
        "#### `range()`\n",
        "\n",
        "84. We can use the `range()` function to generate a list of numbers."
      ],
      "metadata": {
        "id": "RfF8WUpCfn6E"
      }
    },
    {
      "cell_type": "markdown",
      "source": [
        "85. We can use the `range()` function as part of a `for` loop.\n"
      ],
      "metadata": {
        "id": "vd7LaS0HfojY"
      }
    },
    {
      "cell_type": "markdown",
      "source": [
        "#### `enumerate()`\n",
        "\n",
        "86. In a previous lab, we talked about how each item in a list has an index, or a number that indicates its position in the list.\n",
        "\n",
        "87. We can use the `enumerate()` function to generate a list of pairs containing each item in the list and its index."
      ],
      "metadata": {
        "id": "C39amMLJfpOW"
      }
    },
    {
      "cell_type": "code",
      "source": [
        "# create list using enumerate\n",
        "list(enumerate(['a','b','c'])"
      ],
      "metadata": {
        "id": "TunnQHReft0h"
      },
      "execution_count": null,
      "outputs": []
    },
    {
      "cell_type": "markdown",
      "source": [
        "88. We can use the `enumerate()` function as part of a `for` loop.\n"
      ],
      "metadata": {
        "id": "yWk-TYdwfqHD"
      }
    },
    {
      "cell_type": "code",
      "source": [
        "# for loop that iterates over list index and values\n",
        "for index, letter in enumerate('abc'):\n",
        " print(index, letter)"
      ],
      "metadata": {
        "id": "D71nZUz3fu5B"
      },
      "execution_count": null,
      "outputs": []
    },
    {
      "cell_type": "markdown",
      "source": [
        "89. In this last example, `for index, letter` instructed Python to iterate over both components in the `enumerate()` output.\n",
        "\n",
        "90. `print(index, letter)` instructed Python to print both components for each element.\n",
        "\n",
        "### Other `for` Loop Considerations\n",
        "\n",
        "91. Let's say we have a nested list, or a list that contains sub-lists."
      ],
      "metadata": {
        "id": "J5TM4KLRfrA5"
      }
    },
    {
      "cell_type": "code",
      "source": [
        "# create list with  sublists or nested lists\n",
        "numlist = [[0, 42], [67543, -987654]]"
      ],
      "metadata": {
        "id": "jtoEpsUffwyD"
      },
      "execution_count": null,
      "outputs": []
    },
    {
      "cell_type": "markdown",
      "source": [
        "<blockquote>Q5: What do you think will happen if we write a for loop for numlist? What would be a single element in the list?</blockquote>\n",
        "\n",
        "92. Remember in a nested list, or a list with sub-lists, each sub-list is an item or element in the list.\n",
        "\n",
        "<blockquote><a href=\"https://www.w3schools.com/python/python_for_loops.asp\">Click here</a> to learn more about <code>for</code> loops in Python, via W3Schools.</blockquote>\n",
        "\n",
        "### `for` Loops: Putting It All Together\n",
        "\n",
        "93. Let's start combining `for` loops with some of the concepts covered in previous labs.\n",
        "\n",
        "A sample `for` loop that iterates over members of the House Stark:"
      ],
      "metadata": {
        "id": "LLsFGIJ5fsQv"
      }
    },
    {
      "cell_type": "code",
      "source": [
        "# create list of strings\n",
        "characters = ['Arya', ' Benjen', 'Bran', 'Catelyn', 'Eddard', 'Rickon', 'Robb', 'Sansa']\n",
        "\n",
        "# iterate over strings in list\n",
        "for character in characters:\n",
        "  print(character.title() + \"Stark\")"
      ],
      "metadata": {
        "id": "6EVgmx4wfy5H"
      },
      "execution_count": null,
      "outputs": []
    },
    {
      "cell_type": "markdown",
      "source": [
        "<blockquote>Note the use of the plural for the name of the list and the singular for the individual item is not required. We are just declaring variables here. We can use anything to name the individual items (e.g. for person in characters). All this does is set a new variable for the individual item. Standard convention is to use the plural and singular terms so that the person reading the code can interpret what it is doing.</blockquote>\n",
        "\n",
        "94. Remember the loop command steps through the list one value at a time. The loop continues until it reaches the end of the list. \n",
        "\n",
        "95. In this case, for each item in the list called `“characters”` the program prints the value of each `“character”` in the list concatenated with the string `\" Stark”`. \n",
        "\n",
        "96. This produces the output:\n",
        "```\n",
        "Arya Stark\n",
        "Benjen Stark\n",
        "Bran Stark\n",
        "Catelyn Stark\n",
        "Eddard Stark\n",
        "Rickon Stark\n",
        "Robb Stark\n",
        "Sansa Stark\n",
        "```\n",
        "\n",
        "97. Now let's look at a different loop."
      ],
      "metadata": {
        "id": "g5SU3VDDf0dS"
      }
    },
    {
      "cell_type": "code",
      "source": [
        "# create list of strings\n",
        "characters = ['Arya', ' Benjen', 'Bran', 'Catelyn', 'Eddard', 'Rickon', 'Robb', 'Sansa']\n",
        "\n",
        "# print statement\n",
        "print('Members of the House Stark:')\n",
        "\n",
        "# for loop that outputs list items in title case\n",
        "for character in characters:\n",
        "  print(character.title() + \" Stark\")\n",
        "  \n",
        "# final print statement\n",
        "print(characters[0].title() + \" is my favorite.\")"
      ],
      "metadata": {
        "id": "08sJVePdf1ye"
      },
      "execution_count": null,
      "outputs": []
    },
    {
      "cell_type": "markdown",
      "source": [
        "<blockquote>Q6: What do you expect this code to output? Explain how this program works in your own words.</blockquote>\n",
        "\n",
        "98. Comments that walk through each line of this program:"
      ],
      "metadata": {
        "id": "RKH9c8pWf4mq"
      }
    },
    {
      "cell_type": "code",
      "source": [
        "#this line creates the list of character names\n",
        "characters = ['Arya', ' Benjen', 'Bran', 'Catelyn', 'Eddard', 'Rickon', 'Robb', 'Sansa']\n",
        "\n",
        "#this first print command prints a header for my list \"Members of the House Stark\"\n",
        "print('Members of the House Stark:')\n",
        "\n",
        "#here is the loop from the previous example\n",
        "for character in characters:\n",
        "  #the indentation is important here. This indent indicates that this print command is part of the loop\n",
        "  print(character.title() + \" Stark\")\n",
        "  \n",
        "#this line is not indented, so it is executed after the loop is complete.  \n",
        "print(characters[0].title() + \" is my favorite.\")"
      ],
      "metadata": {
        "id": "7-JA2ih2gKpa"
      },
      "execution_count": null,
      "outputs": []
    },
    {
      "cell_type": "markdown",
      "source": [
        "### Conditional Statements and `for` Loops\n",
        "\n",
        "99. We can also use nested conditional statements as part of `for` loops."
      ],
      "metadata": {
        "id": "lIuD3iGpf51e"
      }
    },
    {
      "cell_type": "markdown",
      "source": [
        "#### `for` Loop Example A\n",
        "\n",
        "100. For example, let's say we have `message = 'Hello World!'`, and we want to see in which positions the letter `l` appears.\n",
        "\n",
        "101. Our program would need to...\n",
        "- Iterate over each character in the string\n",
        "- Check to see if that character matches `l`\n",
        "- If the character matches `l`, output some kind of message that indicates the position\n",
        "\n",
        "<blockquote>Q7: Describe how you would start building out code to accomplish this task? What functions, statements, or keywords would you need to use? How would you start to organize this program?</blockquote>\n",
        "\n",
        "<blockquote>Q8: See where you can get with writing this program. What parts of the program were you able to get working? Where did you run into challenges?</blockquote>\n",
        "\n",
        "102. Here is one approach to this program.\n",
        "\n",
        "103. First, we could create a variable with our `Hello World!` string."
      ],
      "metadata": {
        "id": "W7gesklSf6-9"
      }
    },
    {
      "cell_type": "code",
      "source": [
        "# assign string variable\n",
        "message = 'Hello World!'"
      ],
      "metadata": {
        "id": "7S0TqcQ1gN4p"
      },
      "execution_count": null,
      "outputs": []
    },
    {
      "cell_type": "markdown",
      "source": [
        "104. Then, we could use a `for` loop with the `enumerate()` function to access each element in the string and its index.\n"
      ],
      "metadata": {
        "id": "puX0QapVf7nl"
      }
    },
    {
      "cell_type": "code",
      "source": [
        "# for loop that outputs index-value pairs for each character in string\n",
        "for entry in enumerate(message):\n",
        " print(entry)"
      ],
      "metadata": {
        "id": "Gscg1jzjgPVW"
      },
      "execution_count": null,
      "outputs": []
    },
    {
      "cell_type": "markdown",
      "source": [
        "105. This gets us each character in the string and its index.\n",
        "\n",
        "106. Next, we could use a conditional statement to test for equality."
      ],
      "metadata": {
        "id": "Og-4SMLVf8bL"
      }
    },
    {
      "cell_type": "code",
      "source": [
        "# conditional statement based on index value\n",
        "if entry[1] == 'l':\n",
        " print(f'Found an 'l' at position {entry[0]}')"
      ],
      "metadata": {
        "id": "pIK7aIoZgSSE"
      },
      "execution_count": null,
      "outputs": []
    },
    {
      "cell_type": "markdown",
      "source": [
        "107. In this block of code, we are accessing the second value in the `enumerate()` output for each character in the string.\n",
        "\n",
        "<blockquote>Remember: Python starts counting at zero (0).</blockquote>\n",
        "\n",
        "108. Each iteration through the loop tests if the `entry` character matches `l`.\n",
        "\n",
        "109. If the conditional statement is true, then the `print()` message will output the position index.\n",
        "\n",
        "110. To put that all together:"
      ],
      "metadata": {
        "id": "FyEjBJeMf9Xg"
      }
    },
    {
      "cell_type": "code",
      "source": [
        "# assign string variable\n",
        "message = 'Hello World!'\n",
        "\n",
        "# for loop that outputs index-value pairs for each character in string\n",
        "for entry in enumerate(message):\n",
        "\tprint(entry)\n",
        "\t\n",
        "\t# conditional statement based on index value\n",
        "\tif entry[1] == 'l':\n",
        " \t\tprint(f'Found an \"l\" at position {entry[0]}')"
      ],
      "metadata": {
        "id": "aTTvUchlgUIS"
      },
      "execution_count": null,
      "outputs": []
    },
    {
      "cell_type": "markdown",
      "source": [
        "111. You can modify this code to include other messages or test for other characters.\n",
        "\n",
        "<blockquote>Q9: How does the sample program compare to your approach to the previous two questions? What was similar? What was different? How are you thinking differently (if at all) about how to approach this type of program?</blockquote>\n",
        "\n",
        "#### `for` Loop Example B\n",
        "\n",
        "112. Let's work through another example.\n",
        "\n",
        "113. This time, let's say we have a list of names that might be used to refer to Notre Dame's Department of Computer Science and Engineering.\n"
      ],
      "metadata": {
        "id": "vE-odys6f-xs"
      }
    },
    {
      "cell_type": "code",
      "source": [
        "# create list of strings\n",
        "names=['department of computer science and engineering', 'computer science department', 'cse']"
      ],
      "metadata": {
        "id": "qSgj6uZVgWCx"
      },
      "execution_count": null,
      "outputs": []
    },
    {
      "cell_type": "markdown",
      "source": [
        "114. We want to write a program that prints out `cse` in all upper-case letters, but prints out any other list element in title case.\n",
        "\n",
        "115. Our program would need to...\n",
        "- Iterate over each element in the list\n",
        "- Check to see if that element matches `cse`\n",
        "- If so, print out that element in upper case\n",
        "- Otherwise, print out that element in title case\n",
        "\n",
        "<blockquote>Q10: Describe how you would start building out code to accomplish this task? What functions, statements, or keywords would you need to use? How would you start to organize this program?</blockquote>\n",
        "\n",
        "<blockquote>Q11: See where you can get with writing this program. What parts of the program were you able to get working? Where did you run into challenges?</blockquote>\n",
        "\n",
        "116. Here is one approach to this program.\n",
        "\n",
        "117. First, we could use a `for` loop to iterate through each item in the list."
      ],
      "metadata": {
        "id": "PlCQE6bygAAN"
      }
    },
    {
      "cell_type": "code",
      "source": [
        "# sample for loop syntax\n",
        "for name in names:\n",
        " SOMETHING WILL GO HERE"
      ],
      "metadata": {
        "id": "ltHGxtfNgXbb"
      },
      "execution_count": null,
      "outputs": []
    },
    {
      "cell_type": "markdown",
      "source": [
        "118. Then, we could use an `if` statement to test if the element equals `cse`\n"
      ],
      "metadata": {
        "id": "g5vKGXmwgAvr"
      }
    },
    {
      "cell_type": "code",
      "source": [
        "# first condition\n",
        "if name == 'cse':\n",
        " DO SOMETHING "
      ],
      "metadata": {
        "id": "F_lkH10PgYmU"
      },
      "execution_count": null,
      "outputs": []
    },
    {
      "cell_type": "markdown",
      "source": [
        "119. Now remember if the element matches `cse`, we want to print the element in upper-case letters.\n",
        "\n",
        "120. So we could finish the `if` statement."
      ],
      "metadata": {
        "id": "32m3qykVgBYw"
      }
    },
    {
      "cell_type": "code",
      "source": [
        "# first condition with print statements\n",
        "if name == 'cse':\n",
        " print(name.upper())"
      ],
      "metadata": {
        "id": "Sg8kj1DOgaEl"
      },
      "execution_count": null,
      "outputs": []
    },
    {
      "cell_type": "markdown",
      "source": [
        "121. If the element does not match `cse`, we want to print the element in title-case letters.\n",
        "\n",
        "122. We can use an `else` statement combined with a `print()` statement.\n"
      ],
      "metadata": {
        "id": "2pY2j1hogCTi"
      }
    },
    {
      "cell_type": "code",
      "source": [
        "# else statement\n",
        "else:\n",
        " print(name.title())"
      ],
      "metadata": {
        "id": "ynwoB1fDgb_z"
      },
      "execution_count": null,
      "outputs": []
    },
    {
      "cell_type": "markdown",
      "source": [
        "123. To put that all together:\n"
      ],
      "metadata": {
        "id": "Scuc6M7-gDHf"
      }
    },
    {
      "cell_type": "code",
      "source": [
        "# list of strings\n",
        "names=['department of computer science and engineering', 'computer science department', 'cse']\n",
        "\n",
        "# for loop with if-else statement\n",
        "for name in names:\n",
        "  if name == 'cse':\n",
        "    print(name.upper())\n",
        "  else:\n",
        "    print(name.title())"
      ],
      "metadata": {
        "id": "RpZtwNr9gdV0"
      },
      "execution_count": null,
      "outputs": []
    },
    {
      "cell_type": "markdown",
      "source": [
        "124. This program returns the output\n",
        "```Python\n",
        "`Department of Computer Science and Engineering`\n",
        "`Computer Science Department`\n",
        "`CSE`\n",
        "```\n",
        "\n",
        "<blockquote>Q12: How does the sample program compare to your approach to the previous two questions? What was similar? What was different? How are you thinking differently (if at all) about how to approach this type of program?</blockquote>\n",
        "\n",
        "### OPTIONAL: Additional Practice With `for` Loops\n",
        "\n",
        "125. Some tasks if you are wanting additional practice with `for` loops:\n",
        "- Sum all of the odd numbers between 0 and 100.\n",
        "- Find the smallest item in a list of numbers.\n",
        "- Simulate rolling a die until we reach a 5."
      ],
      "metadata": {
        "id": "8BYl4xb6gErd"
      }
    },
    {
      "cell_type": "markdown",
      "source": [
        "## `while` Loops\n",
        "\n",
        "<table>\n",
        " <tr><td>\n",
        "<img src=\"https://elearn.southampton.ac.uk/wp-content/blogs.dir/sites/64/2021/04/PanPan.png\" alt=\"Panopto logo\" width=\"50\"/></td>\n",
        "  <td><a href=\"https://notredame.hosted.panopto.com/Panopto/Pages/Viewer.aspx?id=455a835f-05c1-4cc9-ae21-ad59014f29ea\">While Loops</a></td>\n",
        "  </tr>\n",
        "  </table>\n",
        "  \n",
        "126. Another way to modify the control flow of a program is to have it execute one or more statements repeatedly.\n",
        "\n",
        "127. A `while` loop will test for an initial condition and continue iterating through the loop until the condition is `False`.\n",
        "\n",
        "128. In each iteration through the `while` loop, Python will:\n",
        "- Evaluate the initial condition (which is a Boolean true/false expression)\n",
        "- If the condition is `False`, exit the loop and continue the program\n",
        "- If the condition is `True`, then execute other statements in the body of the loop and return to the beginning of the loop\n",
        "\n",
        "129. The basic syntax for a `while` loop:"
      ],
      "metadata": {
        "id": "lPYjJVkYgfS_"
      }
    },
    {
      "cell_type": "code",
      "source": [
        "# while loop sample syntax\n",
        "while condition:\n",
        "\tstatement(s)"
      ],
      "metadata": {
        "id": "nLBI_yvHggwf"
      },
      "execution_count": null,
      "outputs": []
    },
    {
      "cell_type": "markdown",
      "source": [
        "130. To express this logic another way:\n"
      ],
      "metadata": {
        "id": "EF99du--ghTh"
      }
    },
    {
      "cell_type": "code",
      "source": [
        "# while loop sample syntax\n",
        "while THIS CONDITION IS TRUE:\n",
        "\tDO THIS THING"
      ],
      "metadata": {
        "id": "MTa-WGPPgh9o"
      },
      "execution_count": null,
      "outputs": []
    },
    {
      "cell_type": "markdown",
      "source": [
        "### `while` Loop Examples\n"
      ],
      "metadata": {
        "id": "NLwEI0H4gi0S"
      }
    },
    {
      "cell_type": "markdown",
      "source": [
        "#### `while` Loop Example A\n",
        "\n",
        "131. Let's look at a sample `while` loop that uses the `<` (less than) comparison operator."
      ],
      "metadata": {
        "id": "WsoLA2DWgjqI"
      }
    },
    {
      "cell_type": "code",
      "source": [
        "# assign integer variable\n",
        "n = 0\n",
        "\n",
        "# while loop\n",
        "while n < 10: # initial condition\n",
        " print(n) # print statement\n",
        " n = n +1 # reassign value of n"
      ],
      "metadata": {
        "id": "OeaGtGurgkWA"
      },
      "execution_count": null,
      "outputs": []
    },
    {
      "cell_type": "markdown",
      "source": [
        "132. To walk through what is happening in each line of this program...\n",
        "\n",
        "133. `n=0` assigns the value zero (0) to the variable `n`.\n",
        "\n",
        "134. `n < 10` is a conditional statement that will return `True` as long as `n` is less than `10`.\n",
        "\n",
        "135. So `while n < 10` sets up a `while` loop in which the body of the loop (the lines of code nested or indented beneath the first line of the loop) will run as long as the initial condition is `true`.\n",
        "\n",
        "136. The first line in the body of the loop `print(n)` prints the value of `n` for that iteration.\n",
        "\n",
        "137. The second line in the body of the loop `n = n+1` reassigns the value of `n` to be `n + 1`.\n",
        "\n",
        "138. After executing both lines in the body of the loop, the next iteration of the loop begins by evaluating the `n < 10` conditional statement.\n",
        "\n",
        "<blockquote>Q13: What is the value of <code>n</code> in the first iteration of the loop? What happens to the value of <code>n</code> in each iteration of the loop?</blockquote>\n",
        "\n",
        "<blockquote>Q14: What is the endpoint for this loop, or when will this loop end?</blockquote>\n",
        "\n",
        "139. REMINDER: Loops that have no endpoint are called *infinite loops*.\n",
        "\n",
        "#### `while` Loop Example B\n",
        "\n",
        "140. Another example of a `while` loop."
      ],
      "metadata": {
        "id": "ABYmlDTmgluu"
      }
    },
    {
      "cell_type": "code",
      "source": [
        "# assign x variable\n",
        "x = 10\n",
        "\n",
        "# looping structure using greater than or equal to conditional statement\n",
        "while x >= 0: # initial condition\n",
        " print(x) # print statement\n",
        " x = x-1 # reassign x\n",
        "\n",
        "# message to print once loop has completed\n",
        "print(\"I'm done!\")"
      ],
      "metadata": {
        "id": "390fLqtdgnai"
      },
      "execution_count": null,
      "outputs": []
    },
    {
      "cell_type": "markdown",
      "source": [
        "<blockquote>Q15: Now it's your turn. Describe what is happening in each line of this program. You can use the explanations for the previous example as a model.</blockquote>\n",
        "\n",
        "<blockquote>Q16: What is the value of <code>x</code> in the first iteration of the loop? What happens to the value of <code>x</code> in each iteration of the loop?</blockquote>\n",
        "\n",
        "<blockquote>Q17: What is the endpoint for this loop, or when will this loop end?</blockquote>\n",
        "\n",
        "#### `while` Loop Example C\n",
        "\n",
        "141. Let's look at a `while` loop that includes strings and integers."
      ],
      "metadata": {
        "id": "4zLafa_Hgot3"
      }
    },
    {
      "cell_type": "code",
      "source": [
        "# assign count variable\n",
        "\n",
        "count = 1\n",
        "\n",
        "# while loop\n",
        "while count <= 5: # initial condition\n",
        "   print (\"Notre\") # first print statement\n",
        "   print (\"Dame\") # second print statement\n",
        "   count = count + 1 # reassign count\n",
        "\n",
        "# final print statement\n",
        "print (\"Done\")"
      ],
      "metadata": {
        "id": "vFKMODZxgpjD"
      },
      "execution_count": null,
      "outputs": []
    },
    {
      "cell_type": "markdown",
      "source": [
        "142. On the first line (`count = 1)` we create a variable named `count` and set it equal to one. \n",
        "\n",
        "143. The next statement (`while count <= 5:`) contains a condition `count <= 5`. \n",
        "\n",
        "144. This condition will be evaluated, and if it is true, the statements indented beneath it will be executed. \n",
        "\n",
        "145. Once that has happened, execution returns to the top of the `while` loop, where the condition is checked again. \n",
        "\n",
        "146. This process will continue, with the indented statements being executed repeatedly as long as (i.e., `while`) the condition continues to be true. \n",
        "\n",
        "147. If the condition is ever false when it gets checked, execution will jump to the first statement after those associated with the loop (the first un-indented statement).\n",
        "\n",
        "<blockquote>Q18: What will happen if you remove the statement <code>count = count + 1</code> from this program? Remove the statement to verify your prediction.</blockquote>\n",
        "\n",
        "<blockquote>Q19: Modify the program from step 141 so that it prints some word or phrase nine times, and also prints a line number at the beginning of each line. Answer will include code + comments.</blockquote>\n",
        "\n",
        "148. For example, your output might look like the following: \n",
        "\n",
        "```Python\n",
        "1 Python\n",
        "2 Python\n",
        "3 Python\n",
        "4 Python\n",
        "5 Python \n",
        "6 Python\n",
        "7 Python\n",
        "8 Python\n",
        "9 Python\n",
        "IS FUN!\n",
        "```"
      ],
      "metadata": {
        "id": "TOtkJcczgq6X"
      }
    },
    {
      "cell_type": "markdown",
      "source": [
        "### Additional `while` Loop Considerations\n"
      ],
      "metadata": {
        "id": "gurcQTDVgrkJ"
      }
    },
    {
      "cell_type": "markdown",
      "source": [
        "#### `while` Loops and Nested Conditional Statements\n",
        "\n",
        "149. As with `for` loops, `while` loops let us nested conditional statements.\n",
        "\n",
        "150. We can place any valid python statement within either a while-loop or an if-statement. \n",
        "\n",
        "151. Among other things, this means that we can place loops within loops, or if-statements within if-statements. \n",
        "\n",
        "152. Similarly, we can place if-statements within loops, and vice-versa. This flexibility allows us to solve many complex problems.\n",
        "\n",
        "153. By placing an if-statement within a loop, we can solve problems that require us to make a given decision multiple times. \n",
        "\n",
        "154. An example:"
      ],
      "metadata": {
        "id": "6uZKZH9xgst_"
      }
    },
    {
      "cell_type": "code",
      "source": [
        "# assign i variable\n",
        "i = 1\n",
        "\n",
        "# while loop\n",
        "while i < 200: # initial condition\n",
        "\n",
        "\tif i > 150: # if statement\n",
        "\t\tprint('Expression value is greater than 150') # print statement\n",
        "\t\t\n",
        "\telif i > 100: # elif statement that introduces new condition\n",
        "\t\tprint('Expression value is greater than 100') # print statement\n",
        "\t\t\n",
        "\telif i > 50: # elif statement that introduces new condition\n",
        "\t\tprint('Expression value is greater than 50') # print statement\n",
        "\n",
        "\telif i < 50: # elif statement that introduces new condition\n",
        "\t\tprint('Expression value is less than 50') # print statement\n",
        "\n",
        "\t# reassign i\n",
        "\ti += 10\n",
        "\n",
        "# final print statement\n",
        "print(\"That's all, folks!\")"
      ],
      "metadata": {
        "id": "24QMHdsxguBY"
      },
      "execution_count": null,
      "outputs": []
    },
    {
      "cell_type": "markdown",
      "source": [
        "155. In this example, we have a `while` loop that includes four nested conditional statements.\n",
        "\n",
        "156. NOTE: `i += 10` in the last line of the `while` loop reassigns the value of `i` through an expression equivalent to `i = i + 10`.\n",
        "\n",
        "<blockquote>Q20: Now it's your turn. Describe what is happening in each line of this program. You can use explanations for previous examples as a model.</blockquote>\n",
        "\n",
        "<blockquote>Q21: What is the value of <code>i</code> in the first iteration of the loop? What happens to the value of <code>i</code> in each iteration of the loop?</blockquote>\n",
        "\n",
        "<blockquote>Q22: What is the endpoint for this loop, or when will this loop end?</blockquote>\n",
        "\n",
        "#### `break`\n",
        "\n",
        "157. We can exit a loop immediately by using the `break` statement.\n",
        "\n",
        "158. `break` will stop the `while` loop even if the condition is true.\n",
        "\n",
        "159. For example:\n"
      ],
      "metadata": {
        "id": "bN4vBCn_gx6r"
      }
    },
    {
      "cell_type": "code",
      "source": [
        "# assign i variable \n",
        "i = 1\n",
        "\n",
        "# while loop\n",
        "while i < 6: # initial condition\n",
        "\t\n",
        "\tprint(i) # print statement\n",
        "\n",
        "\tif i == 3: # if statement\n",
        "\t\tbreak # break statement\n",
        "\t\n",
        "\ti += 1 # reassign i"
      ],
      "metadata": {
        "id": "daA_3N2ygzdM"
      },
      "execution_count": null,
      "outputs": []
    },
    {
      "cell_type": "markdown",
      "source": [
        "160. In this example, the loop breaks as soon as the `i == 3` condition is `True`.\n",
        "\n",
        "<blockquote>Q23: Describe what would happen in each iteration of this loop. How many iterations would it take for the <code>break</code> statement to come into effect?</blockquote>\n",
        "\n",
        "#### `continue`\n",
        "\n",
        "161. We can skip the rest of the body of a loop and move on to the next iteration using `continue`.\n",
        "\n",
        "162. For example:"
      ],
      "metadata": {
        "id": "nTWHMKWmg0UZ"
      }
    },
    {
      "cell_type": "code",
      "source": [
        "# assign the i variable\n",
        "i = 0\n",
        "\n",
        "# while loop\n",
        "while i < 6: # initial condition\n",
        "\n",
        "\ti += 1 # reassign i\n",
        "\t\n",
        "\tif i ==3: # if statement\n",
        "\t\tcontinue # continue statement\n",
        "\t\n",
        "\tprint(i) # print statement"
      ],
      "metadata": {
        "id": "gkINMHhAg1RM"
      },
      "execution_count": null,
      "outputs": []
    },
    {
      "cell_type": "markdown",
      "source": [
        "163. In this example, the current iteration of the loop will stop when `i == 3` is true.\n",
        "\n",
        "164. Unlike with `break`, the loop will not end.\n",
        "\n",
        "165. Instead when `i == 3` is true, the loop will skip over the final nested `print` statement and return to the beginning of the loop for a new iteration.\n",
        "\n",
        "<blockquote>Q24: Describe what would happen in each iteration of this loop. How many iterations would it take for the <code>continue</code> statement to come into effect?</blockquote>\n",
        "\n",
        "<blockquote>Q25: What is the endpoint for this loop, or when will this loop end?</blockquote>\n",
        "\n",
        "## Additional Work With Loops\n",
        "\n",
        "166. The following lab notebook questions can use `for` or `while` loops, a variety of conditional statements and comparison operators, and other Python concepts covered thus far."
      ],
      "metadata": {
        "id": "pNeoPdT7g2g5"
      }
    },
    {
      "cell_type": "markdown",
      "source": [
        "### Lab Notebook Question 26\n",
        "\n",
        "Q26: Write a loop that prints out all numbers from 0 to 10. Include your code + comments that document how the code works."
      ],
      "metadata": {
        "id": "j0m8FzuOg3cg"
      }
    },
    {
      "cell_type": "markdown",
      "source": [
        "### Lab Notebook Question 27\n",
        "\n",
        "Q27: Convert the following Python code to use a while loop instead of a for loop. Include your modified code with comments."
      ],
      "metadata": {
        "id": "gLPp6zO7g4TL"
      }
    },
    {
      "cell_type": "code",
      "source": [
        "numbers = [5, 4, 7, 0, 1]\n",
        "count   = 0\n",
        "\n",
        "for number in numbers:\n",
        "  if count in numbers:\n",
        "    print(count)\n",
        "    count += 1\n",
        "  else:\n",
        "    break\n",
        "\n",
        "print(count)"
      ],
      "metadata": {
        "id": "Jgh-4S7jg5ga"
      },
      "execution_count": null,
      "outputs": []
    },
    {
      "cell_type": "markdown",
      "source": [
        "### Lab Notebook Question 28\n",
        "\n",
        "Q28: Write a program that prints a list of the first nine positive integers and their squares. Include code + comments.\n",
        "\n",
        "Your output should look similar to the following:\n",
        "```Python\n",
        "Number Square\n",
        "1        1\n",
        "2        4\n",
        "3        9\n",
        "4        16\n",
        "5        25\n",
        "6        36\n",
        "7        49\n",
        "8        64\n",
        "9        81\n",
        "```"
      ],
      "metadata": {
        "id": "DN8ctPaRg6u-"
      }
    },
    {
      "cell_type": "markdown",
      "source": [
        "### Lab Notebook Question 29\n",
        "\n",
        "Q29: Write a program that counts from 10 down to 1, and then prints \"Blastoff!\" \n",
        "\n",
        "Your output should similar to the following:\n",
        "```Python\n",
        "10\n",
        "9\n",
        "8\n",
        "7\n",
        "6\n",
        "5\n",
        "4\n",
        "3\n",
        "2\n",
        "1\n",
        "Blastoff!\n",
        "```\n"
      ],
      "metadata": {
        "id": "GEoGdNiig7fM"
      }
    },
    {
      "cell_type": "markdown",
      "source": [
        "### Lab Notebook Question 30\n",
        "\n",
        "Q30: Write a program that asks the user to enter three numbers: a starting value, an ending value, and an increment. Your program should then \"count\" based on these criteria, as shown in the sample output below. Include code + comments.\n",
        "\n",
        "```Python\n",
        "This program counts for you.\n",
        "Enter the starting value: 3\n",
        "Enter the ending value: 13\n",
        "Enter the increment: 2\n",
        "3\n",
        "5\n",
        "7\n",
        "9\n",
        "11\n",
        "13\n",
        "```"
      ],
      "metadata": {
        "id": "XrFjMV8Rg8og"
      }
    },
    {
      "cell_type": "markdown",
      "source": [
        "### Lab Notebook Question 31\n",
        "\n",
        "Q31: Write a program that uses a while-loop to print the output shown below. Include code + comments.\n",
        "```Python\n",
        "1\n",
        "2\n",
        "3\n",
        "4\n",
        "5\n",
        "6\n",
        "7\n",
        "happy\n",
        "8\n",
        "9\n",
        "10\n",
        "```\n",
        "\n",
        "The program should print the numbers 1 through 10, except that between 7 and 8 it should print the word \"happy\". This can be accomplished by placing an `if` statement within the `while` loop to do something special for the `lineNumber == 7` case.\n"
      ],
      "metadata": {
        "id": "1Xe648T7g9ji"
      }
    },
    {
      "cell_type": "markdown",
      "source": [
        "### Lab Notebook Question 32\n",
        "\n",
        "Q32: Write a program that plays a familiar guessing game.\n",
        "- First your program will set some number to be the \"correct answer\"\n",
        "- Then your program will ask the user to guess this answer until they get it right. \n",
        "- For each guess your program should give a hint based on whether the guess was too high or too low.\n",
        "\n",
        "For example, the output for a session with your program may look like the following:\n",
        "```Python\n",
        "Enter your guess: 46\n",
        "Your guess is too low\n",
        "\n",
        "Enter your guess: 97\n",
        "Your guess is too high\n",
        "\n",
        "Enter your guess: 62\n",
        "Your guess is too low\n",
        "\n",
        "Enter your guess: 88\n",
        "Your guess is too high\n",
        "\n",
        "Enter your guess: 82\n",
        "CORRECT! You Win!\n",
        "```\n",
        "\n",
        "Things to consider:\n",
        "- Begin your program with a line similar to: answer = 82. In a real game we would want to begin with a random number, but for today let's pick a single number that will always be the correct answer.\n",
        "- This program will require a loop with some if-statements inside it.\n",
        "- Each time through the loop, you must accept a new guess from the user. This can be done by using the function input inside the loop."
      ],
      "metadata": {
        "id": "2az4rj1bhASZ"
      }
    },
    {
      "cell_type": "markdown",
      "source": [
        "### Lab Notebook Question 33\n",
        "\n",
        "Q33: Write a program that reads in three strings and prints them out in alphabetical order. Include code + comments.\n",
        "\n",
        "Sample output for this program:\n",
        "```Python\n",
        "Enter a word: hello\n",
        "Enter a word: goodbye\n",
        "Enter a word: zebra\n",
        "In alphabetical order: goodbye hello zebra\n",
        "```\n",
        "\n",
        "Things to consider:\n",
        "- String comparisons, such as word1 < word2, work by comparing the ASCII values of the characters in the two strings. This means that word1 will be considered \"less than\" word2 if it comes first alphabetically. (Well almost. The ordering can be surprising if we compare capital letters to lower-case letters because all ASCII codes for capitals precede all codes for lower-case letters. I suggest you only enter lower-case words when running your program.)\n",
        "- Be sure to test your program using a variety of words in different orders. How many different combinations do you need to test to know that your program is correct? \n",
        "- This problem only requires if-statements, but your condition will need to be more complex than we have used before. A compound condition is one that includes multiple parts. Here are two examples. You may find that something similar will be useful in this program.\n",
        "\n",
        "```Python\n",
        "if number > 2 and number < 10:\n",
        "  **do something interesting here**\n",
        "\n",
        "if word1 > word2 and word2 > word 3:\n",
        "  **do something interesting here**\n",
        "```"
      ],
      "metadata": {
        "id": "WZLqL-vohBvg"
      }
    },
    {
      "cell_type": "markdown",
      "source": [
        "### Additional Lab Notebook Questions\n",
        "\n",
        "Q34: In your own words, what is iteration?\n",
        "\n",
        "Q35: In your own words, what is the difference between a `for` loop and a `while` loop?\n",
        "\n",
        "Q36: In your own words, what is a boolean or logical expression?\n",
        "\n",
        "Q37: In your own words, what is a conditional statement?\n",
        "\n",
        "Q38: Include a link to your Replit workspace."
      ],
      "metadata": {
        "id": "K0h9YZC-hDLJ"
      }
    },
    {
      "cell_type": "markdown",
      "source": [
        "# Functions\n",
        "\n",
        "<table>\n",
        " <tr><td>\n",
        "<img src=\"https://elearn.southampton.ac.uk/wp-content/blogs.dir/sites/64/2021/04/PanPan.png\" alt=\"Panopto logo\" width=\"50\"/></td>\n",
        "  <td><a href=\"https://notredame.hosted.panopto.com/Panopto/Pages/Viewer.aspx?id=1d06be1d-ba65-478e-a5ad-ad820162cacf\">Lab overview</a></td>\n",
        "  </tr>\n",
        "  </table>\n",
        "\n",
        "166. In Python, a function is a named sequence of statements that performs a computation.\n",
        "- Key term: *function*\n",
        "\n",
        "167. To execute a function, we call it by name and pass it an appropriate set of input arguments.\n",
        "- Key terms: *function call, input argument*\n",
        "\n",
        "168. A function takes zero or more arguments as inputs and returns zero or more outputs as a result.\n",
        "\n",
        "169. The output or result of a function is called the return value.\n",
        "- Key terms: *function output or return value*\n",
        "\n",
        "170. Data, parameters, or arguments can be passed into a function.\n",
        "\n",
        "171. Functions can also return data."
      ],
      "metadata": {
        "id": "DIehTDVnYLBE"
      }
    },
    {
      "cell_type": "markdown",
      "source": [
        "## Built-In Functions\n",
        "\n",
        "172. We have actually already been working with a number of Python's built-in functions.\n",
        "\n",
        "173. These include `print()`, `dict()`, `input()`, `int()`, and `len()`.\n",
        "\n",
        "174. We call built-in functions using the function name, followed by parenthesis.\n",
        "- `print()`\n",
        "- `dict()`\n",
        "- `input()`\n",
        "- `int()`\n",
        "- `len()`"
      ],
      "metadata": {
        "id": "M4RB8UFZoLAS"
      }
    },
    {
      "cell_type": "markdown",
      "source": [
        "## Named Functions\n",
        "\n",
        "175. But Python also allows you to create (and name) your own functions.\n",
        "- Key term: *named function(s)*\n",
        "\n",
        "176. We can define or name a function using the `def` keyword.\n",
        "\n",
        "177. A function definition includes a few core components:\n",
        "- The name of the new function\n",
        "- The list of function arguments\n",
        "- The sequence of statements to execute when the function is called\n",
        "\n",
        "178. The core syntax for defining your own function:"
      ],
      "metadata": {
        "id": "mnJ-V37ZoW9M"
      }
    },
    {
      "cell_type": "code",
      "source": [
        "# use def keyword to define function name\n",
        "def function_name(argument):\n",
        " statement(s)\n",
        " return result"
      ],
      "metadata": {
        "id": "TSOeo_QeYOPE"
      },
      "execution_count": null,
      "outputs": []
    },
    {
      "cell_type": "markdown",
      "source": [
        "179. Let's unpack each of those components.\n",
        "\n",
        "180. `def function_name()` is the name you are giving to the function you create- this is the header for the function definition.\n",
        "\n",
        "181. Function names have many of the same rules as variable names- no spaces or special characters.\n",
        "\n",
        "182. `argument` is the argument that will be passed to the function.\n",
        "\n",
        "183. When we are initially defining the function, the `argument` value is typically a placeholder.\n",
        "\n",
        "184. Later in the program when we call the named function, the argument being passed to the function goes in these parenthesis.\n",
        "\n",
        "185. The nested or indented line `statement(s)` is the body of the function definition.\n",
        "\n",
        "186. It includes a sequence of statements to execute when the function is called.\n",
        "\n",
        "187. The nested or indented line `return result` is a placeholder for the function output or endpoint- it is also part of the body of the function definition.\n",
        "\n",
        "### How Named Functions Work\n",
        "\n",
        "188. So what happens when we use the `def` keyword to create a named function?\n",
        "\n",
        "189. Programs are always executed sequentially, one statement at a time.\n",
        "\n",
        "190. Function definitions create new functions, but do not execute the bodies or statements within the functions UNTIL the functions are called.\n",
        "\n",
        "191. When we call a named function, the program jumps to the definition for the function being called, executes the function's body, and then returns to the point in the program where the function was called and resumes executing the program.\n",
        "\n",
        "192. Let's look at some examples.\n"
      ],
      "metadata": {
        "id": "PVcKjSZdoYt3"
      }
    },
    {
      "cell_type": "markdown",
      "source": [
        "#### Named Function Examples\n"
      ],
      "metadata": {
        "id": "k6bPOteXYRBu"
      }
    },
    {
      "cell_type": "markdown",
      "source": [
        "##### Function Example A\n",
        "\n",
        "193. Let's say we want to create a function that prints an input string three times.\n"
      ],
      "metadata": {
        "id": "5IP75NMMoaCv"
      }
    },
    {
      "cell_type": "code",
      "source": [
        "def printThreeTimes(string):\n",
        " for x in range(3):\n",
        "  print(string)"
      ],
      "metadata": {
        "id": "JfiRy1TeYSr1"
      },
      "execution_count": null,
      "outputs": []
    },
    {
      "cell_type": "markdown",
      "source": [
        "194. To walk through what is happening in this function definition...\n",
        "\n",
        "195. `def printThreeTimes(string)` assigns the function name (`printThreeTimes`).\n",
        "\n",
        "196. This is the name we will use when calling this function elsewhere in the program.\n",
        "\n",
        "197. `for x in range(3)` is part of the body of the function.\n",
        "\n",
        "198. This line of code uses a `for` loop to say \"for each integer value in the range leading up to but not including 3,\" do.....something!\n",
        "\n",
        "199. That \"something\" is the `print` statement nested in the `for` loop.\n",
        "\n",
        "200. That `print` statement will output the `string` value each time through the `for` loop.\n",
        "\n",
        "201. Now let's see this named function in action.\n"
      ],
      "metadata": {
        "id": "JmRhG5kVocnj"
      }
    },
    {
      "cell_type": "code",
      "source": [
        "# string variable\n",
        "string = \"There's no place like home.\"\n",
        "\n",
        "# function call\n",
        "printThreeTimes(string)"
      ],
      "metadata": {
        "id": "-JYyiNb_YYgm"
      },
      "execution_count": null,
      "outputs": []
    },
    {
      "cell_type": "markdown",
      "source": [
        "202. We wouldn't need to assign the string to a variable- we could pass it directly to the function."
      ],
      "metadata": {
        "id": "3usHeq9lod-S"
      }
    },
    {
      "cell_type": "code",
      "source": [
        "# function call\n",
        "printThreeTimes(\"There's no place like home.\")"
      ],
      "metadata": {
        "id": "JsUeMN4HYaIg"
      },
      "execution_count": null,
      "outputs": []
    },
    {
      "cell_type": "markdown",
      "source": [
        "##### Function Example B\n",
        "\n",
        "203. Let's look at another example.\n",
        "\n",
        "204. Here, we want to create a function that prints an input string a specific number of times.\n",
        "\n",
        "<blockquote>Q38: Describe how you would start building out code to accomplish this task? What functions, statements, or keywords would you need to use? How would you start to organize this program?</blockquote>\n",
        "\n",
        "<blockquote>Q39: See where you can get with writing this program. What parts of the program were you able to get working? Where did you run into challenges?</blockquote>\n",
        "\n",
        "205. Here is one approach to this task.\n",
        "\n",
        "206. First, we want to define the name of our function, as well as what input arguments it will take.\n",
        "\n",
        "207. We know that we need to pass a string to be printed AND an integer for the number of times to the named function.\n",
        "\n",
        "208. For now, let's call the string `string` and the integer `times`.\n",
        "\n",
        "209. So the function header could look like:"
      ],
      "metadata": {
        "id": "Gg6MXnuNohU1"
      }
    },
    {
      "cell_type": "code",
      "source": [
        "def printNTimes(string, times):"
      ],
      "metadata": {
        "id": "_j_I2huQYcpa"
      },
      "execution_count": null,
      "outputs": []
    },
    {
      "cell_type": "markdown",
      "source": [
        "210. We've named the `printNTimes` function and established we will be passing two arguments to the function.\n",
        "\n",
        "211. Next, we could us a `for` loop in combination with the `range()` function to accomplish a specific task for a specific number of iterations."
      ],
      "metadata": {
        "id": "MQ7G0wGdoi08"
      }
    },
    {
      "cell_type": "code",
      "source": [
        "def printNTimes(string, times):\n",
        "  for x in range(times)"
      ],
      "metadata": {
        "id": "tPwvYHcwYd7m"
      },
      "execution_count": null,
      "outputs": []
    },
    {
      "cell_type": "markdown",
      "source": [
        "212. As in the previous named function example, we can think of the `for` loop as saying \"for each integer value in the range leading up to but not including the `times` value,\" do.....something!\n",
        "\n",
        "213. That \"something\" is the `print` statement nested in the `for` loop.\n",
        "\n",
        "214. That `print` statement will output the `string` value each time through the `for` loop.\n",
        "\n",
        "215. Putting that all together:"
      ],
      "metadata": {
        "id": "ZjB6rVzBokAS"
      }
    },
    {
      "cell_type": "code",
      "source": [
        "def printNTimes(string, times):\n",
        " for x in range(times):\n",
        "  print(string)"
      ],
      "metadata": {
        "id": "6c9N5IphYjuh"
      },
      "execution_count": null,
      "outputs": []
    },
    {
      "cell_type": "markdown",
      "source": [
        "216. So now we have a function that prints our string a number of times specified by the `times` value in combination with the `range()` function.\n",
        "\n",
        "<blockquote>Q40: How does the sample program compare to your approach to the previous two questions? What was similar? What was different? How are you thinking differently (if at all) about how to approach this type of program?</blockquote>\n",
        "\n",
        "<blockquote>Q41: How would you write a program that calls the function you have created? Include code + comments.</blockquote>\n",
        "\n",
        "<blockquote><a href=\"https://www.w3schools.com/python/python_functions.asp\">Click here</a> for more information on named functions in Python, via W3Schools.</blockquote>\n",
        "\n",
        "### Additional Functions Considerations"
      ],
      "metadata": {
        "id": "eIKOWDSyolXN"
      }
    },
    {
      "cell_type": "markdown",
      "source": [
        "#### Fruitful Versus Void Functions\n",
        "\n",
        "217. Functions that yield a result are considered fruitful.\n",
        "- Key term: *fruitful function(s)*\n",
        "\n",
        "218. To output a result, a function uses the return statement to pass results back to the function call.\n",
        "\n",
        "219. Functions that perform a computation but do not yield a result are considered void.\n",
        "- Key term: *void function(s)*\n",
        "\n",
        "220. By default, the return value for void functions is `None`."
      ],
      "metadata": {
        "id": "55Q1PtKEonJg"
      }
    },
    {
      "cell_type": "markdown",
      "source": [
        "#### Parameters\n",
        "\n",
        "221. Inside a function, the arguments are assigned to local variables, or placeholder variables.\n",
        "\n",
        "222. These local variables are called parameters.\n",
        "- Key term: *parameter*"
      ],
      "metadata": {
        "id": "cWKB-xI2on-L"
      }
    },
    {
      "cell_type": "markdown",
      "source": [
        "#### Scoping\n",
        "\n",
        "223. The name of the parameter inside the function is separated or isolated from the name outside the function.\n",
        "\n",
        "224. This separation of namespaces is called scoping.\n",
        "- Key term: *scoping*\n",
        "\n",
        "225. An example of scoping:"
      ],
      "metadata": {
        "id": "_WAFHy2YopDc"
      }
    },
    {
      "cell_type": "code",
      "source": [
        "# assign x variable\n",
        "x = 1\n",
        "\n",
        "# function definition\n",
        "def print_number(x):\n",
        " print(x)\n",
        " \n",
        "# print x variable\n",
        "print(x)\n",
        "\n",
        "# call named function\n",
        "print_number(2)"
      ],
      "metadata": {
        "id": "ENU67OpiYpCg"
      },
      "execution_count": null,
      "outputs": []
    },
    {
      "cell_type": "markdown",
      "source": [
        "226. In short, the placeholder variables (or parameters) we use inside the function definition are separated or isolated from any instance where a variable or parameter with the same name is used outside the function definition.\n",
        "\n",
        "<blockquote><a href=\"https://www.w3schools.com/python/python_scope.asp\">Click here</a> to learn more about scope in Python, via W3Schools.</blockquote>\n",
        "\n",
        "#### Docstrings\n",
        "\n",
        "227. We can add comments to a function definition by including a docstring under the function header.\n",
        "- Key term: *docstring*\n",
        "\n",
        "228. As we've learned previously, single-line comments in Python are declared using the `#` symbol, and multi-line comments in Python are declared using the <code>'''</code> symbol.\n",
        "\n",
        "229. Docstrings are declared using triple single quotes (<code>'''</code>) or triple double quotes (`\"\"\"`).\n",
        "\n",
        "230. Best practice is to start the docstring just below the function header.\n",
        "\n",
        "231. Another best practice for docstrings is to begin with a capital letter and end with a period.\n",
        "\n",
        "232. The docstring should briefly describe what the function does.\n",
        "\n",
        "233. Let's see this in action with an example from earlier in the lab."
      ],
      "metadata": {
        "id": "ScbUSerOoqnv"
      }
    },
    {
      "cell_type": "code",
      "source": [
        "def printThreeTimes(string):\n",
        " '''Prints an input string three times'''\n",
        " for x in range(3):\n",
        "  print(string)"
      ],
      "metadata": {
        "id": "EEC9GQa5Yrbt"
      },
      "execution_count": null,
      "outputs": []
    },
    {
      "cell_type": "markdown",
      "source": [
        "234. We have a couple options for accessing the contents of the docstring elesewhere in the program.\n",
        "\n",
        "235. We can use the `__doc__` method (underscore, underscore, doc, underscore, underscore)."
      ],
      "metadata": {
        "id": "ip-LaYYKou-H"
      }
    },
    {
      "cell_type": "code",
      "source": [
        "print(\"Using __doc__:\")\n",
        "print(printThreeTimes.__doc__)"
      ],
      "metadata": {
        "id": "vbpgqrvNYtl0"
      },
      "execution_count": null,
      "outputs": []
    },
    {
      "cell_type": "markdown",
      "source": [
        "236. Or we can use the `help()` function.\n"
      ],
      "metadata": {
        "id": "lriiBUmhowEb"
      }
    },
    {
      "cell_type": "code",
      "source": [
        "print(\"Using help:\")\n",
        "help(printThreeTimes)"
      ],
      "metadata": {
        "id": "H-dXbI49Yugn"
      },
      "execution_count": null,
      "outputs": []
    },
    {
      "cell_type": "markdown",
      "source": [
        "237. Multi-line docstrings can be used to provide additional description about the named function, including information about parameters, arguments, and returns.\n",
        "\n",
        "<blockquote><a href=\"https://www.python.org/dev/peps/pep-0257/\">Click here</a> to learn more about docstrings in Python, via Python.org documentation.</blockquote>\n",
        "\n",
        "## Why Functions\n",
        "\n",
        "238. By this point in the lab, your brain might be hurting. Mine is.\n",
        "\n",
        "239. Let's take a step back and think about *why* we would want or need to use functions in our code.\n",
        "\n",
        "<p align=\"center\"><a href=\"https://github.com/kwaldenphd/python-conditional-statements-functions/blob/main/Python_Function_Meme.png?raw=true\"><img class=\"aligncenter\" src=\"https://github.com/kwaldenphd/python-conditional-statements-functions/blob/main/Python_Function_Meme.png?raw=true\" /></a></p>\n",
        "\n",
        "240. Python functions can help with programming tasks in a number of key ways.\n",
        "\n",
        "241. They help yield **more concise code*** by eliminating the need to write out code for the same task multiple times.\n",
        "\n",
        "242. In doing so, they also **improve code readability**.\n",
        "\n",
        "243. Functions also help us **more effectively test and debug code**.\n",
        "\n",
        "245. Again, because we are creating reusable pieces or building blocks of code, we can more readily pinpoint where things are going wrong or not working in our code.\n",
        "\n",
        "246. By allowing us to define and call functions for common tasks, they **promote code reuse and modularity**.\n"
      ],
      "metadata": {
        "id": "y8SBguhpoyrg"
      }
    },
    {
      "cell_type": "markdown",
      "source": [
        "## Additional Work With Functions\n",
        "\n",
        "Q42: Write a function `is_even` that determines whether or not a number `n` is even. Include code + comments for the function definition as well as a sample function call.\n",
        "\n",
        "Q43: Write a function `average` that determines the average value of a list. Include code + comments for the function definition as well as a sample function call.\n",
        "\n",
        "Q44: Write a function `uniq` that takes a list and returns a new list containing only unique values. Include code + comments for the function definition as well as a sample function call.\n",
        "\n",
        "Q45: The Python code below is suppose to create a function that determines if the given list of numbers is sorted. That is, the function should return `True` if each item in the list is less than the next item. Unfortunately, there are a few errors in the code below. Identify the errors and fix the code. Include your modified code with comments that document what changes you made to address the errors.\n"
      ],
      "metadata": {
        "id": "nUQaeZ7_o0dM"
      }
    },
    {
      "cell_type": "code",
      "source": [
        "is_sorted([1, 2, 3, 4, 2])\n",
        "\n",
        "def is_sorted(numbers):\n",
        "    ''' Return whether or not the list of numbers is sorted '''\n",
        "    for i in range(len(numbers) - 1):\n",
        "        if numbers[i] > numbers[i + 1]:\n",
        "            return False\n",
        "    return True"
      ],
      "metadata": {
        "id": "s2wrIIgRYzKB"
      },
      "execution_count": null,
      "outputs": []
    },
    {
      "cell_type": "markdown",
      "source": [
        "Q46: In your own words, what is a function?\n",
        "\n",
        "Q47: In your own words, how do we create a function?\n",
        "\n",
        "Q48: In your own words, what is an argument or parameter?\n",
        "\n",
        "Q49: In your own words, what is a return value?\n",
        "\n",
        "Q50: Why would we use functions, or what is the value of functions?\n",
        "\n",
        "Q51: Include a link to your Replit workspace for this lab.\n"
      ],
      "metadata": {
        "id": "ZclJH00Zo2Hk"
      }
    },
    {
      "cell_type": "markdown",
      "source": [
        "# Lab Notebook Questions\n",
        "\n",
        "Lab notebook template:\n",
        "- [`.py` file](https://drive.google.com/file/d/15YaqtTSVnXq_TRtSpJNzcrxDdjHEYQ0L/view?usp=sharing)\n",
        "- [Jupyter Notebook](https://colab.research.google.com/drive/1ebx8_CVmN7cvDQu-JlaqsTyQ_t0IyJWK?usp=sharing)\n",
        "\n",
        "Q1: Provide your code + comments for steps 37-42.\n",
        "\n",
        "Q2: Describe how you approached writing the program for Q1.\n",
        "\n",
        "Q3: Return to the program you wrote for Q1 and Q2. Modify this program so it prints one message if the user enters your favorite color, and a different message if not. In addition, your program should print a final message for every user, regardless of what they entered. Include code + comments.\n",
        "\n",
        "Q4: Explain what this program will output and why.\n"
      ],
      "metadata": {
        "id": "NQ2G5tJJo_C8"
      }
    },
    {
      "cell_type": "code",
      "source": [
        "fruits = ['apple', 'pear', 'orange']\n",
        "\n",
        "#a test to see if apple is on the list\n",
        "if 'apple' in fruits:\n",
        "  print('Would you like an apple?')\n",
        "else:\n",
        "  print('Sorry, we are all out of apples.')\n",
        "\n",
        "#a test to see if banana is NOT on the list\n",
        "if 'banana' not in fruits:\n",
        "  print('Yes, we have no bananas')\n",
        "else:\n",
        "  print('Would you like a banana?')"
      ],
      "metadata": {
        "id": "oiGqMkoipAPw"
      },
      "execution_count": null,
      "outputs": []
    },
    {
      "cell_type": "markdown",
      "source": [
        "Q5: What do you think will happen if we write a `for` loop for `numlist`? What would be a single element in the list?"
      ],
      "metadata": {
        "id": "DeAHSV-JpBBN"
      }
    },
    {
      "cell_type": "code",
      "source": [
        "numlist = [[0, 42], [67543, -987654]]\n"
      ],
      "metadata": {
        "id": "r8-qoUDypBww"
      },
      "execution_count": null,
      "outputs": []
    },
    {
      "cell_type": "markdown",
      "source": [
        "Q6: What do you expect this code to output? Explain how this program works in your own words.\n"
      ],
      "metadata": {
        "id": "kCIRu7AtpCnf"
      }
    },
    {
      "cell_type": "code",
      "source": [
        "characters = ['Arya', ' Benjen', 'Bran', 'Catelyn', 'Eddard', 'Rickon', 'Robb', 'Sansa']\n",
        "print('Members of the House Stark:')\n",
        "for character in characters:\n",
        "  print(character.title() + \" Stark\")\n",
        "print(characters[0].title() + \" is my favorite.\")"
      ],
      "metadata": {
        "id": "n1oP3b1UpDqU"
      },
      "execution_count": null,
      "outputs": []
    },
    {
      "cell_type": "markdown",
      "source": [
        "Q7: Describe how you would start building out code to accomplish this task? What functions, statements, or keywords would you need to use? How would you start to organize this program?\n",
        "\n",
        "Q8: See where you can get with writing this program. What parts of the program were you able to get working? Where did you run into challenges?\n",
        "\n",
        "Q9: How does the sample program compare to your approach to the previous two questions? What was similar? What was different? How are you thinking differently (if at all) about how to approach this type of program?\n",
        "\n",
        "Q10: Describe how you would start building out code to accomplish this task? What functions, statements, or keywords would you need to use? How would you start to organize this program?\n",
        "\n",
        "Q11: See where you can get with writing this program. What parts of the program were you able to get working? Where did you run into challenges?\n",
        "\n",
        "Q12: How does the sample program compare to your approach to the previous two questions? What was similar? What was different? How are you thinking differently (if at all) about how to approach this type of program?\n",
        "\n",
        "Q13: What is the value of n in the first iteration of the loop? What happens to the value of n in each iteration of the loop?\n",
        "\n",
        "Q14: What is the endpoint for this loop, or when will this loop end?\n",
        "\n",
        "Q15: Now it's your turn. Describe what is happening in each line of this program. You can use the explanations for the previous example as a model.\n",
        "\n",
        "Q16: What is the value of x in the first iteration of the loop? What happens to the value of x in each iteration of the loop?\n",
        "\n",
        "Q17: What is the endpoint for this loop, or when will this loop end?\n",
        "\n",
        "Q18: What will happen if you remove the statement count = count + 1 from this program? Remove the statement to verify your prediction.\n",
        "\n",
        "Q19: Modify the program from step 141 so that it prints some word or phrase nine times, and also prints a line number at the beginning of each line. Answer will include code + comments.\n",
        "\n",
        "Q20: Now it's your turn. Describe what is happening in each line of this program. You can use explanations for previous examples as a model."
      ],
      "metadata": {
        "id": "fE4iC1iHpE8u"
      }
    },
    {
      "cell_type": "code",
      "source": [
        "# assign i variable\n",
        "i = 1\n",
        "\n",
        "# while loop\n",
        "while i < 200:\n",
        " if i > 150:\n",
        "  print('Expression value is greater than 150')\n",
        " elif i > 100:\n",
        "  print('Expression value is greater than 100')\n",
        " elif i > 50:\n",
        "  print('Expression value is greater than 50')\n",
        " elif i < 50:\n",
        "  print('Expression value is less than 50')\n",
        " i += 10\n",
        "\n",
        "print(\"That's all, folks!\")"
      ],
      "metadata": {
        "id": "VaFvk-P6pGNw"
      },
      "execution_count": null,
      "outputs": []
    },
    {
      "cell_type": "markdown",
      "source": [
        "Q21: What is the value of i in the first iteration of the loop? What happens to the value of i in each iteration of the loop?\n",
        "\n",
        "Q22: What is the endpoint for this loop, or when will this loop end?\n",
        "\n",
        "Q23: Describe what would happen in each iteration of this loop. How many iterations would it take for the break statement to come into effect?\n"
      ],
      "metadata": {
        "id": "IO3PnEi7pHD4"
      }
    },
    {
      "cell_type": "code",
      "source": [
        "# assign i variable \n",
        "i = 1\n",
        "\n",
        "# while loop\n",
        "while i < 6:\n",
        " print(i)\n",
        " if i == 3:\n",
        "  break\n",
        " i += 1"
      ],
      "metadata": {
        "id": "Ib_8lVjmpIgb"
      },
      "execution_count": null,
      "outputs": []
    },
    {
      "cell_type": "markdown",
      "source": [
        "Q24: Describe what would happen in each iteration of this loop. How many iterations would it take for the continue statement to come into effect?\n"
      ],
      "metadata": {
        "id": "taAiFgtCpJEI"
      }
    },
    {
      "cell_type": "code",
      "source": [
        "# assign the i variable\n",
        "i = 0\n",
        "\n",
        "# while loop\n",
        "while i < 6:\n",
        " i += 1\n",
        " if i ==3:\n",
        "  continue\n",
        " print(i)"
      ],
      "metadata": {
        "id": "tORy_bv0pJ1z"
      },
      "execution_count": null,
      "outputs": []
    },
    {
      "cell_type": "markdown",
      "source": [
        "Q25: What is the endpoint for this loop, or when will this loop end?\n",
        "\n",
        "Q26: Write a loop that prints out all numbers from 0 to 10. Include your code + comments that document how the code works.\n",
        "\n",
        "Q27: Convert the following Python code to use a while loop instead of a for loop. Include your modified code with comments."
      ],
      "metadata": {
        "id": "Cs9TwNtLpKwa"
      }
    },
    {
      "cell_type": "code",
      "source": [
        "numbers = [5, 4, 7, 0, 1]\n",
        "count   = 0\n",
        "\n",
        "for number in numbers:\n",
        "  if count in numbers:\n",
        "    print(count)\n",
        "    count += 1\n",
        "  else:\n",
        "    break\n",
        "\n",
        "print(count)"
      ],
      "metadata": {
        "id": "5IYbtiyZpLb4"
      },
      "execution_count": null,
      "outputs": []
    },
    {
      "cell_type": "markdown",
      "source": [
        "Q28: Write a program that prints a list of the first nine positive integers and their squares. Include code + comments.\n",
        "\n",
        "Q29: Write a program that counts from 10 down to 1, and then prints \"Blastoff!\"\n",
        "\n",
        "Q30: Write a program that asks the user to enter three numbers: a starting value, an ending value, and an increment. Your program should then \"count\" based on these criteria, as shown in the sample output below. Include code + comments.\n",
        "\n",
        "Q31: Write a program that uses a `while` loop to print the output shown below. Include code + comments. The program should print the numbers 1 through 10, except that between 7 and 8 it should print the word \"happy\". This can be accomplished by placing an `if` statement within the `while` loop to do something special for the `lineNumber == 7` case.\n",
        "\n",
        "```\n",
        "1\n",
        "2\n",
        "3\n",
        "4\n",
        "5\n",
        "6\n",
        "7\n",
        "happy\n",
        "8\n",
        "9\n",
        "10\n",
        "```\n",
        "\n",
        "Q32: Write a program that plays a familiar guessing game.\n",
        "- First your program will set some number to be the \"correct answer\"\n",
        "- Then your program will ask the user to guess this answer until they get it right.\n",
        "- For each guess your program should give a hint based on whether the guess was too high or too low.\n",
        "\n",
        "Q33: Write a program that reads in three strings and prints them out in alphabetical order. Include code + comments.\n",
        "\n",
        "Q34: In your own words, what is iteration?\n",
        "\n",
        "Q35: In your own words, what is the difference between a `for` loop and a `while` loop?\n",
        "\n",
        "Q36: In your own words, what is a boolean or logical expression?\n",
        "\n",
        "Q37: In your own words, what is a conditional statement?\n",
        "\n",
        "Q38: Describe how you would start building out code to accomplish this task? What functions, statements, or keywords would you need to use? How would you start to organize this program?\n",
        "\n",
        "Q39: See where you can get with writing this program. What parts of the program were you able to get working? Where did you run into challenges?\n",
        "\n",
        "Q40: How does the sample program compare to your approach to the previous two questions? What was similar? What was different? How are you thinking differently (if at all) about how to approach this type of program?\n",
        "\n",
        "Q41: How would you write a program that calls the function you have created? Include code + comments.\n",
        "\n",
        "Q42: Write a function `is_even` that determines whether or not a number `n` is even. Include code + comments for the function definition as well as a sample function call.\n",
        "\n",
        "Q43: Write a function `average` that determines the average value of a list. Include code + comments for the function definition as well as a sample function call.\n",
        "\n",
        "Q44: Write a function `uniq` that takes a list and returns a new list containing only unique values. Include code + comments for the function definition as well as a sample function call.\n",
        "\n",
        "Q45: The Python code below is suppose to create a function that determines if the given list of numbers is sorted. That is, the function should return `True` if each item in the list is less than the next item. Unfortunately, there are a few errors in the code below. Identify the errors and fix the code. Include your modified code with comments that document what changes you made to address the errors.\n"
      ],
      "metadata": {
        "id": "lv6ywu7CpM67"
      }
    },
    {
      "cell_type": "code",
      "source": [
        "is_sorted([1, 2, 3, 4, 2])\n",
        "\n",
        "def is_sorted(numbers):\n",
        "    ''' Return whether or not the list of numbers is sorted '''\n",
        "    for i in range(len(numbers) - 1):\n",
        "        if numbers[i] > numbers[i + 1]:\n",
        "            return False\n",
        "    return True"
      ],
      "metadata": {
        "id": "CHZVrIzTpNr8"
      },
      "execution_count": null,
      "outputs": []
    },
    {
      "cell_type": "markdown",
      "source": [
        "Q46: In your own words, what is a function?\n",
        "\n",
        "Q47: In your own words, how do we create a function?\n",
        "\n",
        "Q48: In your own words, what is an argument or parameter?\n",
        "\n",
        "Q49: In your own words, what is a return value?\n",
        "\n",
        "Q50: Why would we use functions, or what is the value of functions?"
      ],
      "metadata": {
        "id": "BEx_mT_cpPTd"
      }
    }
  ]
}