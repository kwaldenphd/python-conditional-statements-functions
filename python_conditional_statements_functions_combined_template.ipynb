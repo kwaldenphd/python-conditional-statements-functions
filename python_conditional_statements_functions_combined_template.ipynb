{
  "cells": [
    {
      "cell_type": "markdown",
      "metadata": {
        "id": "view-in-github",
        "colab_type": "text"
      },
      "source": [
        "<a href=\"https://colab.research.google.com/github/kwaldenphd/python-conditional-statements-functions/blob/main/python_conditional_statements_functions_combined_template.ipynb\" target=\"_parent\"><img src=\"https://colab.research.google.com/assets/colab-badge.svg\" alt=\"Open In Colab\"/></a>"
      ]
    },
    {
      "cell_type": "markdown",
      "metadata": {
        "id": "TxIH2BeTeQQm"
      },
      "source": [
        "# Conditional Statements and Functions in Python\n",
        "\n",
        "Student Name: **Enter Your Name Here (Double click to edit)**\n",
        "<br>\n",
        "Net ID: **Enter Your NetID Here (Double click to edit)**\n",
        "<br>"
      ]
    },
    {
      "cell_type": "markdown",
      "source": [
        "## Lab Notebook Questions"
      ],
      "metadata": {
        "id": "jUc1g-sahvuL"
      }
    },
    {
      "cell_type": "markdown",
      "metadata": {
        "id": "hk4jhD_-eQQy"
      },
      "source": [
        "### **Q1: Provide your code + comments for steps 37-42.**"
      ]
    },
    {
      "cell_type": "markdown",
      "metadata": {
        "id": "cFP9_2FueQQ0"
      },
      "source": [
        "**AnswerQ1**: Your answer here (double click to edit)"
      ]
    },
    {
      "cell_type": "code",
      "execution_count": null,
      "metadata": {
        "id": "uo1CC2k5eQQ7"
      },
      "outputs": [],
      "source": [
        "# your codes here (if needed)"
      ]
    },
    {
      "cell_type": "markdown",
      "metadata": {
        "id": "h_bW0zfPeQQ_"
      },
      "source": [
        "### **Q2: Describe how you approached writing the program for Q1.**"
      ]
    },
    {
      "cell_type": "markdown",
      "metadata": {
        "id": "D4CNNBTyeQRC"
      },
      "source": [
        "**AnswerQ2**: Your answer here (double click to edit)"
      ]
    },
    {
      "cell_type": "code",
      "execution_count": null,
      "metadata": {
        "id": "JKVGfR4qeQRE"
      },
      "outputs": [],
      "source": [
        "# your codes here (if needed)"
      ]
    },
    {
      "cell_type": "markdown",
      "metadata": {
        "id": "y5SMjHToeQRF"
      },
      "source": [
        "### **Q3: Return to the program you wrote for Q1 and Q2. Modify this program so it prints one message if the user enters your favorite color, and a different message if not. In addition, your program should print a final message for every user, regardless of what they entered. Include code + comments.**"
      ]
    },
    {
      "cell_type": "markdown",
      "metadata": {
        "id": "CWLw13_LeQRH"
      },
      "source": [
        "**AnswerQ3:** Your answer here (double click to edit)"
      ]
    },
    {
      "cell_type": "code",
      "execution_count": null,
      "metadata": {
        "id": "79rwVHrAeQRJ"
      },
      "outputs": [],
      "source": [
        "# your codes here (if needed)"
      ]
    },
    {
      "cell_type": "markdown",
      "metadata": {
        "id": "B5f1vxvweQRP"
      },
      "source": [
        "### **Q4: Explain what this program will output and why.**"
      ]
    },
    {
      "cell_type": "code",
      "execution_count": null,
      "metadata": {
        "id": "Pb63AKQReQRR"
      },
      "outputs": [],
      "source": [
        "fruits = ['apple', 'pear', 'orange']\n",
        "\n",
        "#a test to see if apple is on the list\n",
        "if 'apple' in fruits:\n",
        "  print('Would you like an apple?')\n",
        "else:\n",
        "  print('Sorry, we are all out of apples.')\n",
        "\n",
        "#a test to see if banana is NOT on the list\n",
        "if 'banana' not in fruits:\n",
        "  print('Yes, we have no bananas')\n",
        "else:\n",
        "  print('Would you like a banana?')"
      ]
    },
    {
      "cell_type": "markdown",
      "metadata": {
        "id": "GZ0-J21keQRT"
      },
      "source": [
        "**AnswerQ4:** Your answer here (double click to edit)"
      ]
    },
    {
      "cell_type": "code",
      "execution_count": null,
      "metadata": {
        "id": "xY4PlFDCeQRU"
      },
      "outputs": [],
      "source": [
        "# your codes here (if needed)"
      ]
    },
    {
      "cell_type": "markdown",
      "metadata": {
        "id": "xVyhC9XgeQRV"
      },
      "source": [
        "### **Q5: What do you think will happen if we write a `for` loop for `numlist`? What would be a single element in the list?**"
      ]
    },
    {
      "cell_type": "code",
      "execution_count": null,
      "metadata": {
        "id": "vOajvqykeQRW"
      },
      "outputs": [],
      "source": [
        "numlist = [[0, 42], [67543, -987654]]"
      ]
    },
    {
      "cell_type": "markdown",
      "metadata": {
        "id": "FqNsfIcQeQRX"
      },
      "source": [
        "**AnswerQ5:** Your answer here (double click to edit)"
      ]
    },
    {
      "cell_type": "code",
      "execution_count": null,
      "metadata": {
        "id": "qTbElpm2eQRY"
      },
      "outputs": [],
      "source": [
        "# your codes here (if needed)"
      ]
    },
    {
      "cell_type": "markdown",
      "metadata": {
        "id": "JAqG9VGeeQRY"
      },
      "source": [
        "### **Q6: What do you expect this code to output? Explain how this program works in your own words.**"
      ]
    },
    {
      "cell_type": "code",
      "execution_count": null,
      "metadata": {
        "id": "XuWrPl2IeQRZ"
      },
      "outputs": [],
      "source": [
        "characters = ['Arya', ' Benjen', 'Bran', 'Catelyn', 'Eddard', 'Rickon', 'Robb', 'Sansa']\n",
        "print('Members of the House Stark:')\n",
        "for character in characters:\n",
        "  print(character.title() + \" Stark\")\n",
        "print(characters[0].title() + \" is my favorite.\")"
      ]
    },
    {
      "cell_type": "markdown",
      "metadata": {
        "id": "XnJ8DPYoeQRc"
      },
      "source": [
        "**AnswerQ6:** Your answer here (double click to edit)"
      ]
    },
    {
      "cell_type": "code",
      "execution_count": null,
      "metadata": {
        "id": "dEEDCJyteQRe"
      },
      "outputs": [],
      "source": [
        "# your codes here (if needed)"
      ]
    },
    {
      "cell_type": "markdown",
      "metadata": {
        "id": "6K4CYGKeeQRg"
      },
      "source": [
        "### **Q7: Describe how you would start building out code to accomplish this task? What functions, statements, or keywords would you need to use? How would you start to organize this program?**"
      ]
    },
    {
      "cell_type": "markdown",
      "metadata": {
        "id": "ekvO16ybeQRh"
      },
      "source": [
        "**AnswerQ7:** Your answer here (double click to edit)"
      ]
    },
    {
      "cell_type": "code",
      "execution_count": null,
      "metadata": {
        "id": "bB6w5_CpeQRi"
      },
      "outputs": [],
      "source": [
        "# your codes here (if needed)"
      ]
    },
    {
      "cell_type": "markdown",
      "metadata": {
        "id": "fh1BeQ-eeQRj"
      },
      "source": [
        "### **Q8: See where you can get with writing this program. What parts of the program were you able to get working? Where did you run into challenges?**"
      ]
    },
    {
      "cell_type": "markdown",
      "metadata": {
        "id": "kAZsqHuceQRk"
      },
      "source": [
        "**AnswerQ8:** Your answer here (double click to edit)"
      ]
    },
    {
      "cell_type": "code",
      "execution_count": null,
      "metadata": {
        "id": "d5oQnQsEeQRl"
      },
      "outputs": [],
      "source": [
        "# your codes here (if needed)"
      ]
    },
    {
      "cell_type": "markdown",
      "metadata": {
        "id": "SJo-OCCJeQRl"
      },
      "source": [
        "### **Q9: How does the sample program compare to your approach to the previous two questions? What was similar? What was different? How are you thinking differently (if at all) about how to approach this type of program?**"
      ]
    },
    {
      "cell_type": "markdown",
      "metadata": {
        "id": "fNJG2AP9eQRm"
      },
      "source": [
        "**AnswerQ9:** Your answer here (double click to edit)"
      ]
    },
    {
      "cell_type": "code",
      "execution_count": null,
      "metadata": {
        "id": "DtZObXLOeQRm"
      },
      "outputs": [],
      "source": [
        "# your codes here (if needed)"
      ]
    },
    {
      "cell_type": "markdown",
      "metadata": {
        "id": "_LXhHZtVeQRm"
      },
      "source": [
        "### **Q10: Describe how you would start building out code to accomplish this task? What functions, statements, or keywords would you need to use? How would you start to organize this program?**"
      ]
    },
    {
      "cell_type": "markdown",
      "metadata": {
        "id": "ftUXq43JeQRm"
      },
      "source": [
        "**AnswerQ10:** Your answer here (double click to edit)"
      ]
    },
    {
      "cell_type": "code",
      "execution_count": null,
      "metadata": {
        "id": "vNu7tl_seQRn"
      },
      "outputs": [],
      "source": [
        "# your codes here (if needed)"
      ]
    },
    {
      "cell_type": "markdown",
      "metadata": {
        "id": "21WOf4P2eQRo"
      },
      "source": [
        "### **Q11: See where you can get with writing this program. What parts of the program were you able to get working? Where did you run into challenges?**"
      ]
    },
    {
      "cell_type": "markdown",
      "metadata": {
        "id": "ymGfh-m4eQRo"
      },
      "source": [
        "**AnswerQ11:** Your answer here (double click to edit)"
      ]
    },
    {
      "cell_type": "code",
      "execution_count": null,
      "metadata": {
        "id": "sv4mHCWFeQRr"
      },
      "outputs": [],
      "source": [
        "# your codes here (if needed)"
      ]
    },
    {
      "cell_type": "markdown",
      "metadata": {
        "id": "GaLNeIDleQRy"
      },
      "source": [
        "### **Q12: How does the sample program compare to your approach to the previous two questions? What was similar? What was different? How are you thinking differently (if at all) about how to approach this type of program?**"
      ]
    },
    {
      "cell_type": "markdown",
      "metadata": {
        "id": "Bh676iLYeQRz"
      },
      "source": [
        "**AnswerQ12:** Your answer here (double click to edit)"
      ]
    },
    {
      "cell_type": "code",
      "execution_count": null,
      "metadata": {
        "id": "YmpSreVpeQR0"
      },
      "outputs": [],
      "source": [
        "# your codes here (if needed)"
      ]
    },
    {
      "cell_type": "markdown",
      "metadata": {
        "id": "dv-HaqiheQR1"
      },
      "source": [
        "### **Q13: What is the value of n in the first iteration of the loop? What happens to the value of n in each iteration of the loop?**"
      ]
    },
    {
      "cell_type": "markdown",
      "metadata": {
        "id": "bTppOAy2eQR2"
      },
      "source": [
        "**AnswerQ13:** Your answer here (double click to edit)"
      ]
    },
    {
      "cell_type": "code",
      "execution_count": null,
      "metadata": {
        "id": "GXZSO56neQR2"
      },
      "outputs": [],
      "source": [
        "# your codes here (if needed)"
      ]
    },
    {
      "cell_type": "markdown",
      "metadata": {
        "id": "riAKzNXdeQR3"
      },
      "source": [
        "### **Q14: What is the endpoint for this loop, or when will this loop end?**"
      ]
    },
    {
      "cell_type": "markdown",
      "metadata": {
        "id": "itmlGkXqeQR3"
      },
      "source": [
        "**AnswerQ14:** Your answer here (double click to edit)"
      ]
    },
    {
      "cell_type": "code",
      "execution_count": null,
      "metadata": {
        "id": "1_Raz1bXeQR3"
      },
      "outputs": [],
      "source": [
        "# your codes here (if needed)"
      ]
    },
    {
      "cell_type": "markdown",
      "metadata": {
        "id": "k6nJt36heQR4"
      },
      "source": [
        "### **Q15: Now it's your turn. Describe what is happening in each line of this program. You can use the explanations for the previous example as a model.**"
      ]
    },
    {
      "cell_type": "markdown",
      "metadata": {
        "id": "auocvl8SeQR4"
      },
      "source": [
        "**AnswerQ15:** Your answer here (double click to edit)"
      ]
    },
    {
      "cell_type": "code",
      "execution_count": null,
      "metadata": {
        "id": "Rwv9uAyIeQR4"
      },
      "outputs": [],
      "source": [
        "# your codes here (if needed)"
      ]
    },
    {
      "cell_type": "markdown",
      "metadata": {
        "id": "E8scTdaUeQR5"
      },
      "source": [
        "### **Q16: What is the value of x in the first iteration of the loop? What happens to the value of x in each iteration of the loop?**"
      ]
    },
    {
      "cell_type": "markdown",
      "metadata": {
        "id": "wZUwzMsbeQR6"
      },
      "source": [
        "**AnswerQ16:** Your answer here (double click to edit)"
      ]
    },
    {
      "cell_type": "code",
      "execution_count": null,
      "metadata": {
        "id": "5pfg3-JheQR6"
      },
      "outputs": [],
      "source": [
        "# your codes here (if needed)"
      ]
    },
    {
      "cell_type": "markdown",
      "metadata": {
        "id": "b-e9TugOeQR9"
      },
      "source": [
        "### **Q17: What is the endpoint for this loop, or when will this loop end?**"
      ]
    },
    {
      "cell_type": "markdown",
      "metadata": {
        "id": "mWtSQ1XneQR_"
      },
      "source": [
        "**AnswerQ17:** Your answer here (double click to edit)"
      ]
    },
    {
      "cell_type": "code",
      "execution_count": null,
      "metadata": {
        "id": "PFBa_65CeQSB"
      },
      "outputs": [],
      "source": [
        "# your codes here (if needed)"
      ]
    },
    {
      "cell_type": "markdown",
      "metadata": {
        "id": "SbrHvPQIeQSC"
      },
      "source": [
        "### **Q18: What will happen if you remove the statement count = count + 1 from this program? Remove the statement to verify your prediction.**"
      ]
    },
    {
      "cell_type": "markdown",
      "metadata": {
        "id": "O7P-gYgseQSD"
      },
      "source": [
        "**AnswerQ18:** Your answer here (double click to edit)"
      ]
    },
    {
      "cell_type": "code",
      "execution_count": null,
      "metadata": {
        "id": "AWWO4LHseQSE"
      },
      "outputs": [],
      "source": [
        "# your codes here (if needed)"
      ]
    },
    {
      "cell_type": "markdown",
      "metadata": {
        "id": "ZKeX1vz6eQSE"
      },
      "source": [
        "### **Q19: Modify the program from step 141 so that it prints some word or phrase nine times, and also prints a line number at the beginning of each line. Answer will include code + comments.**"
      ]
    },
    {
      "cell_type": "markdown",
      "metadata": {
        "id": "SSeF1DlXeQSF"
      },
      "source": [
        "**AnswerQ19:** Your answer here (double click to edit)"
      ]
    },
    {
      "cell_type": "code",
      "execution_count": null,
      "metadata": {
        "id": "RFUPOr7jeQSG"
      },
      "outputs": [],
      "source": [
        "# your codes here (if needed)"
      ]
    },
    {
      "cell_type": "markdown",
      "metadata": {
        "id": "ZKJ8KD6WeQSH"
      },
      "source": [
        "### **Q20: Now it's your turn. Describe what is happening in each line of this program. You can use explanations for previous examples as a model.**"
      ]
    },
    {
      "cell_type": "code",
      "execution_count": null,
      "metadata": {
        "id": "ECE6-87DeQSH"
      },
      "outputs": [],
      "source": [
        "# assign i variable\n",
        "i = 1\n",
        "\n",
        "# while loop\n",
        "while i < 200:\n",
        " if i > 150:\n",
        "  print('Expression value is greater than 150')\n",
        " elif i > 100:\n",
        "  print('Expression value is greater than 100')\n",
        " elif i > 50:\n",
        "  print('Expression value is greater than 50')\n",
        " elif i < 50:\n",
        "  print('Expression value is less than 50')\n",
        " i += 10\n",
        "\n",
        "print(\"That's all, folks!\")"
      ]
    },
    {
      "cell_type": "markdown",
      "metadata": {
        "id": "Ki3mSJd2eQSI"
      },
      "source": [
        "**AnswerQ20:** Your answer here (double click to edit)"
      ]
    },
    {
      "cell_type": "code",
      "execution_count": null,
      "metadata": {
        "id": "UtY9lMCWeQSI"
      },
      "outputs": [],
      "source": [
        "# your codes here (if needed)"
      ]
    },
    {
      "cell_type": "markdown",
      "metadata": {
        "id": "YSmipuy3eQSI"
      },
      "source": [
        "### **Q21: What is the value of i in the first iteration of the loop? What happens to the value of i in each iteration of the loop?**"
      ]
    },
    {
      "cell_type": "markdown",
      "metadata": {
        "id": "2mFhOAsreQSJ"
      },
      "source": [
        "**AnswerQ21:** Your answer here (double click to edit)"
      ]
    },
    {
      "cell_type": "code",
      "execution_count": null,
      "metadata": {
        "id": "5vxzpg6QeQSJ"
      },
      "outputs": [],
      "source": [
        "# your codes here (if needed)"
      ]
    },
    {
      "cell_type": "markdown",
      "metadata": {
        "id": "zIJsVYrBeQSK"
      },
      "source": [
        "### **Q22: What is the endpoint for this loop, or when will this loop end?**"
      ]
    },
    {
      "cell_type": "markdown",
      "metadata": {
        "id": "L3-Fg3V0eQSK"
      },
      "source": [
        "**AnswerQ22:** Your answer here (double click to edit)"
      ]
    },
    {
      "cell_type": "code",
      "execution_count": null,
      "metadata": {
        "id": "GDArMS8xeQSK"
      },
      "outputs": [],
      "source": [
        "# your codes here (if needed)"
      ]
    },
    {
      "cell_type": "markdown",
      "metadata": {
        "id": "4CubjJMweQSL"
      },
      "source": [
        "### **Q23: Describe what would happen in each iteration of this loop. How many iterations would it take for the break statement to come into effect?**"
      ]
    },
    {
      "cell_type": "code",
      "execution_count": null,
      "metadata": {
        "id": "m4h1zT05eQSM"
      },
      "outputs": [],
      "source": [
        "# assign i variable \n",
        "i = 1\n",
        "\n",
        "# while loop\n",
        "while i < 6:\n",
        " print(i)\n",
        " if i == 3:\n",
        "  break\n",
        " i += 1"
      ]
    },
    {
      "cell_type": "markdown",
      "metadata": {
        "id": "Ou0_53kPeQSP"
      },
      "source": [
        "**AnswerQ23:** Your answer here (double click to edit)"
      ]
    },
    {
      "cell_type": "code",
      "execution_count": null,
      "metadata": {
        "id": "lRWD0N7EeQSQ"
      },
      "outputs": [],
      "source": [
        "# your codes here (if needed)"
      ]
    },
    {
      "cell_type": "markdown",
      "metadata": {
        "id": "T8Pgt0ffeQSR"
      },
      "source": [
        "### **Q24: Describe what would happen in each iteration of this loop. How many iterations would it take for the continue statement to come into effect?**"
      ]
    },
    {
      "cell_type": "markdown",
      "metadata": {
        "id": "zR3wK8WUeQSR"
      },
      "source": [
        "**AnswerQ24:** Your answer here (double click to edit)"
      ]
    },
    {
      "cell_type": "code",
      "execution_count": null,
      "metadata": {
        "id": "VCkMde9oeQSS"
      },
      "outputs": [],
      "source": [
        "# your codes here (if needed)"
      ]
    },
    {
      "cell_type": "markdown",
      "metadata": {
        "id": "S9YhP75BeQSS"
      },
      "source": [
        "### **Q25: What is the endpoint for this loop, or when will this loop end?**"
      ]
    },
    {
      "cell_type": "markdown",
      "metadata": {
        "id": "3Rz33xTjeQSU"
      },
      "source": [
        "**AnswerQ25:** Your answer here (double click to edit)"
      ]
    },
    {
      "cell_type": "code",
      "execution_count": null,
      "metadata": {
        "id": "jn7EKFGUeQSU"
      },
      "outputs": [],
      "source": [
        "# your codes here (if needed)"
      ]
    },
    {
      "cell_type": "markdown",
      "metadata": {
        "id": "dX-0Zlx_eQSU"
      },
      "source": [
        "### **Q26: Write a loop that prints out all numbers from 0 to 10. Include your code + comments that document how the code works.**"
      ]
    },
    {
      "cell_type": "markdown",
      "metadata": {
        "id": "8lnwFA0xeQSV"
      },
      "source": [
        "**AnswerQ26:** Your answer here (double click to edit)"
      ]
    },
    {
      "cell_type": "code",
      "execution_count": null,
      "metadata": {
        "id": "cZrX35-GeQSV"
      },
      "outputs": [],
      "source": [
        "# your codes here (if needed)"
      ]
    },
    {
      "cell_type": "markdown",
      "metadata": {
        "id": "16wmdMq2eQSW"
      },
      "source": [
        "### **Q27: Convert the following Python code to use a while loop instead of a for loop. Include your modified code with comments.**"
      ]
    },
    {
      "cell_type": "code",
      "execution_count": null,
      "metadata": {
        "id": "Krto95jTeQSW"
      },
      "outputs": [],
      "source": [
        "numbers = [5, 4, 7, 0, 1]\n",
        "count   = 0\n",
        "\n",
        "for number in numbers:\n",
        "    if not number:\n",
        "        break\n",
        "    count += 1\n",
        "\n",
        "print(count)"
      ]
    },
    {
      "cell_type": "markdown",
      "metadata": {
        "id": "Br0Vlcf2eQSX"
      },
      "source": [
        "**AnswerQ27:** Your answer here (double click to edit)"
      ]
    },
    {
      "cell_type": "code",
      "execution_count": null,
      "metadata": {
        "id": "cqC8NXlheQSX"
      },
      "outputs": [],
      "source": [
        "# your codes here (if needed)"
      ]
    },
    {
      "cell_type": "markdown",
      "metadata": {
        "id": "fKQBB5fYeQSX"
      },
      "source": [
        "### **Q28: Write a program that prints a list of the first nine positive integers and their squares. Include code + comments.**"
      ]
    },
    {
      "cell_type": "markdown",
      "metadata": {
        "id": "_og0VBoueQSY"
      },
      "source": [
        "**AnswerQ28:** Your answer here (double click to edit)"
      ]
    },
    {
      "cell_type": "code",
      "execution_count": null,
      "metadata": {
        "id": "riBDcDRdeQSY"
      },
      "outputs": [],
      "source": [
        "# your codes here (if needed)"
      ]
    },
    {
      "cell_type": "markdown",
      "metadata": {
        "id": "HMVDgNwXeQSZ"
      },
      "source": [
        "### **Q29: Write a program that counts from 10 down to 1, and then prints \"Blastoff!\"**"
      ]
    },
    {
      "cell_type": "markdown",
      "metadata": {
        "id": "P8L0X7bueQSZ"
      },
      "source": [
        "**AnswerQ29:** Your answer here (double click to edit)"
      ]
    },
    {
      "cell_type": "code",
      "execution_count": null,
      "metadata": {
        "id": "-eyZuto8eQSZ"
      },
      "outputs": [],
      "source": [
        "# your codes here (if needed)"
      ]
    },
    {
      "cell_type": "markdown",
      "metadata": {
        "id": "EQUGe_kZeQSa"
      },
      "source": [
        "### **Q30: Write a program that asks the user to enter three numbers: a starting value, an ending value, and an increment. Your program should then \"count\" based on these criteria, as shown in the sample output below. Include code + comments.**"
      ]
    },
    {
      "cell_type": "markdown",
      "metadata": {
        "id": "dADHdYMveQSa"
      },
      "source": [
        "**AnswerQ30:** Your answer here (double click to edit)"
      ]
    },
    {
      "cell_type": "code",
      "execution_count": null,
      "metadata": {
        "id": "VTmKjwoXeQSa"
      },
      "outputs": [],
      "source": [
        "# your codes here (if needed)"
      ]
    },
    {
      "cell_type": "markdown",
      "metadata": {
        "id": "v6IgJ8oIeQSb"
      },
      "source": [
        "### **Q31: Write a program that uses a `while` loop to print the output shown below. Include code + comments. The program should print the numbers 1 through 10, except that between 7 and 8 it should print the word \"happy\". This can be accomplished by placing an `if` statement within the `while` loop to do something special for the `lineNumber == 7` case.**"
      ]
    },
    {
      "cell_type": "raw",
      "metadata": {
        "id": "7XEJ-CzreQSe"
      },
      "source": [
        "1\n",
        "2\n",
        "3\n",
        "4\n",
        "5\n",
        "6\n",
        "7\n",
        "happy\n",
        "8\n",
        "9\n",
        "10"
      ]
    },
    {
      "cell_type": "markdown",
      "metadata": {
        "id": "mqYAaPHpeQSg"
      },
      "source": [
        "**AnswerQ31:** Your answer here (double click to edit)"
      ]
    },
    {
      "cell_type": "code",
      "execution_count": null,
      "metadata": {
        "id": "k-JjUkiteQSg"
      },
      "outputs": [],
      "source": [
        "# your codes here (if needed)"
      ]
    },
    {
      "cell_type": "markdown",
      "metadata": {
        "id": "EUdDskjSeQSg"
      },
      "source": [
        "### <strong>Q32: Write a program that plays a familiar guessing game.\n",
        "- First your program will set some number to be the \"correct answer\"\n",
        "- Then your program will ask the user to guess this answer until they get it right.\n",
        "- For each guess your program should give a hint based on whether the guess was too high or too low.</strong>"
      ]
    },
    {
      "cell_type": "markdown",
      "metadata": {
        "id": "2uOZv1iweQSi"
      },
      "source": [
        "**AnswerQ32:** Your answer here (double click to edit)"
      ]
    },
    {
      "cell_type": "code",
      "execution_count": null,
      "metadata": {
        "id": "MncstIsReQSi"
      },
      "outputs": [],
      "source": [
        "# your codes here (if needed)"
      ]
    },
    {
      "cell_type": "markdown",
      "metadata": {
        "id": "jspYlje3eQSi"
      },
      "source": [
        "### **Q33: Write a program that reads in three strings and prints them out in alphabetical order. Include code + comments.**"
      ]
    },
    {
      "cell_type": "markdown",
      "metadata": {
        "id": "_7lbTwGQeQSj"
      },
      "source": [
        "**AnswerQ33:** Your answer here (double click to edit)"
      ]
    },
    {
      "cell_type": "code",
      "execution_count": null,
      "metadata": {
        "id": "pSU9YEPWeQSj"
      },
      "outputs": [],
      "source": [
        "# your codes here (if needed)"
      ]
    },
    {
      "cell_type": "markdown",
      "metadata": {
        "id": "V5ILCqXfeQSj"
      },
      "source": [
        "### **Q34: In your own words, what is iteration?**"
      ]
    },
    {
      "cell_type": "markdown",
      "metadata": {
        "id": "503W5zExeQSk"
      },
      "source": [
        "**AnswerQ34:** Your answer here (double click to edit)"
      ]
    },
    {
      "cell_type": "code",
      "execution_count": null,
      "metadata": {
        "id": "Efiv0MmWeQSk"
      },
      "outputs": [],
      "source": [
        "# your codes here (if needed)"
      ]
    },
    {
      "cell_type": "markdown",
      "metadata": {
        "id": "eRd1sUsFeQSk"
      },
      "source": [
        "### **Q35: In your own words, what is the difference between a for loop and a while loop?**"
      ]
    },
    {
      "cell_type": "markdown",
      "metadata": {
        "id": "Pc_Ph8E5eQSk"
      },
      "source": [
        "**AnswerQ35:** Your answer here (double click to edit)"
      ]
    },
    {
      "cell_type": "code",
      "execution_count": null,
      "metadata": {
        "id": "eqSdEu5jeQSl"
      },
      "outputs": [],
      "source": [
        "# your codes here (if needed)"
      ]
    },
    {
      "cell_type": "markdown",
      "metadata": {
        "id": "sXDwMi0khnJU"
      },
      "source": [
        "### **Q36: In your own words, what is the difference between a for loop and a while loop?**"
      ]
    },
    {
      "cell_type": "markdown",
      "metadata": {
        "id": "s1TBcNZTho55"
      },
      "source": [
        "**AnswerQ36:** Your answer here (double click to edit)"
      ]
    },
    {
      "cell_type": "code",
      "execution_count": null,
      "metadata": {
        "id": "U41rjHqIhpqA"
      },
      "outputs": [],
      "source": [
        "# your codes here (if needed)"
      ]
    },
    {
      "cell_type": "markdown",
      "metadata": {
        "id": "qRYcmF7qhnUX"
      },
      "source": [
        "### **Q37: In your own words, what is a conditional statement?**"
      ]
    },
    {
      "cell_type": "markdown",
      "metadata": {
        "id": "jw0HsF6XhpI5"
      },
      "source": [
        "**AnswerQ37:** Your answer here (double click to edit)"
      ]
    },
    {
      "cell_type": "code",
      "execution_count": null,
      "metadata": {
        "id": "1JLVtATXhp45"
      },
      "outputs": [],
      "source": [
        "# your codes here (if needed)"
      ]
    },
    {
      "cell_type": "markdown",
      "metadata": {
        "id": "Lp5Ov-PRpcPG"
      },
      "source": [
        "### **Q38: Describe how you would start building out code to accomplish this task? What functions, statements, or keywords would you need to use? How would you start to organize this program?**"
      ]
    },
    {
      "cell_type": "markdown",
      "metadata": {
        "id": "7g_YOXl-pcPQ"
      },
      "source": [
        "**AnswerQ38:** Your answer here (double click to edit)"
      ]
    },
    {
      "cell_type": "code",
      "execution_count": null,
      "metadata": {
        "id": "SU7YrvE3pcPU"
      },
      "outputs": [],
      "source": [
        "# your codes here (if needed)"
      ]
    },
    {
      "cell_type": "markdown",
      "metadata": {
        "id": "sah8ynOkpdNE"
      },
      "source": [
        "### **Q39: See where you can get with writing this program. What parts of the program were you able to get working? Where did you run into challenges?**"
      ]
    },
    {
      "cell_type": "markdown",
      "metadata": {
        "id": "8PnYNfnPpdNJ"
      },
      "source": [
        "**AnswerQ39:** Your answer here (double click to edit)"
      ]
    },
    {
      "cell_type": "code",
      "execution_count": null,
      "metadata": {
        "id": "wNZRJ_TDpdNO"
      },
      "outputs": [],
      "source": [
        "# your codes here (if needed)"
      ]
    },
    {
      "cell_type": "markdown",
      "metadata": {
        "id": "cejW6WYrpdZS"
      },
      "source": [
        "### **Q40: How does the sample program compare to your approach to the previous two questions? What was similar? What was different? How are you thinking differently (if at all) about how to approach this type of program?**"
      ]
    },
    {
      "cell_type": "markdown",
      "metadata": {
        "id": "tVDP7SMjpdZY"
      },
      "source": [
        "**AnswerQ40:** Your answer here (double click to edit)"
      ]
    },
    {
      "cell_type": "code",
      "execution_count": null,
      "metadata": {
        "id": "rc9ymEiupdZb"
      },
      "outputs": [],
      "source": [
        "# your codes here (if needed)"
      ]
    },
    {
      "cell_type": "markdown",
      "metadata": {
        "id": "DCg7Xn_Ppdjq"
      },
      "source": [
        "### **Q41: How would you write a program that calls the function you have created? Include code + comments.**"
      ]
    },
    {
      "cell_type": "markdown",
      "metadata": {
        "id": "JjPSlZaXpdjr"
      },
      "source": [
        "**AnswerQ41:** Your answer here (double click to edit)"
      ]
    },
    {
      "cell_type": "code",
      "execution_count": null,
      "metadata": {
        "id": "NPLcIjoIpdjt"
      },
      "outputs": [],
      "source": [
        "# your codes here (if needed)"
      ]
    },
    {
      "cell_type": "markdown",
      "metadata": {
        "id": "DFfWlvzFpdt5"
      },
      "source": [
        "### **Q42: Write a function `is_even` that determines whether or not a number `n` is even. Include code + comments for the function definition as well as a sample function call.**"
      ]
    },
    {
      "cell_type": "markdown",
      "metadata": {
        "id": "edA5OACrpdt8"
      },
      "source": [
        "**AnswerQ42:** Your answer here (double click to edit)"
      ]
    },
    {
      "cell_type": "code",
      "execution_count": null,
      "metadata": {
        "id": "d4LfQpixpdt_"
      },
      "outputs": [],
      "source": [
        "# your codes here (if needed)"
      ]
    },
    {
      "cell_type": "markdown",
      "metadata": {
        "id": "qZZRykVhpd3i"
      },
      "source": [
        "### **Q43: Write a function `average` that determines the average value of a list. Include code + comments for the function definition as well as a sample function call.**"
      ]
    },
    {
      "cell_type": "markdown",
      "metadata": {
        "id": "5UE79yILpd3j"
      },
      "source": [
        "**AnswerQ43:** Your answer here (double click to edit)"
      ]
    },
    {
      "cell_type": "code",
      "execution_count": null,
      "metadata": {
        "id": "DmcjwxLMpd3k"
      },
      "outputs": [],
      "source": [
        "# your codes here (if needed)"
      ]
    },
    {
      "cell_type": "markdown",
      "metadata": {
        "id": "QnjvlHRQpd_J"
      },
      "source": [
        "### **Q44: Write a function `uniq` that takes a list and returns a new list containing only unique values. Include code + comments for the function definition as well as a sample function call.**"
      ]
    },
    {
      "cell_type": "markdown",
      "metadata": {
        "id": "DAxn5wwqpd_K"
      },
      "source": [
        "**AnswerQ44:** Your answer here (double click to edit)"
      ]
    },
    {
      "cell_type": "code",
      "execution_count": null,
      "metadata": {
        "id": "IJF9ucvapd_L"
      },
      "outputs": [],
      "source": [
        "# your codes here (if needed)"
      ]
    },
    {
      "cell_type": "markdown",
      "metadata": {
        "id": "cVWjLRqgpeHO"
      },
      "source": [
        "### **Q45: The Python code below is suppose to create a function that determines if the given list of numbers is sorted. That is, the function should return `True` if each item in the list is less than the next item. Unfortunately, there are a few errors in the code below. Identify the errors and fix the code. Include your modified code with comments that document what changes you made to address the errors.**"
      ]
    },
    {
      "cell_type": "code",
      "execution_count": null,
      "metadata": {
        "id": "IapN2w4gXX5h"
      },
      "outputs": [],
      "source": [
        "# program to debug for Q45\n",
        "\n",
        "is_sorted([1, 2, 3, 4, 2])\n",
        "\n",
        "def is_sorted(numbers):\n",
        "    ''' Return whether or not the list of numbers is sorted '''\n",
        "    for i in range(len(numbers) - 1):\n",
        "        if numbers[i] > numbers[i + 1]:\n",
        "            return False\n",
        "    return True"
      ]
    },
    {
      "cell_type": "markdown",
      "metadata": {
        "id": "N0OGvNnKpeHR"
      },
      "source": [
        "**AnswerQ45:** Your answer here (double click to edit)"
      ]
    },
    {
      "cell_type": "code",
      "execution_count": null,
      "metadata": {
        "id": "jp9_phxopeHU"
      },
      "outputs": [],
      "source": [
        "# your codes here (if needed)"
      ]
    },
    {
      "cell_type": "markdown",
      "metadata": {
        "id": "fuxhFii8peOo"
      },
      "source": [
        "### **Q46: In your own words, what is a function?**"
      ]
    },
    {
      "cell_type": "markdown",
      "metadata": {
        "id": "Bu6oEQH5peOq"
      },
      "source": [
        "**AnswerQ47:** Your answer here (double click to edit)"
      ]
    },
    {
      "cell_type": "code",
      "execution_count": null,
      "metadata": {
        "id": "DQp-CMO2peOq"
      },
      "outputs": [],
      "source": [
        "# your codes here (if needed)"
      ]
    },
    {
      "cell_type": "markdown",
      "metadata": {
        "id": "sC1xIsC4peWI"
      },
      "source": [
        "### **Q47: In your own words, how do we create a function?**"
      ]
    },
    {
      "cell_type": "markdown",
      "metadata": {
        "id": "DEO3VII_peWJ"
      },
      "source": [
        "**AnswerQ47:** Your answer here (double click to edit)"
      ]
    },
    {
      "cell_type": "code",
      "execution_count": null,
      "metadata": {
        "id": "CeSlbASMpeWK"
      },
      "outputs": [],
      "source": [
        "# your codes here (if needed)"
      ]
    },
    {
      "cell_type": "markdown",
      "metadata": {
        "id": "Igpx0tJupedS"
      },
      "source": [
        "### **Q48: In your own words, what is an argument or parameter?**"
      ]
    },
    {
      "cell_type": "markdown",
      "metadata": {
        "id": "S-VEQScspedU"
      },
      "source": [
        "**AnswerQ48:** Your answer here (double click to edit)"
      ]
    },
    {
      "cell_type": "code",
      "execution_count": null,
      "metadata": {
        "id": "TDZcFw7spedU"
      },
      "outputs": [],
      "source": [
        "# your codes here (if needed)"
      ]
    },
    {
      "cell_type": "markdown",
      "metadata": {
        "id": "s6JnMh3rpekx"
      },
      "source": [
        "### **Q49: In your own words, what is a return value?**"
      ]
    },
    {
      "cell_type": "markdown",
      "metadata": {
        "id": "KhhWO5kQpekx"
      },
      "source": [
        "**AnswerQ49:** Your answer here (double click to edit)"
      ]
    },
    {
      "cell_type": "code",
      "execution_count": null,
      "metadata": {
        "id": "0D7wenaqpeky"
      },
      "outputs": [],
      "source": [
        "# your codes here (if needed)"
      ]
    },
    {
      "cell_type": "markdown",
      "metadata": {
        "id": "dgdzHRM3qIh3"
      },
      "source": [
        "### **Q50: Why would we use functions, or what is the value of functions?**"
      ]
    },
    {
      "cell_type": "markdown",
      "metadata": {
        "id": "u2KEb2E3qJHJ"
      },
      "source": [
        "**AnswerQ50:** Your answer here (double click to edit)"
      ]
    },
    {
      "cell_type": "code",
      "execution_count": null,
      "metadata": {
        "id": "FtcNYi4SqJow"
      },
      "outputs": [],
      "source": [
        "# your codes here (if needed)"
      ]
    }
  ],
  "metadata": {
    "kernelspec": {
      "display_name": "Python 3",
      "language": "python",
      "name": "python3"
    },
    "language_info": {
      "codemirror_mode": {
        "name": "ipython",
        "version": 3
      },
      "file_extension": ".py",
      "mimetype": "text/x-python",
      "name": "python",
      "nbconvert_exporter": "python",
      "pygments_lexer": "ipython3",
      "version": "3.8.5"
    },
    "colab": {
      "name": "python-conditional-statements-functions-combined-template.ipynb",
      "provenance": [],
      "toc_visible": true,
      "include_colab_link": true
    }
  },
  "nbformat": 4,
  "nbformat_minor": 0
}