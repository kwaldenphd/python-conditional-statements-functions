{
 "cells": [
  {
   "cell_type": "markdown",
   "metadata": {},
   "source": [
    "# Conditional Statements and Functions in Python\n",
    "\n",
    "<a href=\"http://creativecommons.org/licenses/by-nc/4.0/\" rel=\"license\"><img style=\"border-width: 0;\" src=\"https://i.creativecommons.org/l/by-nc/4.0/88x31.png\" alt=\"Creative Commons License\" /></a>\n",
    "This tutorial is licensed under a <a href=\"http://creativecommons.org/licenses/by-nc/4.0/\" rel=\"license\">Creative Commons Attribution-NonCommercial 4.0 International License</a>.\n",
    "\n",
    "## Lab Objectives\n",
    "\n",
    "By the end of this lab, students will be able to\n",
    "- Define conditional statements and conditional execution\n",
    "- Use Boolean operators and logical expressions to build conditional statements\n",
    "- Describe the differences between a while and for loop\n",
    "- Write programs that use iteration and loops to accomplish specific task prompts\n",
    "- Convert programs written using a for loop to a while loop\n",
    "- Write functions that accomplish specific tasks prompts\n",
    "\n",
    "## Acknowledgements\n",
    "\n",
    "Elements of this lab procedure were adapted from materials developed by [Dr. Peter Bui](http://www3.nd.edu/~pbui/) for the [CSE 10101 \"Elements of Computing I\" course](https://www3.nd.edu/~pbui/teaching/cdt.30010.fa16/).\n",
    "- [Conditional and Alternative Execution](http://nbviewer.jupyter.org/urls/gitlab.com/snippets/25773/raw)\n",
    "- [Loops](http://nbviewer.jupyter.org/urls/gitlab.com/snippets/26115/raw)\n",
    "- [Functions](http://nbviewer.jupyter.org/urls/gitlab.com/snippets/26619/raw)\n",
    "\n",
    "Elements of this lab procedure were adapted from materials developed by [Dr. Janet Davis](https://cs.whitman.edu/~davisj/) for the the [CSC 105 \"The Digital Age\" course](https://www.cs.grinnell.edu/~davisjan/csc/105/2012S/). \n",
    "- [Laboratory: Programming in Python (Decisions and Repetition)](http://www.cs.grinnell.edu/~davisjan/csc/105/labs/python3.html)\n",
    "\n",
    "Elements of this lab procedure were adapted from materials developed by [Dr. Corey Pennycuff](https://www3.nd.edu/~cpennycu/) for the [CSE 10101 Elements of Computing (Fall 2019)](https://www3.nd.edu/~cpennycu/2019/fa-CSE10101-CDT30010.html).\n",
    "- [Control flow structures](https://www3.nd.edu/~cpennycu/2019/assets/fall/EOC/19.09.03.ipynb)\n",
    "- [Looping structures](https://www3.nd.edu/~cpennycu/2019/fa-CSE10101-CDT30010.html)\n",
    "- [Functions](https://www3.nd.edu/~cpennycu/2019/assets/fall/EOC/19.09.19.ipynb)\n",
    "- [String functions and manipulation](https://www3.nd.edu/~cpennycu/2019/assets/fall/EOC/19.10.01.ipynb)\n",
    "\n",
    "Elements of this lab procedure were adapted from materials developed by [Lindsay K. Mattock](http://lindsaymattock.net/) for the the [SLIS 5020 Computing Foundations course](http://lindsaymattock.net/computingfoundations.html). \n",
    "\n",
    "# Table of Contents\n",
    "\n",
    "- [Conditional Statements](#conditional-statements)\n",
    "  * [Operator Review](#operator-review)\n",
    "  * [`'if` Statements](#if-statements)\n",
    "  * [`if` Statements and Strings](#if-statements-and-strings)\n",
    "  * [`if-else` Statements](#if-else-statements)\n",
    "  * [Additional Work With `if` Statements](#additional-work-with-if-statements)\n",
    "- [Control Flow](#control-flow)\n",
    "- [Loops](#loops)\n",
    "  * [`for` Loops](#for-loops)\n",
    "    * [`for` Loops and Lists of Numbers](#for-loops-and-lists-of-numbers)\n",
    "    * [`for` Loops and Strings](#for-loops-and-strings)\n",
    "    * [Other `for` Loop Functions](#other-for-loop-functions)\n",
    "      * [`range()`](#range)\n",
    "      * [`enumerate()`](#enumerate)\n",
    "    * [Other `for` Loop Considerations](#other-for-loop-considerations)\n",
    "    * [`for` Loops: Putting It All Together](#for-loops-putting-it-all-together)\n",
    "    * [Conditional Statements and `for` Loops](#conditional-statements-and-for-loops)\n",
    "      * [`for` Loop Example A](#for-loop-example-a)\n",
    "      * [`for` Loop Example B](#for-loop-example-b)\n",
    "    * [OPTIONAL: Additional Practice With `For` Loops](#optional-additional-practice-with-for-loops)\n",
    "  * [`while` Loops](#while-loops)\n",
    "    * [`while` Loop Examples](#while-loop-examples)\n",
    "      * [`while` Loop Example A](#while-loop-example-a)\n",
    "      * [`while` Loop Example B](#while-loop-example-b)\n",
    "      * [`while` Loop Example C](#while-loop-example-c)\n",
    "    * [Additional `while` Loop Considerations](#additional-while-loop-considerations)\n",
    "      * [`while` Loops and Nested Conditional Statements](#while-loops-and-nested-conditional-statements)\n",
    "      * [`break`](#break)\n",
    "      * [`continue`](#continue)\n",
    "  * [Additional Work With Loops](#additional-work-with-loops)\n",
    "- [Functions](#functions)\n",
    "  * [Built-In Functions](#built-in-functions)\n",
    "  * [Named Functions](#named-functions)\n",
    "    * [How Named Functions Work](#how-named-functions-work)\n",
    "    * [Name Function Examples](#named-function-examples)\n",
    "      * [Function Example A](#function-example-a)\n",
    "      * [Function Example B](#function-example-b)\n",
    "    * [Additional Function Considerations](#additional-function-considerations)\n",
    "      * [Fruitful Versus Void Functions](#fruitful-versus-void-functions)\n",
    "      * [Parameters](#parameters)\n",
    "      * [Scoping](#scoping)\n",
    "      * [Docstrings](#docstrings)\n",
    "  * [Why Functions](#why-functions)\n",
    "  * [Additional Work With Functions](#additional-work-with-functions)\n",
    "- [Lab Notebook Questions](#lab-notebook-questions)\n",
    "\n",
    "# Conditional Statements\n",
    "\n",
    "1. So far, all the programs we have written work by executing each statement in the program in order, from top to bottom. \n",
    "\n",
    "2. To write programs that solve more complex problems, we need mechanisms that will allow statements to be executed in more complex ways. \n",
    "\n",
    "3. For example, we might like to execute some statements under some conditions but not others, or we might like to execute some statements multiple times. \n",
    "\n",
    "4. Behold- conditional statements!\n",
    "\n",
    "5. We can use conditional statements to change the behavior of a program based on whether specific conditions are or are not met.\n",
    "\n",
    "6. To put this another way, conditional statements check boolean expressions (i.e. conditions), and change the behavior of the program accordingly.\n",
    "\n",
    "## Operator Review\n",
    "\n",
    "7. Operators used to compare two objects:\n",
    "- `==`    equal to\n",
    "- `==`    equal to\n",
    "- `!=`    not equal to\n",
    "- `>=`    greater than or equal to\n",
    "- `>`     greater than\n",
    "- `<`     less than\n",
    "- `<=`    less than or equal to\n",
    "\n",
    "8. Boolean logical operators:\n",
    "- `and`   both must be true\n",
    "- `or`    one or both must be true\n",
    "- `not`   reverses the truth value\n",
    "\n",
    "9. We can use and test for conditions in a few key ways, specifically through `if` statements and `loops`.\n",
    "\n",
    "10. More on loops later, but for now...\n",
    "\n",
    "## `if` Statements\n",
    "\n",
    "11. Python's comparison operators serve as conditional tests that return a True or False."
   ]
  },
  {
   "cell_type": "code",
   "execution_count": 3,
   "metadata": {},
   "outputs": [
    {
     "name": "stdout",
     "output_type": "stream",
     "text": [
      "False\n",
      "True\n",
      "False\n",
      "True\n",
      "False\n",
      "True\n",
      "False\n",
      "True\n",
      "False\n",
      "True\n",
      "True\n",
      "True\n"
     ]
    }
   ],
   "source": [
    "#set the variable number to 10\n",
    "number = 10\n",
    "\n",
    "#the following statements will return true or false\n",
    "\n",
    "# EQUAL !==\n",
    "print(number == 15)\n",
    "print(number ==10)\n",
    "\n",
    "# GREATER THAN >\n",
    "print(number > 10)\n",
    "print(number > 4)\n",
    "\n",
    "# LESS THAN <\n",
    "print(number < 10)\n",
    "print(number < 15)\n",
    "\n",
    "# GREATER THAN OR EQUAL TO >=\n",
    "print(number >= 15)\n",
    "print(number >= 10)\n",
    "\n",
    "# LESS THAN OR EQUAL TO <=\n",
    "print(number <= 4)\n",
    "print(number <= 10)\n",
    "\n",
    "#TESTING MULTIPLE CONDITIONS\n",
    "\n",
    "#AND\n",
    "print(number > 1 and number <20)\n",
    "\n",
    "#OR\n",
    "print(number ==10 or number ==20)"
   ]
  },
  {
   "cell_type": "markdown",
   "metadata": {},
   "source": [
    "12. `if` statements use the `if` keyword to test if a condition is true.\n",
    "\n",
    "13. `if` statements are conditional, meaning that there is a test to determine if a statement is true or false, and then the computer takes some defined action.\n",
    "\n",
    "14. The basic syntax for an `if` statement:"
   ]
  },
  {
   "cell_type": "raw",
   "metadata": {},
   "source": [
    "if condition:\n",
    " statement(s)"
   ]
  },
  {
   "cell_type": "markdown",
   "metadata": {},
   "source": [
    "15. The `if` statement tests if a particular condition is true. And if so, executes the command nested under the initial `if` statement.\n",
    "\n",
    "16. To illustrate that another way:"
   ]
  },
  {
   "cell_type": "raw",
   "metadata": {},
   "source": [
    "if this condition is true:\n",
    " then do this thing"
   ]
  },
  {
   "cell_type": "markdown",
   "metadata": {},
   "source": [
    "17. A couple things to note about this syntax:\n",
    "- A colon always follows the first line of an `if` statement\n",
    "- The code that will run if the statement is true is nested or intented beneath the `if` keyword\n",
    "\n",
    "18. For example, let's say we have a Python program where the variable `n` equals `0`.\n",
    "\n",
    "19. We want to write a program that, if `n` equals `0`, prints the message `n is zero`.\n",
    "\n",
    "20. We can do that using an `if` statement."
   ]
  },
  {
   "cell_type": "code",
   "execution_count": 4,
   "metadata": {},
   "outputs": [
    {
     "name": "stdout",
     "output_type": "stream",
     "text": [
      "n is zero\n"
     ]
    }
   ],
   "source": [
    "n = 0\n",
    "\n",
    "if n == 0:\n",
    " print('n is zero')"
   ]
  },
  {
   "cell_type": "markdown",
   "metadata": {},
   "source": [
    "21. Let's see another `if` statement in action.\n",
    "\n",
    "22. This time, we are going to ask the user for an input, and use that input in an `if` statement."
   ]
  },
  {
   "cell_type": "code",
   "execution_count": 5,
   "metadata": {},
   "outputs": [
    {
     "name": "stdout",
     "output_type": "stream",
     "text": [
      "Enter a number: test\n"
     ]
    },
    {
     "ename": "ValueError",
     "evalue": "invalid literal for int() with base 10: 'test'",
     "output_type": "error",
     "traceback": [
      "\u001b[1;31m---------------------------------------------------------------------------\u001b[0m",
      "\u001b[1;31mValueError\u001b[0m                                Traceback (most recent call last)",
      "\u001b[1;32m<ipython-input-5-8e6810393933>\u001b[0m in \u001b[0;36m<module>\u001b[1;34m\u001b[0m\n\u001b[1;32m----> 1\u001b[1;33m \u001b[0mnumber\u001b[0m \u001b[1;33m=\u001b[0m \u001b[0mint\u001b[0m\u001b[1;33m(\u001b[0m\u001b[0minput\u001b[0m\u001b[1;33m(\u001b[0m\u001b[1;34m\"Enter a number: \"\u001b[0m\u001b[1;33m)\u001b[0m\u001b[1;33m)\u001b[0m\u001b[1;33m\u001b[0m\u001b[1;33m\u001b[0m\u001b[0m\n\u001b[0m\u001b[0;32m      2\u001b[0m \u001b[1;32mif\u001b[0m \u001b[0mnumber\u001b[0m \u001b[1;33m>\u001b[0m \u001b[1;36m0\u001b[0m\u001b[1;33m:\u001b[0m\u001b[1;33m\u001b[0m\u001b[1;33m\u001b[0m\u001b[0m\n\u001b[0;32m      3\u001b[0m   \u001b[0mprint\u001b[0m\u001b[1;33m(\u001b[0m\u001b[1;34m\"That number is positive.\"\u001b[0m\u001b[1;33m)\u001b[0m\u001b[1;33m\u001b[0m\u001b[1;33m\u001b[0m\u001b[0m\n",
      "\u001b[1;31mValueError\u001b[0m: invalid literal for int() with base 10: 'test'"
     ]
    }
   ],
   "source": [
    "number = int(input(\"Enter a number: \"))\n",
    "if number > 0:\n",
    "  print(\"That number is positive.\")"
   ]
  },
  {
   "cell_type": "markdown",
   "metadata": {},
   "source": [
    "<blockquote>Be sure to double check indentation in your code.</blockquote>\n",
    "\n",
    "23. See what happens when you enter different number values.\n",
    "\n",
    "24. If you enter a positive number, the `That number is positive` message will print. \n",
    "\n",
    "25. If you enter a negative number or zero, no message is printed. \n",
    "\n",
    "26. Now let's add a second `print` statement (a message of your choosing) at the end of the program.\n",
    "\n",
    "27. The indentation for this second `print` statement needs to match `print(\"That number is positive.\")` in the previous example."
   ]
  },
  {
   "cell_type": "code",
   "execution_count": null,
   "metadata": {},
   "outputs": [],
   "source": [
    "number = int(input(\"Enter a number: \"))\n",
    "if number > 0:\n",
    "  print(\"That number is positive.\")\n",
    "  print('Second print statement goes here')"
   ]
  },
  {
   "cell_type": "markdown",
   "metadata": {},
   "source": [
    "28. How does entering different values affect the program output?\n",
    "\n",
    "29. Now, let's change the indentation for the second`print` statement.\n",
    "\n",
    "30. This time, instead of matching the `print(\"That number is positive.\")` indentation, the second print statement will be aligned with the `if` statement."
   ]
  },
  {
   "cell_type": "code",
   "execution_count": null,
   "metadata": {},
   "outputs": [],
   "source": [
    "number = int(input(\"Enter a number: \"))\n",
    "\n",
    "if number > 0:\n",
    "  print(\"That number is positive.\")\n",
    "\n",
    "print('Second print statement with modified indentation')"
   ]
  },
  {
   "cell_type": "markdown",
   "metadata": {},
   "source": [
    "31. How does modifying the indentation affect the program output?\n",
    "\n",
    "32. When Python encounters an `if` statement it checks whether the associated condition (in this case, `number > 0`) is true. \n",
    "\n",
    "33. If the condition is true, Python executes all statements that immediately follow AND are indented beneath the `if` clause. \n",
    "\n",
    "34. If the condition is false, no commands indented beneath the `if` clause are skipped. \n",
    "\n",
    "35. In either case, execution will then continue with the next un-indented statement. \n",
    "\n",
    "## `if` Statements and Strings\n",
    "\n",
    "36. The `if` statement and comparison operators work for comparing strings just like they do for comparing numbers.\n",
    "\n",
    "37. Let's write a program that asks the user to enter a color name.\n"
   ]
  },
  {
   "cell_type": "code",
   "execution_count": null,
   "metadata": {},
   "outputs": [],
   "source": [
    "color = input(\"Enter a color name\")\n",
    "\n",
    "print(\"You entered the color \" + color)"
   ]
  },
  {
   "cell_type": "markdown",
   "metadata": {},
   "source": [
    "38. Now, you want to use an `if` statement to print a message telling the user if the color they entered is your favorite color.\n",
    "\n",
    "39. If the color entered by the user is not your favorite color, no printed response is needed.\n",
    "\n",
    "40. Now, add a final line to your program that will print `Goodbye!` whenever the program ends, regardless of the color entered.\n",
    "\n",
    "41. Test your program to see if it works.\n",
    "\n",
    "42. Note- to checking whether your program works, you will have to run it at least twice, entering colors that test both possible outcomes."
   ]
  },
  {
   "cell_type": "markdown",
   "metadata": {},
   "source": [
    "<blockquote>Q1: Provide your code + comments for steps 37-42.</blockquote>\n",
    "\n",
    "<blockquote>Q2: Describe how you approached writing the program for Q1.</blockquote>"
   ]
  },
  {
   "cell_type": "markdown",
   "metadata": {},
   "source": [
    "## `if-else` Statements\n",
    "\n",
    "43. Suppose we want to print one message when the condition (`number > 0`) is true, and a different message when the condition is false. \n",
    "\n",
    "44. We can do that by using an `else` clause along with an `if` keyword.\n",
    "\n",
    "45. The basic syntax for `if-else`:"
   ]
  },
  {
   "cell_type": "raw",
   "metadata": {},
   "source": [
    "if condition:\n",
    " statement(s)\n",
    "else:\n",
    " statement(s)"
   ]
  },
  {
   "cell_type": "markdown",
   "metadata": {},
   "source": [
    "46. The statement indented beneath the `if` keyword will only run when the `if` condition is true.\n",
    "\n",
    "47. In an `if-else` statement, the statement indented beneath `else` will only run if the `if` condition is not true (or false).\n",
    "\n",
    "48. An example that illustrates this logic:"
   ]
  },
  {
   "cell_type": "code",
   "execution_count": null,
   "metadata": {},
   "outputs": [],
   "source": [
    "# ask user to enter a number\n",
    "number = input(\"Enter a number: \")\n",
    "\n",
    "# test if number is greater than zero\n",
    "if number > 0:\n",
    "  print (\"That number is positive.\")\n",
    "\n",
    "# if number is not greater than zero\n",
    "else:\n",
    "  print (\"Definitely NOT positive.\")\n",
    "\n",
    "# message that prints at end of program\n",
    "print (\"This message prints every time.\")"
   ]
  },
  {
   "cell_type": "markdown",
   "metadata": {},
   "source": [
    "<blockquote>Q3: Return to the program you wrote for Q1 and Q2. Modify this program so it prints one message if the user enters your favorite color, and a different message if not. In addition, your program should print a final message for every user, regardless of what they entered. Include code + comments.</blockquote>"
   ]
  },
  {
   "cell_type": "markdown",
   "metadata": {},
   "source": [
    "## Additional Work With `if` Statements\n",
    "\n",
    "49. We can also test for values in a list."
   ]
  },
  {
   "cell_type": "code",
   "execution_count": null,
   "metadata": {},
   "outputs": [],
   "source": [
    "fruits = ['apple', 'pear', 'orange']\n",
    "\n",
    "#a test to see if apple is on the list\n",
    "if 'apple' in fruits:\n",
    "  print('Would you like an apple?')\n",
    "else:\n",
    "  print('Sorry, we are all out of apples.')\n",
    "\n",
    "#a test to see if banana is NOT on the list\n",
    "if 'banana' not in fruits:\n",
    "  print('Yes, we have no bananas')\n",
    "else:\n",
    "  print('Would you like a banana?')"
   ]
  },
  {
   "cell_type": "markdown",
   "metadata": {},
   "source": [
    "<blockquote>Q4: Explain what this program will output and why.</blockquote>"
   ]
  },
  {
   "cell_type": "markdown",
   "metadata": {},
   "source": [
    "50. We can check more than one condition using chained conditional statements (or chained conditionals).\n",
    "- Key term: *chained conditionals*"
   ]
  },
  {
   "cell_type": "code",
   "execution_count": null,
   "metadata": {},
   "outputs": [],
   "source": [
    "a = 200\n",
    "b = 33\n",
    "c = 500\n",
    "\n",
    "if a > b or a > c:\n",
    " print(\"At least one of the conditions is True\")"
   ]
  },
  {
   "cell_type": "markdown",
   "metadata": {},
   "source": [
    "51. We can also nest conditional statements inside another conditional statement.\n",
    "- Key term: *nested conditionals*"
   ]
  },
  {
   "cell_type": "code",
   "execution_count": null,
   "metadata": {},
   "outputs": [],
   "source": [
    "x = 41\n",
    "\n",
    "if x > 10:\n",
    "  print(\"Above ten,\")\n",
    "  if x > 20:\n",
    "    print(\"and also above 20!\")\n",
    "  else:\n",
    "    print(\"but not above 20.\") "
   ]
  },
  {
   "cell_type": "markdown",
   "metadata": {},
   "source": [
    "52. NOTE: Python works from left to right evaluating a logical expression or conditional statement. Python stops evaluating when it finds the expression is `True` or `False` based on the conditional statement.\n",
    "\n",
    "53. Syntax errors will interrupt program execution.\n",
    "\n",
    "<blockquote><a href=\"https://www.w3schools.com/python/python_conditions.asp\">Click here</a> to learn more about conditional statements in Python, via W3Schools.</blockquote>\n",
    "\n",
    "# Control Flow\n",
    "\n",
    "54. In programming languages, control flow governs the order in which a program executes.\n",
    "\n",
    "55. In Python, control flow is regulated through conditional statements, loops, and function calls- all things we will be covering in this lab!\n",
    "\n",
    "56. Examples include:\n",
    "- `if` statements\n",
    "- `for` and `while` loops\n",
    "- Functions\n",
    "\n",
    "57. A few examples of control flow and conditional execution in action."
   ]
  },
  {
   "cell_type": "code",
   "execution_count": null,
   "metadata": {},
   "outputs": [],
   "source": [
    "# if statement example \n",
    "\n",
    "# declares a variable\n",
    "a = 2019\n",
    "\n",
    "# declares b variable\n",
    "b = 2000\n",
    "\n",
    "# ‘if’ conditional statement that compares the two variables and prints the output if the condition is met    \n",
    "if b > a:\n",
    " print(\"b is greater than a\")"
   ]
  },
  {
   "cell_type": "code",
   "execution_count": null,
   "metadata": {},
   "outputs": [],
   "source": [
    "# if..else statement example\n",
    "\n",
    "# declares x variable\n",
    "x = .01\n",
    "\n",
    "# reassigns x variable\n",
    "x = x + .01\n",
    "\n",
    "# reassigns x variable a second time\n",
    "x = x * 50\n",
    "\n",
    "# conditional statement using if--else\n",
    "if x == 1:\n",
    " print('Yes')\n",
    "else:\n",
    " print('No')"
   ]
  },
  {
   "cell_type": "markdown",
   "metadata": {},
   "source": [
    "58. The previous section of the lab focused on the `if` and `if..else` keywords.\n",
    "\n",
    "59. We can also use the `elif` keyword along with the `if` keyword to introduce a new condition. \n",
    "\n",
    "60. Python will test the `elif` condition if previous conditions are not true."
   ]
  },
  {
   "cell_type": "code",
   "execution_count": null,
   "metadata": {},
   "outputs": [],
   "source": [
    "# elif statement example\n",
    "\n",
    "# declares x variable\n",
    "x = 1\n",
    "\n",
    "# block of code that runs if x is less than 0\n",
    "if x < 0:\n",
    " print(\"x is less than 0\")\n",
    "\n",
    "# block of code that runs if x equals zero\n",
    "elif x == 0:\n",
    " print(\"x is equal to 0\")\n",
    "\n",
    "# block of code that runs if x is greater than 0\n",
    "else:\n",
    " print(\"x is greater than 0\")"
   ]
  },
  {
   "cell_type": "code",
   "execution_count": null,
   "metadata": {},
   "outputs": [],
   "source": [
    "# another elif example\n",
    "\n",
    "# assign a variable \n",
    "a = 33\n",
    "\n",
    "# assign b variable \n",
    "b = 33\n",
    "\n",
    "# conditional statement using if\n",
    "if b > 1:\n",
    " print(\"b is greater than a\")\n",
    " \n",
    "# conditional statment using elif to test, only when if statement is false\n",
    "elif a == b:\n",
    " print(\"a and b are equal\")"
   ]
  },
  {
   "cell_type": "code",
   "execution_count": null,
   "metadata": {},
   "outputs": [],
   "source": [
    "# example using chained conditional statements\n",
    "\n",
    "# assign a variable\n",
    "a = 2020\n",
    "\n",
    "# assign b variable\n",
    "b = 2019\n",
    "\n",
    "# assign c variable\n",
    "c = 2018\n",
    "\n",
    "# chained conditional statements using and\n",
    "if a > b and c > a:\n",
    " print(\"Both conditions are True\")\n",
    " \n",
    "# chained conditional statements using or\n",
    "if a > b or a > c:\n",
    " print(\"At least one of these conditions is true\")"
   ]
  },
  {
   "cell_type": "markdown",
   "metadata": {},
   "source": [
    "# Loops\n",
    "\n",
    "61. Loop statements are a type of conditional statement that rely on the underlying logic of conditional execution.\n",
    "\n",
    "62. In Python, loops repeatedly execute a series of tasks.\n",
    "- Key term: *loop(s), looping*\n",
    "\n",
    "63. Each time through the body of a loop is called an iteration.\n",
    "- Key term: *iteration*\n",
    "\n",
    "64. An iteration can involve things like iterating through items in a list or testing if specific conditions are met, and then doing “something” as the result or endpoint for the loop.\n",
    "\n",
    "65. Loops normally contains a variable that changes within the body of the loop so that we can eventually exit the loop. \n",
    "\n",
    "66. If a loop never exits, then this is called an infinite loop.\n",
    "- Key term: *infinite loop*\n",
    "\n",
    "67. In short, the computer will continue to follow the loop instructions, until it can’t perform that function any longer. \n",
    "\n",
    "## `for` Loops\n",
    "\n",
    "68. `for` loops let us iterate through a definite set of objects.\n",
    "\n",
    "69. In each iteration through the `for` loop, Python will:\n",
    "- Extract one element from the dataset\n",
    "- Execute the body of the `for` loop using the item bound to the element\n",
    "- Go back to the first step\n",
    "- Keep iterating through the loop until reaching the end of the dataset\n",
    "\n",
    "70. The basic syntax in a `for` loop:"
   ]
  },
  {
   "cell_type": "raw",
   "metadata": {},
   "source": [
    "for item in dataset:\n",
    " statement(s)"
   ]
  },
  {
   "cell_type": "markdown",
   "metadata": {},
   "source": [
    "71. In this syntax, `item` is a placeholder for each element in `dataset`. \n",
    "\n",
    "72. You can replace `item` with another word or letter character."
   ]
  },
  {
   "cell_type": "raw",
   "metadata": {},
   "source": [
    "for i in dataset"
   ]
  },
  {
   "cell_type": "markdown",
   "metadata": {},
   "source": [
    "73. In this syntax, `dataset` stands for the list of items we want Python to iterate over.\n",
    "\n",
    "74. That list of items could be a list variable, a list of numbers, a string of characters, etc.\n",
    "\n",
    "### `for` Loops and Lists of Numbers\n",
    "\n",
    "75. Let's say we have a list of numbers, and we want Python to iterate through each number in the list and print the number."
   ]
  },
  {
   "cell_type": "code",
   "execution_count": null,
   "metadata": {},
   "outputs": [],
   "source": [
    "for i in [0, 1, 2, 3]:\n",
    " print(i)"
   ]
  },
  {
   "cell_type": "markdown",
   "metadata": {},
   "source": [
    "76. Alternatively, we could create a variable for our list of numbers."
   ]
  },
  {
   "cell_type": "code",
   "execution_count": null,
   "metadata": {},
   "outputs": [],
   "source": [
    "# create list of numbers\n",
    "number_list = [0, 1, 2, 3]\n",
    "\n",
    "# for loop\n",
    "for i in number_list:\n",
    " print(i)"
   ]
  },
  {
   "cell_type": "markdown",
   "metadata": {},
   "source": [
    "77. The loop command steps through the list one value at a time. \n",
    "\n",
    "78. The loop continues until it reaches the end of the list. \n",
    "\n",
    "### `for` Loops and Strings\n",
    "\n",
    "79. We can also use a `for` loop to iterate over a list of strings.\n",
    "\n",
    "80. Let's say we have a list of pepper types."
   ]
  },
  {
   "cell_type": "code",
   "execution_count": null,
   "metadata": {},
   "outputs": [],
   "source": [
    "peppers = [\"bell\", \"poblano\", \"jalapeno\", “banana”, “chile”, “cayenne”]"
   ]
  },
  {
   "cell_type": "markdown",
   "metadata": {},
   "source": [
    "81. We can use a `for` loop to iterate over each string in the list."
   ]
  },
  {
   "cell_type": "code",
   "execution_count": null,
   "metadata": {},
   "outputs": [],
   "source": [
    "peppers = [\"bell\", \"poblano\", \"jalapeno\", “banana”, “chile”, “cayenne”]\n",
    "\n",
    "for x in peppers:\n",
    " print(x)"
   ]
  },
  {
   "cell_type": "markdown",
   "metadata": {},
   "source": [
    "82. We can also use a `for` loop to iterate through characters in a single string.\n",
    "\n",
    "83. Let's say we want to iterate over the characters in the string `elements`."
   ]
  },
  {
   "cell_type": "code",
   "execution_count": null,
   "metadata": {},
   "outputs": [],
   "source": [
    "for x in 'elements':\n",
    " print(x)"
   ]
  },
  {
   "cell_type": "code",
   "execution_count": null,
   "metadata": {},
   "outputs": [],
   "source": [
    "# another example of iterating over characters in a string\n",
    "\n",
    "string = 'elements'\n",
    "\n",
    "for x in string:\n",
    " print(x)"
   ]
  },
  {
   "cell_type": "markdown",
   "metadata": {},
   "source": [
    "### Other `for` Loop Functions\n",
    "\n",
    "#### `range()`\n",
    "\n",
    "84. We can use the `range()` function to generate a list of numbers."
   ]
  },
  {
   "cell_type": "code",
   "execution_count": null,
   "metadata": {},
   "outputs": [],
   "source": [
    "range(0, 3)"
   ]
  },
  {
   "cell_type": "markdown",
   "metadata": {},
   "source": [
    "85. We can use the `range()` function as part of a `for` loop."
   ]
  },
  {
   "cell_type": "code",
   "execution_count": null,
   "metadata": {},
   "outputs": [],
   "source": [
    "for i in range(0, 3):\n",
    " print(i)"
   ]
  },
  {
   "cell_type": "markdown",
   "metadata": {},
   "source": [
    "#### `enumerate()`\n",
    "\n",
    "86. In a previous lab, we talked about how each item in a list has an index, or a number that indicates its position in the list.\n",
    "\n",
    "87. We can use the `enumerate()` function to generate a list of pairs containing each item in the list and its index."
   ]
  },
  {
   "cell_type": "code",
   "execution_count": null,
   "metadata": {},
   "outputs": [],
   "source": [
    "list(enumerate(['a','b','c'])"
   ]
  },
  {
   "cell_type": "markdown",
   "metadata": {},
   "source": [
    "88. We can use the `enumerate()` function as part of a `for` loop."
   ]
  },
  {
   "cell_type": "code",
   "execution_count": null,
   "metadata": {},
   "outputs": [],
   "source": [
    "for index, letter in enumerate('abc'):\n",
    " print(index, letter)"
   ]
  },
  {
   "cell_type": "markdown",
   "metadata": {},
   "source": [
    "89. In this last example, `for index, letter` instructed Python to iterate over both components in the `enumerate()` output.\n",
    "\n",
    "90. `print(index, letter)` instructed Python to print both components for each element.\n",
    "\n",
    "### Other `for` Loop Considerations\n",
    "\n",
    "91. Let's say we have a nested list, or a list that contains sub-lists."
   ]
  },
  {
   "cell_type": "code",
   "execution_count": null,
   "metadata": {},
   "outputs": [],
   "source": [
    "numlist = [[0, 42], [67543, -987654]]"
   ]
  },
  {
   "cell_type": "markdown",
   "metadata": {},
   "source": [
    "<blockquote>Q5: What do you think will happen if we write a for loop for numlist? What would be a single element in the list?</blockquote>"
   ]
  },
  {
   "cell_type": "markdown",
   "metadata": {},
   "source": [
    "92. Remember in a nested list, or a list with sub-lists, each sub-list is an item or element in the list.\n",
    "\n",
    "<blockquote><a href=\"https://www.w3schools.com/python/python_for_loops.asp\">Click here</a> to learn more about <code>for</code> loops in Python, via W3Schools.</blockquote>\n",
    "\n",
    "### `for` Loops: Putting It All Together\n",
    "\n",
    "93. Let's start combining `for` loops with some of the concepts covered in previous labs."
   ]
  },
  {
   "cell_type": "code",
   "execution_count": null,
   "metadata": {},
   "outputs": [],
   "source": [
    "#loops through a list of the members of the House Stark.\n",
    "\n",
    "characters = ['Arya', ' Benjen', 'Bran', 'Catelyn', 'Eddard', 'Rickon', 'Robb', 'Sansa']\n",
    "\n",
    "for character in characters:\n",
    "  print(character.title() + \"Stark\")"
   ]
  },
  {
   "cell_type": "markdown",
   "metadata": {},
   "source": [
    "\n",
    "<blockquote>Note the use of the plural for the name of the list and the singular for the individual item is not required. We are just declaring variables here. We can use anything to name the individual items (e.g. for person in characters). All this does is set a new variable for the individual item. Standard convention is to use the plural and singular terms so that the person reading the code can interpret what it is doing.</blockquote>\n",
    "\n",
    "94. Remember the loop command steps through the list one value at a time. The loop continues until it reaches the end of the list. \n",
    "\n",
    "95. In this case, for each item in the list called `“characters”` the program prints the value of each `“character”` in the list concatenated with the string `\" Stark”`. \n",
    "\n",
    "96. This produces the output:"
   ]
  },
  {
   "cell_type": "raw",
   "metadata": {},
   "source": [
    "Arya Stark\n",
    "Benjen Stark\n",
    "Bran Stark\n",
    "Catelyn Stark\n",
    "Eddard Stark\n",
    "Rickon Stark\n",
    "Robb Stark\n",
    "Sansa Stark"
   ]
  },
  {
   "cell_type": "markdown",
   "metadata": {},
   "source": [
    "97. Now let's look at a different loop."
   ]
  },
  {
   "cell_type": "code",
   "execution_count": null,
   "metadata": {},
   "outputs": [],
   "source": [
    "characters = ['Arya', ' Benjen', 'Bran', 'Catelyn', 'Eddard', 'Rickon', 'Robb', 'Sansa']\n",
    "print('Members of the House Stark:')\n",
    "for character in characters:\n",
    "  print(character.title() + \" Stark\")\n",
    "print(characters[0].title() + \" is my favorite.\")"
   ]
  },
  {
   "cell_type": "markdown",
   "metadata": {},
   "source": [
    "<blockquote>Q6: What do you expect this code to output? Explain how this program works in your own words.</blockquote>"
   ]
  },
  {
   "cell_type": "markdown",
   "metadata": {},
   "source": [
    "98. Comments that walk through each line of this program:"
   ]
  },
  {
   "cell_type": "code",
   "execution_count": null,
   "metadata": {},
   "outputs": [],
   "source": [
    "#this line creates the list of character names\n",
    "characters = ['Arya', ' Benjen', 'Bran', 'Catelyn', 'Eddard', 'Rickon', 'Robb', 'Sansa']\n",
    "\n",
    "#this first print command prints a header for my list \"Members of the House Stark\"\n",
    "print('Members of the House Stark:')\n",
    "\n",
    "#here is the loop from the previous example\n",
    "for character in characters:\n",
    "  #the indentation is important here. This indent indicates that this print command is part of the loop\n",
    "  print(character.title() + \" Stark\")\n",
    "  \n",
    "#this line is not indented, so it is executed after the loop is complete.  \n",
    "print(characters[0].title() + \" is my favorite.\")"
   ]
  },
  {
   "cell_type": "markdown",
   "metadata": {},
   "source": [
    "### Conditional Statements and `for` Loops\n",
    "\n",
    "99. We can also use nested conditional statements as part of `for` loops.\n",
    "\n",
    "#### `for` Loop Example A\n",
    "\n",
    "100. For example, let's say we have `message = 'Hello World!'`, and we want to see in which positions the letter `l` appears.\n",
    "\n",
    "101. Our program would need to...\n",
    "- Iterate over each character in the string\n",
    "- Check to see if that character matches `l`\n",
    "- If the character matches `l`, output some kind of message that indicates the position"
   ]
  },
  {
   "cell_type": "markdown",
   "metadata": {},
   "source": [
    "<blockquote>Q7: Describe how you would start building out code to accomplish this task? What functions, statements, or keywords would you need to use? How would you start to organize this program?</blockquote>\n",
    "\n",
    "<blockquote>Q8: See where you can get with writing this program. What parts of the program were you able to get working? Where did you run into challenges?</blockquote>"
   ]
  },
  {
   "cell_type": "markdown",
   "metadata": {},
   "source": [
    "102. Here is one approach to this program.\n",
    "\n",
    "103. First, we could create a variable with our `Hello World!` string."
   ]
  },
  {
   "cell_type": "code",
   "execution_count": null,
   "metadata": {},
   "outputs": [],
   "source": [
    "message = 'Hello World!'"
   ]
  },
  {
   "cell_type": "markdown",
   "metadata": {},
   "source": [
    "104. Then, we could use a `for` loop with the `enumerate()` function to access each element in the string and its index."
   ]
  },
  {
   "cell_type": "code",
   "execution_count": null,
   "metadata": {},
   "outputs": [],
   "source": [
    "for entry in enumerate(message):\n",
    " print(entry)"
   ]
  },
  {
   "cell_type": "markdown",
   "metadata": {},
   "source": [
    "105. This gets us each character in the string and its index.\n",
    "\n",
    "106. Next, we could use a conditional statement to test for equality."
   ]
  },
  {
   "cell_type": "code",
   "execution_count": null,
   "metadata": {},
   "outputs": [],
   "source": [
    "if entry[1] == 'l':\n",
    " print(f'Found an 'l' at position {entry[0]}')"
   ]
  },
  {
   "cell_type": "markdown",
   "metadata": {},
   "source": [
    "107. In this block of code, we are accessing the second value in the `enumerate()` output for each character in the string.\n",
    "\n",
    "<blockquote>Remember: Python starts counting at zero (0).</blockquote>\n",
    "\n",
    "108. Each iteration through the loop tests if the `entry` character matches `l`.\n",
    "\n",
    "109. If the conditional statement is true, then the `print()` message will output the position index.\n",
    "\n",
    "110. To put that all together:"
   ]
  },
  {
   "cell_type": "code",
   "execution_count": null,
   "metadata": {},
   "outputs": [],
   "source": [
    "message = 'Hello World!'\n",
    "\n",
    "for entry in enumerate(message):\n",
    " print(entry)\n",
    " \n",
    " if entry[1] == 'l':\n",
    "  print(f'Found an 'l' at position {entry[0]}')"
   ]
  },
  {
   "cell_type": "markdown",
   "metadata": {},
   "source": [
    "111. You can modify this code to include other messages or test for other characters."
   ]
  },
  {
   "cell_type": "markdown",
   "metadata": {},
   "source": [
    "<blockquote>Q9: How does the sample program compare to your approach to the previous two questions? What was similar? What was different? How are you thinking differently (if at all) about how to approach this type of program?</blockquote>"
   ]
  },
  {
   "cell_type": "markdown",
   "metadata": {},
   "source": [
    "#### `for` Loop Example B\n",
    "\n",
    "112. Let's work through another example.\n",
    "\n",
    "113. This time, let's say we have a list of names that might be used to refer to Notre Dame's Department of Computer Science and Engineering."
   ]
  },
  {
   "cell_type": "code",
   "execution_count": null,
   "metadata": {},
   "outputs": [],
   "source": [
    "#here is a list of names\n",
    "names=['department of computer science and engineering', 'computer science department', 'cse']"
   ]
  },
  {
   "cell_type": "markdown",
   "metadata": {},
   "source": [
    "114. We want to write a program that prints out `cse` in all upper-case letters, but prints out any other list element in title case.\n",
    "\n",
    "115. Our program would need to...\n",
    "- Iterate over each element in the list\n",
    "- Check to see if that element matches `cse`\n",
    "- If so, print out that element in upper case\n",
    "- Otherwise, print out that element in title case"
   ]
  },
  {
   "cell_type": "markdown",
   "metadata": {},
   "source": [
    "<blockquote>Q10: Describe how you would start building out code to accomplish this task? What functions, statements, or keywords would you need to use? How would you start to organize this program?</blockquote>\n",
    "\n",
    "<blockquote>Q11: See where you can get with writing this program. What parts of the program were you able to get working? Where did you run into challenges?</blockquote>"
   ]
  },
  {
   "cell_type": "markdown",
   "metadata": {},
   "source": [
    "116. Here is one approach to this program.\n",
    "\n",
    "117. First, we could use a `for` loop to iterate through each item in the list."
   ]
  },
  {
   "cell_type": "raw",
   "metadata": {},
   "source": [
    "for name in names:\n",
    " SOMETHING WILL GO HERE"
   ]
  },
  {
   "cell_type": "markdown",
   "metadata": {},
   "source": [
    "118. Then, we could use an `if` statement to test if the element equals `cse`"
   ]
  },
  {
   "cell_type": "raw",
   "metadata": {},
   "source": [
    "if name == 'cse':\n",
    " DO SOMETHING "
   ]
  },
  {
   "cell_type": "markdown",
   "metadata": {},
   "source": [
    "119. Now remember if the element matches `cse`, we want to print the element in upper-case letters.\n",
    "\n",
    "120. So we could finish the `if` statement."
   ]
  },
  {
   "cell_type": "raw",
   "metadata": {},
   "source": [
    "if name == 'cse':\n",
    " print(name.upper())"
   ]
  },
  {
   "cell_type": "markdown",
   "metadata": {},
   "source": [
    "121. If the element does not match `cse`, we want to print the element in title-case letters.\n",
    "\n",
    "122. We can use an `else` statement combined with a `print()` statement."
   ]
  },
  {
   "cell_type": "raw",
   "metadata": {},
   "source": [
    "else:\n",
    " print(name.title())"
   ]
  },
  {
   "cell_type": "markdown",
   "metadata": {},
   "source": [
    "123. To put that all together:"
   ]
  },
  {
   "cell_type": "code",
   "execution_count": null,
   "metadata": {},
   "outputs": [],
   "source": [
    "names=['department of computer science and engineering', 'computer science department', 'cse']\n",
    "\n",
    "for name in names:\n",
    "  if name == 'cse':\n",
    "    print(name.upper())\n",
    "  else:\n",
    "    print(name.title())"
   ]
  },
  {
   "cell_type": "markdown",
   "metadata": {},
   "source": [
    "124. This program returns the output"
   ]
  },
  {
   "cell_type": "raw",
   "metadata": {},
   "source": [
    "`Department of Computer Science and Engineering`\n",
    "`Computer Science Department`\n",
    "`CSE`"
   ]
  },
  {
   "cell_type": "markdown",
   "metadata": {},
   "source": [
    "<blockquote>Q12: How does the sample program compare to your approach to the previous two questions? What was similar? What was different? How are you thinking differently (if at all) about how to approach this type of program?</blockquote>"
   ]
  },
  {
   "cell_type": "markdown",
   "metadata": {},
   "source": [
    "### OPTIONAL: Additional Practice With `for` Loops\n",
    "\n",
    "125. Some tasks if you are wanting additional practice with `for` loops:\n",
    "- Sum all of the odd numbers between 0 and 100.\n",
    "- Find the smallest item in a list of numbers.\n",
    "- Simulate rolling a die until we reach a 5.\n",
    "\n",
    "## `while` Loops\n",
    "\n",
    "126. Another way to modify the control flow of a program is to have it execute one or more statements repeatedly.\n",
    "\n",
    "127. A `while` loop will test for an initial condition and continue iterating through the loop until the condition is `False`.\n",
    "\n",
    "128. In each iteration through the `while` loop, Python will:\n",
    "- Evaluate the initial condition (which is a Boolean true/false expression)\n",
    "- If the condition is `False`, exit the loop and continue the program\n",
    "- If the condition is `True`, then execute other statements in the body of the loop and return to the beginning of the loop\n",
    "\n",
    "129. The basic syntax for a `while` loop:"
   ]
  },
  {
   "cell_type": "raw",
   "metadata": {},
   "source": [
    "while condition:\n",
    " statement(s)"
   ]
  },
  {
   "cell_type": "markdown",
   "metadata": {},
   "source": [
    "130. To express this logic another way:"
   ]
  },
  {
   "cell_type": "raw",
   "metadata": {},
   "source": [
    "while THIS CONDITION IS TRUE\n",
    " DO THIS THING"
   ]
  },
  {
   "cell_type": "markdown",
   "metadata": {},
   "source": [
    "### `while` Loop Examples\n",
    "\n",
    "#### `while` Loop Example A\n",
    "\n",
    "131. Let's look at a sample `while` loop that uses the `<` (less than) comparison operator."
   ]
  },
  {
   "cell_type": "code",
   "execution_count": null,
   "metadata": {},
   "outputs": [],
   "source": [
    "n = 0\n",
    "\n",
    "while n < 10:\n",
    " print(n)\n",
    " n = n +1"
   ]
  },
  {
   "cell_type": "markdown",
   "metadata": {},
   "source": [
    "132. To walk through what is happening in each line of this program...\n",
    "\n",
    "133. `n=0` assigns the value zero (0) to the variable `n`.\n",
    "\n",
    "134. `n < 10` is a conditional statement that will return `True` as long as `n` is less than `10`.\n",
    "\n",
    "135. So `while n < 10` sets up a `while` loop in which the body of the loop (the lines of code nested or indented beneath the first line of the loop) will run as long as the initial condition is `true`.\n",
    "\n",
    "136. The first line in the body of the loop `print(n)` prints the value of `n` for that iteration.\n",
    "\n",
    "137. The second line in the body of the loop `n = n+1` reassigns the value of `n` to be `n + 1`.\n",
    "\n",
    "138. After executing both lines in the body of the loop, the next iteration of the loop begins by evaluating the `n < 10` conditional statement."
   ]
  },
  {
   "cell_type": "markdown",
   "metadata": {},
   "source": [
    "<blockquote>Q13: What is the value of <code>n</code> in the first iteration of the loop? What happens to the value of <code>n</code> in each iteration of the loop?</blockquote>\n",
    "\n",
    "<blockquote>Q14: What is the endpoint for this loop, or when will this loop end?</blockquote>"
   ]
  },
  {
   "cell_type": "markdown",
   "metadata": {},
   "source": [
    "139. REMINDER: Loops that have no endpoint are called *infinite loops*.\n",
    "\n",
    "#### `while` Loop Example B\n",
    "\n",
    "140. Another example of a `while` loop."
   ]
  },
  {
   "cell_type": "code",
   "execution_count": null,
   "metadata": {},
   "outputs": [],
   "source": [
    "# assign x variable\n",
    "x = 10\n",
    "\n",
    "# looping structure using greater than or equal to conditional statement\n",
    "while x >= 0:\n",
    " print(x)\n",
    " x = x-1\n",
    "\n",
    "# message to print once loop has completed\n",
    "print('I'm done!')"
   ]
  },
  {
   "cell_type": "markdown",
   "metadata": {},
   "source": [
    "<blockquote>Q15: Now it's your turn. Describe what is happening in each line of this program. You can use the explanations for the previous example as a model.</blockquote>\n",
    "\n",
    "<blockquote>Q16: What is the value of <code>x</code> in the first iteration of the loop? What happens to the value of <code>x</code> in each iteration of the loop?</blockquote>\n",
    "\n",
    "<blockquote>Q17: What is the endpoint for this loop, or when will this loop end?</blockquote>"
   ]
  },
  {
   "cell_type": "markdown",
   "metadata": {},
   "source": [
    "#### `while` Loop Example C\n",
    "\n",
    "141. Let's look at a `while` loop that includes strings and integers."
   ]
  },
  {
   "cell_type": "code",
   "execution_count": null,
   "metadata": {},
   "outputs": [],
   "source": [
    "count = 1\n",
    "while count <= 5:\n",
    "   print (\"Notre\")\n",
    "   print (\"Dame\")\n",
    "   count = count + 1\n",
    "print (\"Done\")"
   ]
  },
  {
   "cell_type": "markdown",
   "metadata": {},
   "source": [
    "142. On the first line (`count = 1)` we create a variable named `count` and set it equal to one. \n",
    "\n",
    "143. The next statement (`while count <= 5:`) contains a condition `count <= 5`. \n",
    "\n",
    "144. This condition will be evaluated, and if it is true, the statements indented beneath it will be executed. \n",
    "\n",
    "145. Once that has happened, execution returns to the top of the `while` loop, where the condition is checked again. \n",
    "\n",
    "146. This process will continue, with the indented statements being executed repeatedly as long as (i.e., `while`) the condition continues to be true. \n",
    "\n",
    "147. If the condition is ever false when it gets checked, execution will jump to the first statement after those associated with the loop (the first un-indented statement)."
   ]
  },
  {
   "cell_type": "markdown",
   "metadata": {},
   "source": [
    "<blockquote>Q18: What will happen if you remove the statement <code>count = count + 1</code> from this program? Remove the statement to verify your prediction.</blockquote>\n",
    "\n",
    "<blockquote>Q19: Modify the program from step 141 so that it prints some word or phrase nine times, and also prints a line number at the beginning of each line. Answer will include code + comments.</blockquote>"
   ]
  },
  {
   "cell_type": "markdown",
   "metadata": {},
   "source": [
    "148. For example, your output might look like the following: "
   ]
  },
  {
   "cell_type": "raw",
   "metadata": {},
   "source": [
    "1 Python\n",
    "2 Python\n",
    "3 Python\n",
    "4 Python\n",
    "5 Python \n",
    "6 Python\n",
    "7 Python\n",
    "8 Python\n",
    "9 Python\n",
    "IS FUN!"
   ]
  },
  {
   "cell_type": "markdown",
   "metadata": {},
   "source": [
    "### Additional `while` Loop Considerations\n",
    "\n",
    "#### `while` Loops and Nested Conditional Statements\n",
    "\n",
    "149. As with `for` loops, `while` loops let us nested conditional statements.\n",
    "\n",
    "150. We can place any valid python statement within either a while-loop or an if-statement. \n",
    "\n",
    "151. Among other things, this means that we can place loops within loops, or if-statements within if-statements. \n",
    "\n",
    "152. Similarly, we can place if-statements within loops, and vice-versa. This flexibility allows us to solve many complex problems.\n",
    "\n",
    "153. By placing an if-statement within a loop, we can solve problems that require us to make a given decision multiple times. \n",
    "\n",
    "154. An example:"
   ]
  },
  {
   "cell_type": "code",
   "execution_count": null,
   "metadata": {},
   "outputs": [],
   "source": [
    "# assign i variable\n",
    "i = 1\n",
    "\n",
    "# while loop\n",
    "while i < 200:\n",
    " if i > 150:\n",
    "  print('Expression value is greater than 150')\n",
    " elif i > 100:\n",
    "  print('Expression value is greater than 100')\n",
    " elif i > 50:\n",
    "  print('Expression value is greater than 50')\n",
    " elif i < 50:\n",
    "  print('Expression value is less than 50')\n",
    " i += 10\n",
    "\n",
    "print(\"That's all, folks!\")"
   ]
  },
  {
   "cell_type": "markdown",
   "metadata": {},
   "source": [
    "155. In this example, we have a `while` loop that includes four nested conditional statements.\n",
    "\n",
    "156. NOTE: `i += 10` in the last line of the `while` loop reassigns the value of `i` through an expression equivalent to `i = i + 10`."
   ]
  },
  {
   "cell_type": "markdown",
   "metadata": {},
   "source": [
    "<blockquote>Q20: Now it's your turn. Describe what is happening in each line of this program. You can use explanations for previous examples as a model.</blockquote>\n",
    "\n",
    "<blockquote>Q21: What is the value of <code>i</code> in the first iteration of the loop? What happens to the value of <code>i</code> in each iteration of the loop?</blockquote>\n",
    "\n",
    "<blockquote>Q22: What is the endpoint for this loop, or when will this loop end?</blockquote>"
   ]
  },
  {
   "cell_type": "markdown",
   "metadata": {},
   "source": [
    "#### `break`\n",
    "\n",
    "157. We can exit a loop immediately by using the `break` statement.\n",
    "\n",
    "158. `break` will stop the `while` loop even if the condition is true.\n",
    "\n",
    "159. For example:"
   ]
  },
  {
   "cell_type": "code",
   "execution_count": null,
   "metadata": {},
   "outputs": [],
   "source": [
    "# assign i variable \n",
    "i = 1\n",
    "\n",
    "# while loop\n",
    "while i < 6:\n",
    " print(i)\n",
    " if i == 3:\n",
    "  break\n",
    " i += 1"
   ]
  },
  {
   "cell_type": "markdown",
   "metadata": {},
   "source": [
    "160. In this example, the loop breaks as soon as the `i == 3` condition is `True`."
   ]
  },
  {
   "cell_type": "markdown",
   "metadata": {},
   "source": [
    "<blockquote>Q23: Describe what would happen in each iteration of this loop. How many iterations would it take for the <code>break</code> statement to come into effect?</blockquote>"
   ]
  },
  {
   "cell_type": "markdown",
   "metadata": {},
   "source": [
    "#### `continue`\n",
    "\n",
    "161. We can skip the rest of the body of a loop and move on to the next iteration using `continue`.\n",
    "\n",
    "162. For example:"
   ]
  },
  {
   "cell_type": "code",
   "execution_count": null,
   "metadata": {},
   "outputs": [],
   "source": [
    "# assign the i variable\n",
    "i = 0\n",
    "\n",
    "# while loop\n",
    "while i < 6:\n",
    " i += 1\n",
    " if i ==3:\n",
    "  continue\n",
    " print(i)"
   ]
  },
  {
   "cell_type": "markdown",
   "metadata": {},
   "source": [
    "163. In this example, the current iteration of the loop will stop when `i == 3` is true.\n",
    "\n",
    "164. Unlike with `break`, the loop will not end.\n",
    "\n",
    "165. Instead when `i == 3` is true, the loop will skip over the final nested `print` statement and return to the beginning of the loop for a new iteration."
   ]
  },
  {
   "cell_type": "markdown",
   "metadata": {},
   "source": [
    "<blockquote>Q24: Describe what would happen in each iteration of this loop. How many iterations would it take for the <code>break</code> statement to come into effect?</blockquote>\n",
    "\n",
    "<blockquote>Q25: What is the endpoint for this loop, or when will this loop end?</blockquote>"
   ]
  },
  {
   "cell_type": "markdown",
   "metadata": {},
   "source": [
    "## Additional Work With Loops\n",
    "\n",
    "166. The following lab notebook questions can use `for` or `while` loops, a variety of conditional statements and comparison operators, and other Python concepts covered thus far.\n",
    "\n",
    "### Lab Notebook Question 26\n",
    "\n",
    "Q26: Write a loop that prints out all numbers from 0 to 10. Include your code + comments that document how the code works.\n",
    "  \n",
    "### Lab Notebook Question 27\n",
    "\n",
    "Q27: Convert the following Python code to use a while loop instead of a for loop. Include your modified code with comments."
   ]
  },
  {
   "cell_type": "code",
   "execution_count": null,
   "metadata": {},
   "outputs": [],
   "source": [
    "numbers = [5, 4, 7, 0, 1]\n",
    "count   = 0\n",
    "\n",
    "for number in numbers:\n",
    "    if not number:\n",
    "        break\n",
    "    count += 1\n",
    "\n",
    "print(count)"
   ]
  },
  {
   "cell_type": "markdown",
   "metadata": {},
   "source": [
    "### Lab Notebook Question 28\n",
    "\n",
    "Q28: Write a program that prints a list of the first nine positive integers and their squares. Include code + comments.\n",
    "\n",
    "Your output should look similar to the following:"
   ]
  },
  {
   "cell_type": "raw",
   "metadata": {},
   "source": [
    "Number Square\n",
    "1        1\n",
    "2        4\n",
    "3        9\n",
    "4        16\n",
    "5        25\n",
    "6        36\n",
    "7        49\n",
    "8        64\n",
    "9        81"
   ]
  },
  {
   "cell_type": "markdown",
   "metadata": {},
   "source": [
    "### Lab Notebook Question 29\n",
    "\n",
    "Q29: Write a program that counts from 10 down to 1, and then prints \"Blastoff!\" \n",
    "\n",
    "Your output should similar to the following:"
   ]
  },
  {
   "cell_type": "raw",
   "metadata": {},
   "source": [
    "10\n",
    "9\n",
    "8\n",
    "7\n",
    "6\n",
    "5\n",
    "4\n",
    "3\n",
    "2\n",
    "1\n",
    "Blastoff!"
   ]
  },
  {
   "cell_type": "markdown",
   "metadata": {},
   "source": [
    "### Lab Notebook Question 30\n",
    "\n",
    "Q30: Write a program that asks the user to enter three numbers: a starting value, an ending value, and an increment. Your program should then \"count\" based on these criteria, as shown in the sample output below. Include code + comments."
   ]
  },
  {
   "cell_type": "raw",
   "metadata": {},
   "source": [
    "This program counts for you.\n",
    "Enter the starting value: 3\n",
    "Enter the ending value: 13\n",
    "Enter the increment: 2\n",
    "3\n",
    "5\n",
    "7\n",
    "9\n",
    "11\n",
    "13"
   ]
  },
  {
   "cell_type": "markdown",
   "metadata": {},
   "source": [
    "### Lab Notebook Question 31\n",
    "\n",
    "Q31: Write a program that uses a while-loop to print the output shown below. Include code + comments."
   ]
  },
  {
   "cell_type": "raw",
   "metadata": {},
   "source": [
    "1\n",
    "2\n",
    "3\n",
    "4\n",
    "5\n",
    "6\n",
    "7\n",
    "happy\n",
    "8\n",
    "9\n",
    "10"
   ]
  },
  {
   "cell_type": "markdown",
   "metadata": {},
   "source": [
    "The program should print the numbers 1 through 10, except that between 7 and 8 it should print the word \"happy\". This can be accomplished by placing an `if` statement within the `while` loop to do something special for the `lineNumber == 7` case.\n",
    "\n",
    "### Lab Notebook Question 32\n",
    "\n",
    "Q32: Write a program that plays a familiar guessing game.\n",
    "- First your program will set some number to be the \"correct answer\"\n",
    "- Then your program will ask the user to guess this answer until they get it right. \n",
    "- For each guess your program should give a hint based on whether the guess was too high or too low.\n",
    "\n",
    "For example, the output for a session with your program may look like the following:"
   ]
  },
  {
   "cell_type": "raw",
   "metadata": {},
   "source": [
    "Enter your guess: 46\n",
    "Your guess is too low\n",
    "\n",
    "Enter your guess: 97\n",
    "Your guess is too high\n",
    "\n",
    "Enter your guess: 62\n",
    "Your guess is too low\n",
    "\n",
    "Enter your guess: 88\n",
    "Your guess is too high\n",
    "\n",
    "Enter your guess: 82\n",
    "CORRECT! You Win!"
   ]
  },
  {
   "cell_type": "markdown",
   "metadata": {},
   "source": [
    "Things to consider:\n",
    "- Begin your program with a line similar to: answer = 82. In a real game we would want to begin with a random number, but for today let's pick a single number that will always be the correct answer.\n",
    "- This program will require a loop with some if-statements inside it.\n",
    "- Each time through the loop, you must accept a new guess from the user. This can be done by using the function input inside the loop.\n",
    "\n",
    "### Lab Notebook Question 33\n",
    "\n",
    "Q33: Write a program that reads in three strings and prints them out in alphabetical order. Include code + comments.\n",
    "\n",
    "Sample output for this program:"
   ]
  },
  {
   "cell_type": "raw",
   "metadata": {},
   "source": [
    "Enter a word: hello\n",
    "Enter a word: goodbye\n",
    "Enter a word: zebra\n",
    "In alphabetical order: goodbye hello zebra"
   ]
  },
  {
   "cell_type": "markdown",
   "metadata": {},
   "source": [
    "Things to consider:\n",
    "- String comparisons, such as word1 < word2, work by comparing the ASCII values of the characters in the two strings. This means that word1 will be considered \"less than\" word2 if it comes first alphabetically. (Well almost. The ordering can be surprising if we compare capital letters to lower-case letters because all ASCII codes for capitals precede all codes for lower-case letters. I suggest you only enter lower-case words when running your program.)\n",
    "- Be sure to test your program using a variety of words in different orders. How many different combinations do you need to test to know that your program is correct? \n",
    "- This problem only requires if-statements, but your condition will need to be more complex than we have used before. A compound condition is one that includes multiple parts. Here are two examples. You may find that something similar will be useful in this program."
   ]
  },
  {
   "cell_type": "raw",
   "metadata": {},
   "source": [
    "if number > 2 and number < 10:\n",
    "  **do something interesting here**\n",
    "\n",
    "if word1 > word2 and word2 > word 3:\n",
    "  **do something interesting here**"
   ]
  },
  {
   "cell_type": "markdown",
   "metadata": {},
   "source": [
    "### Additional Lab Notebook Questions\n",
    "\n",
    "Q34: In your own words, what is iteration?\n",
    "\n",
    "Q35: In your own words, what is the difference between a `for` loop and a `while` loop?\n"
   ]
  },
  {
   "cell_type": "markdown",
   "metadata": {},
   "source": [
    "# Functions\n",
    "\n",
    "166. In Python, a function is a named sequence of statements that performs a computation.\n",
    "- Key term: *function*\n",
    "\n",
    "167. To execute a function, we call it by name and pass it an appropriate set of input arguments.\n",
    "- Key terms: *function call, input argument*\n",
    "\n",
    "168. A function takes zero or more arguments as inputs and returns zero or more outputs as a result.\n",
    "\n",
    "169. The output or result of a function is called the return value.\n",
    "- Key terms: *function output or return value*\n",
    "\n",
    "170. Data, parameters, or arguments can be passed into a function.\n",
    "\n",
    "171. Functions can also return data.\n",
    "\n",
    "## Built-In Functions\n",
    "\n",
    "172. We have actually already been working with a number of Python's built-in functions.\n",
    "\n",
    "173. These include `print()`, `dict()`, `input()`, `int()`, and `len()`.\n",
    "\n",
    "174. We call built-in functions using the function name, followed by parenthesis.\n",
    "- `print()`\n",
    "- `dict()`\n",
    "- `input()`\n",
    "- `int()`\n",
    "- `len()`\n",
    "\n",
    "## Named Functions\n",
    "\n",
    "175. But Python also allows you to create (and name) your own functions.\n",
    "- Key term: *named function(s)*\n",
    "\n",
    "176. We can define or name a function using the `def` keyword.\n",
    "\n",
    "177. A function definition includes a few core components:\n",
    "- The name of the new function\n",
    "- The list of function arguments\n",
    "- The sequence of statements to execute when the function is called\n",
    "\n",
    "178. The core syntax for defining your own function:"
   ]
  },
  {
   "cell_type": "raw",
   "metadata": {},
   "source": [
    "# use def keyword to define function name\n",
    "def function_name(argument):\n",
    " statement(s)\n",
    " return result"
   ]
  },
  {
   "cell_type": "markdown",
   "metadata": {},
   "source": [
    "179. Let's unpack each of those components.\n",
    "\n",
    "180. `def function_name()` is the name you are giving to the function you create- this is the header for the function definition.\n",
    "\n",
    "181. Function names have many of the same rules as variable names- no spaces or special characters.\n",
    "\n",
    "182. `argument` is the argument that will be passed to the function.\n",
    "\n",
    "183. When we are initially defining the function, the `argument` value is typically a placeholder.\n",
    "\n",
    "184. Later in the program when we call the named function, the argument being passed to the function goes in these parenthesis.\n",
    "\n",
    "185. The nested or indented line `statement(s)` is the body of the function definition.\n",
    "\n",
    "186. It includes a sequence of statements to execute when the function is called.\n",
    "\n",
    "187. The nested or indented line `return result` is a placeholder for the function output or endpoint- it is also part of the body of the function definition.\n",
    "\n",
    "### How Named Functions Work\n",
    "\n",
    "188. So what happens when we use the `def` keyword to create a named function?\n",
    "\n",
    "189. Programs are always executed sequentially, one statement at a time.\n",
    "\n",
    "190. Function definitions create new functions, but do not execute the bodies or statements within the functions UNTIL the functions are called.\n",
    "\n",
    "191. When we call a named function, the program jumps to the definition for the function being called, executes the function's body, and then returns to the point in the program where the function was called and resumes executing the program.\n",
    "\n",
    "192. Let's look at some examples.\n",
    "\n",
    "#### Named Function Examples\n",
    "\n",
    "##### Function Example A\n",
    "\n",
    "193. Let's say we want to create a function that prints an input string three times."
   ]
  },
  {
   "cell_type": "code",
   "execution_count": null,
   "metadata": {},
   "outputs": [],
   "source": [
    "def printThreeTimes(string):\n",
    " for x in range(3):\n",
    "  print(string)"
   ]
  },
  {
   "cell_type": "markdown",
   "metadata": {},
   "source": [
    "194. To walk through what is happening in this function definition...\n",
    "\n",
    "195. `def printThreeTimes(string)` assigns the function name (`printThreeTimes`).\n",
    "\n",
    "196. This is the name we will use when calling this function elsewhere in the program.\n",
    "\n",
    "197. `for x in range(3)` is part of the body of the function.\n",
    "\n",
    "198. This line of code uses a `for` loop to say \"for each integer value in the range leading up to but not including 3,\" do.....something!\n",
    "\n",
    "199. That \"something\" is the `print` statement nested in the `for` loop.\n",
    "\n",
    "200. That `print` statement will output the `string` value each time through the `for` loop.\n",
    "\n",
    "201. Now let's see this named function in action."
   ]
  },
  {
   "cell_type": "code",
   "execution_count": null,
   "metadata": {},
   "outputs": [],
   "source": [
    "string = \"There's no place like home.\"\n",
    "\n",
    "printThreeTimes(string)"
   ]
  },
  {
   "cell_type": "markdown",
   "metadata": {},
   "source": [
    "202. We wouldn't need to assign the string to a variable- we could pass it directly to the function."
   ]
  },
  {
   "cell_type": "code",
   "execution_count": null,
   "metadata": {},
   "outputs": [],
   "source": [
    "printThreeTimes(\"There's no place like home.\")"
   ]
  },
  {
   "cell_type": "markdown",
   "metadata": {},
   "source": [
    "##### Function Example B\n",
    "\n",
    "203. Let's look at another example.\n",
    "\n",
    "204. Here, we want to create a function that prints an input string a specific number of times."
   ]
  },
  {
   "cell_type": "markdown",
   "metadata": {},
   "source": [
    "<blockquote>Q36: Describe how you would start building out code to accomplish this task? What functions, statements, or keywords would you need to use? How would you start to organize this program?</blockquote>\n",
    "\n",
    "<blockquote>Q37: See where you can get with writing this program. What parts of the program were you able to get working? Where did you run into challenges?</blockquote>"
   ]
  },
  {
   "cell_type": "markdown",
   "metadata": {},
   "source": [
    "205. Here is one approach to this task.\n",
    "\n",
    "206. First, we want to define the name of our function, as well as what input arguments it will take.\n",
    "\n",
    "207. We know that we need to pass a string to be printed AND an integer for the number of times to the named function.\n",
    "\n",
    "208. For now, let's call the string `string` and the integer `times`.\n",
    "\n",
    "209. So the function header could look like:"
   ]
  },
  {
   "cell_type": "raw",
   "metadata": {},
   "source": [
    "def printNTimes(string, times):"
   ]
  },
  {
   "cell_type": "markdown",
   "metadata": {},
   "source": [
    "210. We've named the `printNTimes` function and established we will be passing two arguments to the function.\n",
    "\n",
    "211. Next, we could us a `for` loop in combination with the `range()` function to accomplish a specific task for a specific number of iterations."
   ]
  },
  {
   "cell_type": "raw",
   "metadata": {},
   "source": [
    "for x in range(times)"
   ]
  },
  {
   "cell_type": "markdown",
   "metadata": {},
   "source": [
    "212. As in the previous named function example, we can think of the `for` loop as saying \"for each integer value in the range leading up to but not including the `times` value,\" do.....something!\n",
    "\n",
    "213. That \"something\" is the `print` statement nested in the `for` loop.\n",
    "\n",
    "214. That `print` statement will output the `string` value each time through the `for` loop.\n",
    "\n",
    "215. Putting that all together:"
   ]
  },
  {
   "cell_type": "code",
   "execution_count": null,
   "metadata": {},
   "outputs": [],
   "source": [
    "def printNTimes(string, times):\n",
    " for x in range(times):\n",
    "  print(string)"
   ]
  },
  {
   "cell_type": "markdown",
   "metadata": {},
   "source": [
    "216. So now we have a function that prints our string a number of times specified by the `times` value in combination with the `range()` function."
   ]
  },
  {
   "cell_type": "markdown",
   "metadata": {},
   "source": [
    "<blockquote>Q38: How does the sample program compare to your approach to the previous two questions? What was similar? What was different? How are you thinking differently (if at all) about how to approach this type of program?</blockquote>\n",
    "\n",
    "<blockquote>Q39: How would you write a program that calls the function you have created? Include code + comments.</blockquote>"
   ]
  },
  {
   "cell_type": "markdown",
   "metadata": {},
   "source": [
    "<blockquote><a href=\"https://www.w3schools.com/python/python_functions.asp\">Click here</a> for more information on named functions in Python, via W3Schools.</blockquote>\n",
    "\n",
    "### Additional Functions Considerations\n",
    "\n",
    "#### Fruitful Versus Void Functions\n",
    "\n",
    "217. Functions that yield a result are considered fruitful.\n",
    "- Key term: *fruitful function(s)*\n",
    "\n",
    "218. To output a result, a function uses the return statement to pass results back to the function call.\n",
    "\n",
    "219. Functions that perform a computation but do not yield a result are considered void.\n",
    "- Key term: *void function(s)*\n",
    "\n",
    "220. By default, the return value for void functions is `None`.\n",
    "\n",
    "#### Parameters\n",
    "\n",
    "221. Inside a function, the arguments are assigned to local variables, or placeholder variables.\n",
    "\n",
    "222. These local variables are called parameters.\n",
    "- Key term: *parameter*\n",
    "\n",
    "#### Scoping\n",
    "\n",
    "223. The name of the parameter inside the function is separated or isolated from the name outside the function.\n",
    "\n",
    "224. This separation of namespaces is called scoping.\n",
    "- Key term: *scoping*\n",
    "\n",
    "225. An example of scoping:"
   ]
  },
  {
   "cell_type": "code",
   "execution_count": null,
   "metadata": {},
   "outputs": [],
   "source": [
    "# assign x variable\n",
    "x = 1\n",
    "\n",
    "# function definition\n",
    "def print_number(x):\n",
    " print(x)\n",
    " \n",
    "# print x variable\n",
    "print(x)\n",
    "\n",
    "# call named function\n",
    "print_number(2)"
   ]
  },
  {
   "cell_type": "markdown",
   "metadata": {},
   "source": [
    "226. In short, the placeholder variables (or parameters) we use inside the function definition are separated or isolated from any instance where a variable or parameter with the same name is used outside the function definition.\n",
    "\n",
    "<blockquote><a href=\"https://www.w3schools.com/python/python_scope.asp\">Click here</a> to learn more about scope in Python, via W3Schools.</blockquote>\n",
    "\n",
    "#### Docstrings\n",
    "\n",
    "227. We can add comments to a function definition by including a docstring under the function header.\n",
    "- Key term: *docstring*\n",
    "\n",
    "228. As we've learned previously, single-line comments in Python are declared using the `#` symbol, and multi-line comments in Python are declared using the <code>'''</code> symbol.\n",
    "\n",
    "229. Docstrings are declared using triple single quotes (<code>'''</code>) or triple double quotes (`\"\"\"`).\n",
    "\n",
    "230. Best practice is to start the docstring just below the function header.\n",
    "\n",
    "231. Another best practice for docstrings is to begin with a capital letter and end with a period.\n",
    "\n",
    "232. The docstring should briefly describe what the function does.\n",
    "\n",
    "233. Let's see this in action with an example from earlier in the lab."
   ]
  },
  {
   "cell_type": "code",
   "execution_count": null,
   "metadata": {},
   "outputs": [],
   "source": [
    "def printThreeTimes(string):\n",
    " '''Prints an input string three times'''\n",
    " for x in range(3):\n",
    "  print(string)"
   ]
  },
  {
   "cell_type": "markdown",
   "metadata": {},
   "source": [
    "234. We have a couple options for accessing the contents of the docstring elesewhere in the program.\n",
    "\n",
    "235. We can use the `__doc__` method (underscore, underscore, doc, underscore, underscore)."
   ]
  },
  {
   "cell_type": "code",
   "execution_count": null,
   "metadata": {},
   "outputs": [],
   "source": [
    "print(Using __doc__:\")\n",
    "print(printThreeTimes.__doc__)"
   ]
  },
  {
   "cell_type": "markdown",
   "metadata": {},
   "source": [
    "236. Or we can use the `help()` function."
   ]
  },
  {
   "cell_type": "code",
   "execution_count": null,
   "metadata": {},
   "outputs": [],
   "source": [
    "print(\"Using help:\")\n",
    "help(printThreeTimes)"
   ]
  },
  {
   "cell_type": "markdown",
   "metadata": {},
   "source": [
    "237. Multi-line docstrings can be used to provide additional description about the named function, including information about parameters, arguments, and returns.\n",
    "\n",
    "<blockquote><a href=\"https://www.python.org/dev/peps/pep-0257/\">Click here</a> to learn more about docstrings in Python, via Python.org documentation.</blockquote>\n",
    "\n",
    "## Why Functions\n",
    "\n",
    "238. By this point in the lab, your brain might be hurting. Mine is.\n",
    "\n",
    "239. Let's take a step back and think about *why* we would want or need to use functions in our code.\n",
    "\n",
    "<p align=\"center\"><a href=\"https://github.com/kwaldenphd/python-conditional-statements-functions/blob/main/Python_Function_Meme.png?raw=true\"><img class=\"aligncenter\" src=\"https://github.com/kwaldenphd/python-conditional-statements-functions/blob/main/Python_Function_Meme.png?raw=true\" /></a></p>\n",
    "\n",
    "240. Python functions can help with programming tasks in a number of key ways.\n",
    "\n",
    "241. They help yield **more concise code*** by eliminating the need to write out code for the same task multiple times.\n",
    "\n",
    "242. In doing so, they also **improve code readability**.\n",
    "\n",
    "243. Functions also help us **more effectively test and debug code**.\n",
    "\n",
    "244. Again, because we are creating reusable pieces or building blocks of code, we can more readily pinpoint where things are going wrong or not working in our code.\n",
    "\n",
    "245. By allowing us to define and call functions for common tasks, they **promote code reuse and modularity**."
   ]
  },
  {
   "cell_type": "markdown",
   "metadata": {},
   "source": [
    "## Additional Work With Functions\n",
    "\n",
    "Q40: Write a function `is_even` that determines whether or not a number `n` is even. Include code + comments for the function definition as well as a sample function call.\n",
    "\n",
    "Q41: Write a function `average` that determines the average value of a list. Include code + comments for the function definition as well as a sample function call.\n",
    "\n",
    "Q42: Write a function `uniq` that takes a list and returns a new list containing only unique values. Include code + comments for the function definition as well as a sample function call.\n",
    "\n",
    "Q43: The Python code below is suppose to create a function that determines if the given list of numbers is sorted. That is, the function should return `True` if each item in the list is less than the next item. Unfortunately, there are a few errors in the code below. Identify the errors and fix the code. Include your modified code with comments that document what changes you made to address the errors."
   ]
  },
  {
   "cell_type": "code",
   "execution_count": null,
   "metadata": {},
   "outputs": [],
   "source": [
    "is_sorted([1, 2, 3, 4, 2])\n",
    "\n",
    "def is_sorted(numbers):\n",
    "    ''' Return whether or not the list of numbers is sorted '''\n",
    "    for i in range(len(numbers) - 1):\n",
    "        if numbers[i] > numbers[i + 1]:\n",
    "            return False\n",
    "    return True"
   ]
  },
  {
   "cell_type": "markdown",
   "metadata": {},
   "source": [
    "Q44: In your own words, what is a function?\n",
    "\n",
    "Q45: In your own words, how do we create a function?\n",
    "\n",
    "Q46: In your own words, what is an argument or parameter?\n",
    "\n",
    "Q47: In your own words, what is a return value?\n",
    "\n",
    "Q48: Why would we use functions, or what is the value of functions?"
   ]
  },
  {
   "cell_type": "markdown",
   "metadata": {},
   "source": [
    "# Lab Notebook Questions\n",
    "\n",
    "Q1: Provide your code + comments for steps 37-42.\n",
    "\n",
    "Q2: Describe how you approached writing the program for Q1.\n",
    "\n",
    "Q3: Return to the program you wrote for Q1 and Q2. Modify this program so it prints one message if the user enters your favorite color, and a different message if not. In addition, your program should print a final message for every user, regardless of what they entered. Include code + comments.\n",
    "\n",
    "Q4: Explain what this program will output and why."
   ]
  },
  {
   "cell_type": "code",
   "execution_count": null,
   "metadata": {},
   "outputs": [],
   "source": [
    "fruits = ['apple', 'pear', 'orange']\n",
    "\n",
    "#a test to see if apple is on the list\n",
    "if 'apple' in fruits:\n",
    "  print('Would you like an apple?')\n",
    "else:\n",
    "  print('Sorry, we are all out of apples.')\n",
    "\n",
    "#a test to see if banana is NOT on the list\n",
    "if 'banana' not in fruits:\n",
    "  print('Yes, we have no bananas')\n",
    "else:\n",
    "  print('Would you like a banana?')"
   ]
  },
  {
   "cell_type": "markdown",
   "metadata": {},
   "source": [
    "Q5: What do you think will happen if we write a `for` loop for `numlist`? What would be a single element in the list?"
   ]
  },
  {
   "cell_type": "code",
   "execution_count": null,
   "metadata": {},
   "outputs": [],
   "source": [
    "numlist = [[0, 42], [67543, -987654]]"
   ]
  },
  {
   "cell_type": "markdown",
   "metadata": {},
   "source": [
    "Q6: What do you expect this code to output? Explain how this program works in your own words."
   ]
  },
  {
   "cell_type": "code",
   "execution_count": null,
   "metadata": {},
   "outputs": [],
   "source": [
    "characters = ['Arya', ' Benjen', 'Bran', 'Catelyn', 'Eddard', 'Rickon', 'Robb', 'Sansa']\n",
    "print('Members of the House Stark:')\n",
    "for character in characters:\n",
    "  print(character.title() + \" Stark\")\n",
    "print(characters[0].title() + \" is my favorite.\")"
   ]
  },
  {
   "cell_type": "markdown",
   "metadata": {},
   "source": [
    "Q7: Describe how you would start building out code to accomplish this task? What functions, statements, or keywords would you need to use? How would you start to organize this program?\n",
    "\n",
    "Q8: See where you can get with writing this program. What parts of the program were you able to get working? Where did you run into challenges?\n",
    "\n",
    "Q9: How does the sample program compare to your approach to the previous two questions? What was similar? What was different? How are you thinking differently (if at all) about how to approach this type of program?\n",
    "\n",
    "Q10: Describe how you would start building out code to accomplish this task? What functions, statements, or keywords would you need to use? How would you start to organize this program?\n",
    "\n",
    "Q11: See where you can get with writing this program. What parts of the program were you able to get working? Where did you run into challenges?\n",
    "\n",
    "Q12: How does the sample program compare to your approach to the previous two questions? What was similar? What was different? How are you thinking differently (if at all) about how to approach this type of program?\n",
    "\n",
    "Q13: What is the value of n in the first iteration of the loop? What happens to the value of n in each iteration of the loop?\n",
    "\n",
    "Q14: What is the endpoint for this loop, or when will this loop end?\n",
    "\n",
    "Q15: Now it's your turn. Describe what is happening in each line of this program. You can use the explanations for the previous example as a model.\n",
    "\n",
    "Q16: What is the value of x in the first iteration of the loop? What happens to the value of x in each iteration of the loop?\n",
    "\n",
    "Q17: What is the endpoint for this loop, or when will this loop end?\n",
    "\n",
    "Q18: What will happen if you remove the statement count = count + 1 from this program? Remove the statement to verify your prediction.\n",
    "\n",
    "Q19: Modify the program from step 141 so that it prints some word or phrase nine times, and also prints a line number at the beginning of each line. Answer will include code + comments.\n",
    "\n",
    "Q20: Now it's your turn. Describe what is happening in each line of this program. You can use explanations for previous examples as a model."
   ]
  },
  {
   "cell_type": "code",
   "execution_count": null,
   "metadata": {},
   "outputs": [],
   "source": [
    "# assign i variable\n",
    "i = 1\n",
    "\n",
    "# while loop\n",
    "while i < 200:\n",
    " if i > 150:\n",
    "  print('Expression value is greater than 150')\n",
    " elif i > 100:\n",
    "  print('Expression value is greater than 100')\n",
    " elif i > 50:\n",
    "  print('Expression value is greater than 50')\n",
    " elif i < 50:\n",
    "  print('Expression value is less than 50')\n",
    " i += 10\n",
    "\n",
    "print(\"That's all, folks!\")"
   ]
  },
  {
   "cell_type": "markdown",
   "metadata": {},
   "source": [
    "Q21: What is the value of i in the first iteration of the loop? What happens to the value of i in each iteration of the loop?\n",
    "\n",
    "Q22: What is the endpoint for this loop, or when will this loop end?\n",
    "\n",
    "Q23: Describe what would happen in each iteration of this loop. How many iterations would it take for the break statement to come into effect?"
   ]
  },
  {
   "cell_type": "code",
   "execution_count": null,
   "metadata": {},
   "outputs": [],
   "source": [
    "# assign i variable \n",
    "i = 1\n",
    "\n",
    "# while loop\n",
    "while i < 6:\n",
    " print(i)\n",
    " if i == 3:\n",
    "  break\n",
    " i += 1"
   ]
  },
  {
   "cell_type": "markdown",
   "metadata": {},
   "source": [
    "Q24: Describe what would happen in each iteration of this loop. How many iterations would it take for the break statement to come into effect?"
   ]
  },
  {
   "cell_type": "code",
   "execution_count": null,
   "metadata": {},
   "outputs": [],
   "source": [
    "# assign the i variable\n",
    "i = 0\n",
    "\n",
    "# while loop\n",
    "while i < 6:\n",
    " i += 1\n",
    " if i ==3:\n",
    "  continue\n",
    " print(i)"
   ]
  },
  {
   "cell_type": "markdown",
   "metadata": {},
   "source": [
    "Q25: What is the endpoint for this loop, or when will this loop end?\n",
    "\n",
    "Q26: Write a loop that prints out all numbers from 0 to 10. Include your code + comments that document how the code works.\n",
    "\n",
    "Q27: Convert the following Python code to use a while loop instead of a for loop. Include your modified code with comments.\n"
   ]
  },
  {
   "cell_type": "code",
   "execution_count": null,
   "metadata": {},
   "outputs": [],
   "source": [
    "numbers = [5, 4, 7, 0, 1]\n",
    "count   = 0\n",
    "\n",
    "for number in numbers:\n",
    "    if not number:\n",
    "        break\n",
    "    count += 1\n",
    "\n",
    "print(count)"
   ]
  },
  {
   "cell_type": "markdown",
   "metadata": {},
   "source": [
    "Q28: Write a program that prints a list of the first nine positive integers and their squares. Include code + comments.\n",
    "\n",
    "Q29: Write a program that counts from 10 down to 1, and then prints \"Blastoff!\"\n",
    "\n",
    "Q30: Write a program that asks the user to enter three numbers: a starting value, an ending value, and an increment. Your program should then \"count\" based on these criteria, as shown in the sample output below. Include code + comments.\n",
    "\n",
    "Q31: Write a program that uses a `while` loop to print the output shown below. Include code + comments. The program should print the numbers 1 through 10, except that between 7 and 8 it should print the word \"happy\". This can be accomplished by placing an `if` statement within the `while` loop to do something special for the `lineNumber == 7` case."
   ]
  },
  {
   "cell_type": "raw",
   "metadata": {},
   "source": [
    "1\n",
    "2\n",
    "3\n",
    "4\n",
    "5\n",
    "6\n",
    "7\n",
    "happy\n",
    "8\n",
    "9\n",
    "10"
   ]
  },
  {
   "cell_type": "markdown",
   "metadata": {},
   "source": [
    "Q32: Write a program that plays a familiar guessing game.\n",
    "- First your program will set some number to be the \"correct answer\"\n",
    "- Then your program will ask the user to guess this answer until they get it right.\n",
    "- For each guess your program should give a hint based on whether the guess was too high or too low.\n",
    "\n",
    "Q33: Write a program that reads in three strings and prints them out in alphabetical order. Include code + comments.\n",
    "\n",
    "Q34: In your own words, what is iteration?\n",
    "\n",
    "Q35: In your own words, what is the difference between a for loop and a while loop?\n",
    "\n",
    "Q36: Describe how you would start building out code to accomplish this task? What functions, statements, or keywords would you need to use? How would you start to organize this program?\n",
    "\n",
    "Q37: See where you can get with writing this program. What parts of the program were you able to get working? Where did you run into challenges?\n",
    "\n",
    "Q38: How does the sample program compare to your approach to the previous two questions? What was similar? What was different? How are you thinking differently (if at all) about how to approach this type of program?\n",
    "\n",
    "Q39: How would you write a program that calls the function you have created? Include code + comments.\n",
    "\n",
    "Q40: Write a function is_even that determines whether or not a number n is even. Include code + comments for the function definition as well as a sample function call.\n",
    "\n",
    "Q41: Write a function average that determines the average value of a list. Include code + comments for the function definition as well as a sample function call.\n",
    "\n",
    "Q42: Write a function uniq that takes a list and returns a new list containing only unique values. Include code + comments for the function definition as well as a sample function call.\n",
    "\n",
    "Q43: The Python code below is suppose to create a function that determines if the given list of numbers is sorted. That is, the function should return True if each item in the list is less than the next item. Unfortunately, there are a few errors in the code below. Identify the errors and fix the code. Include your modified code with comments that document what changes you made to address the errors."
   ]
  },
  {
   "cell_type": "code",
   "execution_count": null,
   "metadata": {},
   "outputs": [],
   "source": [
    "is_sorted([1, 2, 3, 4, 2])\n",
    "\n",
    "def is_sorted(numbers):\n",
    "    ''' Return whether or not the list of numbers is sorted '''\n",
    "    for i in range(len(numbers) - 1):\n",
    "        if numbers[i] > numbers[i + 1]:\n",
    "            return False\n",
    "    return True"
   ]
  },
  {
   "cell_type": "markdown",
   "metadata": {},
   "source": [
    "\n",
    "Q44: In your own words, what is a function?\n",
    "\n",
    "Q45: In your own words, how do we create a function?\n",
    "\n",
    "Q46: In your own words, what is an argument or parameter?\n",
    "\n",
    "Q47: In your own words, what is a return value?\n",
    "\n",
    "Q48: Why would we use functions, or what is the value of functions?"
   ]
  }
 ],
 "metadata": {
  "kernelspec": {
   "display_name": "Python 3",
   "language": "python",
   "name": "python3"
  },
  "language_info": {
   "codemirror_mode": {
    "name": "ipython",
    "version": 3
   },
   "file_extension": ".py",
   "mimetype": "text/x-python",
   "name": "python",
   "nbconvert_exporter": "python",
   "pygments_lexer": "ipython3",
   "version": "3.8.5"
  }
 },
 "nbformat": 4,
 "nbformat_minor": 4
}
